{
  "cells": [
    {
      "cell_type": "markdown",
      "metadata": {
        "id": "nTSf4ro-qU0d"
      },
      "source": [
        "## Бонусное задание: word2vec на PyTorch\n",
        "\n",
        "Как вы уже могли заметить, идея, лежащая в основе [word2vec](https://arxiv.org/pdf/1310.4546), достаточно общая. В данном задании вы реализуете его самостоятельно.\n",
        "\n",
        "Дисклеймер: не стоит удивляться тому, что реализация от `gensim` (или аналоги) обучается быстрее и работает точнее. Она использует множество доработок и ускорений, а также достаточно эффективный код. Ваша задача добиться промежуточных результатов за разумное время.\n",
        "\n",
        "P.s. Как ни странно, GPU в этом задании нам не потребуется."
      ]
    },
    {
      "cell_type": "markdown",
      "metadata": {
        "id": "eJZWvRaFxqk0"
      },
      "source": [
        "__Requirements:__ if you're running locally, in the selected environment run the following command:\n",
        "\n",
        "```pip install --upgrade nltk bokeh umap-learn```\n"
      ]
    },
    {
      "cell_type": "code",
      "execution_count": 1,
      "metadata": {
        "id": "Oipe2DU8qfm7",
        "colab": {
          "base_uri": "https://localhost:8080/"
        },
        "collapsed": true,
        "outputId": "d9171d7b-f869-442e-9656-3b3b46b23ae6"
      },
      "outputs": [
        {
          "output_type": "stream",
          "name": "stdout",
          "text": [
            "Requirement already satisfied: nltk in /usr/local/lib/python3.10/dist-packages (3.8.1)\n",
            "Collecting nltk\n",
            "  Downloading nltk-3.9.1-py3-none-any.whl.metadata (2.9 kB)\n",
            "Requirement already satisfied: bokeh in /usr/local/lib/python3.10/dist-packages (3.4.3)\n",
            "Collecting bokeh\n",
            "  Downloading bokeh-3.6.0-py3-none-any.whl.metadata (12 kB)\n",
            "Collecting umap-learn\n",
            "  Downloading umap_learn-0.5.7-py3-none-any.whl.metadata (21 kB)\n",
            "Requirement already satisfied: click in /usr/local/lib/python3.10/dist-packages (from nltk) (8.1.7)\n",
            "Requirement already satisfied: joblib in /usr/local/lib/python3.10/dist-packages (from nltk) (1.4.2)\n",
            "Requirement already satisfied: regex>=2021.8.3 in /usr/local/lib/python3.10/dist-packages (from nltk) (2024.9.11)\n",
            "Requirement already satisfied: tqdm in /usr/local/lib/python3.10/dist-packages (from nltk) (4.66.5)\n",
            "Requirement already satisfied: Jinja2>=2.9 in /usr/local/lib/python3.10/dist-packages (from bokeh) (3.1.4)\n",
            "Requirement already satisfied: contourpy>=1.2 in /usr/local/lib/python3.10/dist-packages (from bokeh) (1.3.0)\n",
            "Requirement already satisfied: numpy>=1.16 in /usr/local/lib/python3.10/dist-packages (from bokeh) (1.26.4)\n",
            "Requirement already satisfied: packaging>=16.8 in /usr/local/lib/python3.10/dist-packages (from bokeh) (24.1)\n",
            "Requirement already satisfied: pandas>=1.2 in /usr/local/lib/python3.10/dist-packages (from bokeh) (2.2.2)\n",
            "Requirement already satisfied: pillow>=7.1.0 in /usr/local/lib/python3.10/dist-packages (from bokeh) (10.4.0)\n",
            "Requirement already satisfied: PyYAML>=3.10 in /usr/local/lib/python3.10/dist-packages (from bokeh) (6.0.2)\n",
            "Requirement already satisfied: tornado>=6.2 in /usr/local/lib/python3.10/dist-packages (from bokeh) (6.3.3)\n",
            "Requirement already satisfied: xyzservices>=2021.09.1 in /usr/local/lib/python3.10/dist-packages (from bokeh) (2024.9.0)\n",
            "Requirement already satisfied: scipy>=1.3.1 in /usr/local/lib/python3.10/dist-packages (from umap-learn) (1.13.1)\n",
            "Requirement already satisfied: scikit-learn>=0.22 in /usr/local/lib/python3.10/dist-packages (from umap-learn) (1.5.2)\n",
            "Requirement already satisfied: numba>=0.51.2 in /usr/local/lib/python3.10/dist-packages (from umap-learn) (0.60.0)\n",
            "Collecting pynndescent>=0.5 (from umap-learn)\n",
            "  Downloading pynndescent-0.5.13-py3-none-any.whl.metadata (6.8 kB)\n",
            "Requirement already satisfied: MarkupSafe>=2.0 in /usr/local/lib/python3.10/dist-packages (from Jinja2>=2.9->bokeh) (3.0.2)\n",
            "Requirement already satisfied: llvmlite<0.44,>=0.43.0dev0 in /usr/local/lib/python3.10/dist-packages (from numba>=0.51.2->umap-learn) (0.43.0)\n",
            "Requirement already satisfied: python-dateutil>=2.8.2 in /usr/local/lib/python3.10/dist-packages (from pandas>=1.2->bokeh) (2.8.2)\n",
            "Requirement already satisfied: pytz>=2020.1 in /usr/local/lib/python3.10/dist-packages (from pandas>=1.2->bokeh) (2024.2)\n",
            "Requirement already satisfied: tzdata>=2022.7 in /usr/local/lib/python3.10/dist-packages (from pandas>=1.2->bokeh) (2024.2)\n",
            "Requirement already satisfied: threadpoolctl>=3.1.0 in /usr/local/lib/python3.10/dist-packages (from scikit-learn>=0.22->umap-learn) (3.5.0)\n",
            "Requirement already satisfied: six>=1.5 in /usr/local/lib/python3.10/dist-packages (from python-dateutil>=2.8.2->pandas>=1.2->bokeh) (1.16.0)\n",
            "Downloading nltk-3.9.1-py3-none-any.whl (1.5 MB)\n",
            "\u001b[2K   \u001b[90m━━━━━━━━━━━━━━━━━━━━━━━━━━━━━━━━━━━━━━━━\u001b[0m \u001b[32m1.5/1.5 MB\u001b[0m \u001b[31m17.1 MB/s\u001b[0m eta \u001b[36m0:00:00\u001b[0m\n",
            "\u001b[?25hDownloading bokeh-3.6.0-py3-none-any.whl (6.9 MB)\n",
            "\u001b[2K   \u001b[90m━━━━━━━━━━━━━━━━━━━━━━━━━━━━━━━━━━━━━━━━\u001b[0m \u001b[32m6.9/6.9 MB\u001b[0m \u001b[31m26.3 MB/s\u001b[0m eta \u001b[36m0:00:00\u001b[0m\n",
            "\u001b[?25hDownloading umap_learn-0.5.7-py3-none-any.whl (88 kB)\n",
            "\u001b[2K   \u001b[90m━━━━━━━━━━━━━━━━━━━━━━━━━━━━━━━━━━━━━━━━\u001b[0m \u001b[32m88.8/88.8 kB\u001b[0m \u001b[31m3.2 MB/s\u001b[0m eta \u001b[36m0:00:00\u001b[0m\n",
            "\u001b[?25hDownloading pynndescent-0.5.13-py3-none-any.whl (56 kB)\n",
            "\u001b[2K   \u001b[90m━━━━━━━━━━━━━━━━━━━━━━━━━━━━━━━━━━━━━━━━\u001b[0m \u001b[32m56.9/56.9 kB\u001b[0m \u001b[31m2.3 MB/s\u001b[0m eta \u001b[36m0:00:00\u001b[0m\n",
            "\u001b[?25hInstalling collected packages: nltk, pynndescent, bokeh, umap-learn\n",
            "  Attempting uninstall: nltk\n",
            "    Found existing installation: nltk 3.8.1\n",
            "    Uninstalling nltk-3.8.1:\n",
            "      Successfully uninstalled nltk-3.8.1\n",
            "  Attempting uninstall: bokeh\n",
            "    Found existing installation: bokeh 3.4.3\n",
            "    Uninstalling bokeh-3.4.3:\n",
            "      Successfully uninstalled bokeh-3.4.3\n",
            "\u001b[31mERROR: pip's dependency resolver does not currently take into account all the packages that are installed. This behaviour is the source of the following dependency conflicts.\n",
            "panel 1.4.5 requires bokeh<3.5.0,>=3.4.0, but you have bokeh 3.6.0 which is incompatible.\u001b[0m\u001b[31m\n",
            "\u001b[0mSuccessfully installed bokeh-3.6.0 nltk-3.9.1 pynndescent-0.5.13 umap-learn-0.5.7\n"
          ]
        }
      ],
      "source": [
        "!pip install --upgrade nltk bokeh umap-learn"
      ]
    },
    {
      "cell_type": "code",
      "execution_count": 64,
      "metadata": {
        "id": "pqPU4Lu2qU0h"
      },
      "outputs": [],
      "source": [
        "import itertools\n",
        "import random\n",
        "import string\n",
        "from collections import Counter\n",
        "from itertools import chain\n",
        "\n",
        "import matplotlib.pyplot as plt\n",
        "import numpy as np\n",
        "import torch\n",
        "import torch.autograd as autograd\n",
        "import torch.nn as nn\n",
        "import torch.nn.functional as F\n",
        "import torch.optim as optim\n",
        "import umap\n",
        "from IPython.display import clear_output\n",
        "from matplotlib import pyplot as plt\n",
        "from nltk.tokenize import WordPunctTokenizer\n",
        "from torch.optim.lr_scheduler import ReduceLROnPlateau, StepLR\n",
        "from tqdm.auto import tqdm as tqdma"
      ]
    },
    {
      "cell_type": "code",
      "execution_count": 65,
      "metadata": {
        "id": "8Fbx57z3qU0i",
        "collapsed": true
      },
      "outputs": [],
      "source": [
        "# download the data:\n",
        "# !wget https://www.dropbox.com/s/obaitrix9jyu84r/quora.txt?dl=1 -O ./quora.txt -nc\n",
        "# alternative download link: https://yadi.sk/i/BPQrUu1NaTduEw"
      ]
    },
    {
      "cell_type": "code",
      "execution_count": 66,
      "metadata": {
        "colab": {
          "base_uri": "https://localhost:8080/",
          "height": 35
        },
        "id": "8EYy5dQpqU0i",
        "outputId": "3b926e00-b6de-49bd-dcd9-84a3d7b917ea",
        "scrolled": false
      },
      "outputs": [
        {
          "output_type": "execute_result",
          "data": {
            "text/plain": [
              "\"What TV shows or books help you read people's body language?\\n\""
            ],
            "application/vnd.google.colaboratory.intrinsic+json": {
              "type": "string"
            }
          },
          "metadata": {},
          "execution_count": 66
        }
      ],
      "source": [
        "data = list(open(\"quora.txt\", encoding=\"utf-8\"))\n",
        "data[50]"
      ]
    },
    {
      "cell_type": "markdown",
      "metadata": {
        "id": "feBEGI2eqU0j"
      },
      "source": [
        "Токенизация – первый шаг.\n",
        "Тексты, с которыми мы работаем, включают в себя пунктуацию, смайлики и прочие нестандартные токены, так что простой `str.split` не подойдет.\n",
        "\n",
        "Обратимся к `nltk` - библиотеку, нашла широкое применеие в области NLP."
      ]
    },
    {
      "cell_type": "code",
      "execution_count": 67,
      "metadata": {
        "colab": {
          "base_uri": "https://localhost:8080/"
        },
        "id": "7mWTvm50qU0j",
        "outputId": "f6be4fb4-b763-49c6-a166-f31757aa3f7e"
      },
      "outputs": [
        {
          "output_type": "stream",
          "name": "stdout",
          "text": [
            "['What', 'TV', 'shows', 'or', 'books', 'help', 'you', 'read', 'people', \"'\", 's', 'body', 'language', '?']\n"
          ]
        }
      ],
      "source": [
        "tokenizer = WordPunctTokenizer()\n",
        "\n",
        "print(tokenizer.tokenize(data[50]))"
      ]
    },
    {
      "cell_type": "code",
      "execution_count": 68,
      "metadata": {
        "id": "HzC05EHWqU0j"
      },
      "outputs": [],
      "source": [
        "data_tok = [\n",
        "    tokenizer.tokenize(\n",
        "        line.translate(str.maketrans(\"\", \"\", string.punctuation)).lower()\n",
        "    )\n",
        "    for line in data\n",
        "]\n",
        "data_tok = [x for x in data_tok if len(x) >= 3]"
      ]
    },
    {
      "cell_type": "markdown",
      "metadata": {
        "id": "6azRAgHIqU0k"
      },
      "source": [
        "Несколько проверок:"
      ]
    },
    {
      "cell_type": "code",
      "execution_count": 69,
      "metadata": {
        "id": "Cp8UpxdWqU0k"
      },
      "outputs": [],
      "source": [
        "assert all(\n",
        "    isinstance(row, (list, tuple)) for row in data_tok\n",
        "), \"please convert each line into a list of tokens (strings)\"\n",
        "assert all(\n",
        "    all(isinstance(tok, str) for tok in row) for row in data_tok\n",
        "), \"please convert each line into a list of tokens (strings)\"\n",
        "is_latin = lambda tok: all(\"a\" <= x.lower() <= \"z\" for x in tok)\n",
        "assert all(\n",
        "    map(lambda l: not is_latin(l) or l.islower(), map(\" \".join, data_tok))\n",
        "), \"please make sure to lowercase the data\""
      ]
    },
    {
      "cell_type": "markdown",
      "metadata": {
        "id": "37e7-MIhqU0x"
      },
      "source": [
        "Ниже заданы константы ширины окна контекста и проведена предобработка для построения skip-gram модели."
      ]
    },
    {
      "cell_type": "code",
      "execution_count": 70,
      "metadata": {
        "id": "fugc1IomqU0x"
      },
      "outputs": [],
      "source": [
        "min_count = 5\n",
        "window_radius = 5"
      ]
    },
    {
      "cell_type": "code",
      "execution_count": 71,
      "metadata": {
        "id": "6Jb5SRKyxqk2"
      },
      "outputs": [],
      "source": [
        "vocabulary_with_counter = Counter(chain.from_iterable(data_tok))\n",
        "\n",
        "word_count_dict = dict()\n",
        "for word, counter in vocabulary_with_counter.items():\n",
        "    if counter >= min_count:\n",
        "        word_count_dict[word] = counter\n",
        "\n",
        "vocabulary = set(word_count_dict.keys())\n",
        "del vocabulary_with_counter"
      ]
    },
    {
      "cell_type": "code",
      "execution_count": 72,
      "metadata": {
        "id": "G6LmwpLQxqk2"
      },
      "outputs": [],
      "source": [
        "word_to_index = {word: index for index, word in enumerate(vocabulary)}\n",
        "index_to_word = {index: word for word, index in word_to_index.items()}"
      ]
    },
    {
      "cell_type": "markdown",
      "metadata": {
        "id": "4Y8rlBfqqU0x"
      },
      "source": [
        "Пары `(слово, контекст)` на основе доступного датасета сгенерированы ниже."
      ]
    },
    {
      "cell_type": "code",
      "execution_count": 73,
      "metadata": {
        "id": "h2-aqyyaqU0x",
        "colab": {
          "base_uri": "https://localhost:8080/"
        },
        "outputId": "977e454c-a645-4fae-97f5-b330c9fb1790"
      },
      "outputs": [
        {
          "output_type": "stream",
          "name": "stdout",
          "text": [
            "Generated 40220313 pairs of target and context words.\n"
          ]
        }
      ],
      "source": [
        "context_pairs = []\n",
        "\n",
        "for text in data_tok:\n",
        "    for i, central_word in enumerate(text):\n",
        "        context_indices = range(\n",
        "            max(0, i - window_radius), min(i + window_radius, len(text))\n",
        "        )\n",
        "        for j in context_indices:\n",
        "            if j == i:\n",
        "                continue\n",
        "            context_word = text[j]\n",
        "            if central_word in vocabulary and context_word in vocabulary:\n",
        "                context_pairs.append(\n",
        "                    (word_to_index[central_word], word_to_index[context_word])\n",
        "                )\n",
        "\n",
        "print(f\"Generated {len(context_pairs)} pairs of target and context words.\")"
      ]
    },
    {
      "cell_type": "markdown",
      "metadata": {
        "id": "KTvdii_Txqk2"
      },
      "source": [
        "#### Подзадача №1: subsampling\n",
        "Для того, чтобы сгладить разницу в частоте встречаемсости слов, необходимо реализовать механизм subsampling'а.\n",
        "Для этого вам необходимо реализовать функцию ниже.\n",
        "\n",
        "Вероятность **исключить** слово из обучения (на фиксированном шаге) вычисляется как\n",
        "$$\n",
        "P_\\text{drop}(w_i)=1 - \\sqrt{\\frac{t}{f(w_i)}},\n",
        "$$\n",
        "где $f(w_i)$ – нормированная частота встречаемости слова, а $t$ – заданный порог (threshold)."
      ]
    },
    {
      "cell_type": "code",
      "execution_count": 74,
      "metadata": {
        "id": "GS6YXF2pxqk2"
      },
      "outputs": [],
      "source": [
        "def subsample_frequent_words(word_count_dict, threshold=1e-5):\n",
        "    \"\"\"\n",
        "    Calculates the subsampling probabilities for words based on their frequencies.\n",
        "\n",
        "    This function is used to determine the probability of keeping a word in the dataset\n",
        "    when subsampling frequent words. The method used is inspired by the subsampling approach\n",
        "    in Word2Vec, where each word's frequency affects its probability of being kept.\n",
        "\n",
        "    Parameters:\n",
        "    - word_count_dict (dict): A dictionary where keys are words and values are the counts of those words.\n",
        "    - threshold (float, optional): A threshold parameter used to adjust the frequency of word subsampling.\n",
        "                                   Defaults to 1e-5.\n",
        "\n",
        "    Returns:\n",
        "    - dict: A dictionary where keys are words and values are the probabilities of keeping each word.\n",
        "\n",
        "    Example:\n",
        "    >>> word_counts = {'the': 5000, 'is': 1000, 'apple': 50}\n",
        "    >>> subsample_frequent_words(word_counts)\n",
        "    {'the': 0.028, 'is': 0.223, 'apple': 1.0}\n",
        "    \"\"\"\n",
        "\n",
        "    total_words = sum(word_count_dict.values())\n",
        "\n",
        "    keep_prob_dict = {}\n",
        "    for word, count in word_count_dict.items():\n",
        "        freq = count / total_words\n",
        "        keep_prob_dict[word] = min((threshold/freq)**0.5, 1)\n",
        "\n",
        "    return keep_prob_dict"
      ]
    },
    {
      "cell_type": "markdown",
      "metadata": {
        "id": "bhWKpnoqxqk2"
      },
      "source": [
        "#### Подзадача №2: negative sampling\n",
        "Для более эффективного обучения необходимо не только предсказывать высокие вероятности для слов из контекста, но и предсказывать низкие для слов, не встреченных в контексте. Для этого вам необходимо вычислить вероятност использовать слово в качестве negative sample, реализовав функцию ниже.\n",
        "\n",
        "В оригинальной статье предлагается оценивать вероятность слов выступать в качестве negative sample согласно распределению $P_n(w)$\n",
        "$$\n",
        "P_n(w) = \\frac{U(w)^{3/4}}{Z},\n",
        "$$\n",
        "\n",
        "где $U(w)$ распределение слов по частоте (или, как его еще называют, по униграммам), а $Z$ – нормировочная константа, чтобы общая мера была равна $1$."
      ]
    },
    {
      "cell_type": "code",
      "execution_count": 75,
      "metadata": {
        "id": "7PY6Z688xqk2"
      },
      "outputs": [],
      "source": [
        "def get_negative_sampling_prob(word_count_dict):\n",
        "    \"\"\"\n",
        "    Calculates the negative sampling probabilities for words based on their frequencies.\n",
        "\n",
        "    This function adjusts the frequency of each word raised to the power of 0.75, which is\n",
        "    commonly used in algorithms like Word2Vec to moderate the influence of very frequent words.\n",
        "    It then normalizes these adjusted frequencies to ensure they sum to 1, forming a probability\n",
        "    distribution used for negative sampling.\n",
        "\n",
        "    Parameters:\n",
        "    - word_count_dict (dict): A dictionary where keys are words and values are the counts of those words.\n",
        "\n",
        "    Returns:\n",
        "    - dict: A dictionary where keys are words and values are the probabilities of selecting each word\n",
        "            for negative sampling.\n",
        "\n",
        "    Example:\n",
        "    >>> word_counts = {'the': 5000, 'is': 1000, 'apple': 50}\n",
        "    >>> get_negative_sampling_prob(word_counts)\n",
        "    {'the': 0.298, 'is': 0.160, 'apple': 0.042}\n",
        "    \"\"\"\n",
        "\n",
        "    freq_in_075_power = {word: count**0.75 for word, count in word_count_dict.items()}\n",
        "\n",
        "    sum_freq = sum(freq_in_075_power.values())\n",
        "\n",
        "    negative_sampling_prob_dict = {word: freq / sum_freq for word, freq in freq_in_075_power.items()}\n",
        "\n",
        "    return negative_sampling_prob_dict"
      ]
    },
    {
      "cell_type": "markdown",
      "metadata": {
        "id": "FPF_x6d6xqk2"
      },
      "source": [
        "Для удобства, преобразуем полученные словари в массивы (т.к. все слова все равно уже пронумерованы)."
      ]
    },
    {
      "cell_type": "code",
      "execution_count": 76,
      "metadata": {
        "id": "NBzcAKd2xqk3"
      },
      "outputs": [],
      "source": [
        "keep_prob_dict = subsample_frequent_words(word_count_dict)\n",
        "assert keep_prob_dict.keys() == word_count_dict.keys()"
      ]
    },
    {
      "cell_type": "code",
      "execution_count": 77,
      "metadata": {
        "id": "08GunXnoxqk3"
      },
      "outputs": [],
      "source": [
        "negative_sampling_prob_dict = get_negative_sampling_prob(word_count_dict)\n",
        "assert negative_sampling_prob_dict.keys() == negative_sampling_prob_dict.keys()\n",
        "assert np.allclose(sum(negative_sampling_prob_dict.values()), 1)"
      ]
    },
    {
      "cell_type": "code",
      "execution_count": 78,
      "metadata": {
        "id": "nlT6hBA6xqk3"
      },
      "outputs": [],
      "source": [
        "keep_prob_array = np.array(\n",
        "    [keep_prob_dict[index_to_word[idx]] for idx in range(len(word_to_index))]\n",
        ")\n",
        "negative_sampling_prob_array = np.array(\n",
        "    [\n",
        "        negative_sampling_prob_dict[index_to_word[idx]]\n",
        "        for idx in range(len(word_to_index))\n",
        "    ]\n",
        ")"
      ]
    },
    {
      "cell_type": "markdown",
      "metadata": {
        "id": "DIYc-qCpxqk3"
      },
      "source": [
        "Если все прошло успешно, функция ниже поможет вам с генерацией подвыборок (батчей)."
      ]
    },
    {
      "cell_type": "code",
      "execution_count": 79,
      "metadata": {
        "id": "zjR49BQrxqk3"
      },
      "outputs": [],
      "source": [
        "def generate_batch_with_neg_samples(\n",
        "    context_pairs,\n",
        "    batch_size,\n",
        "    keep_prob_array,\n",
        "    word_to_index,\n",
        "    num_negatives,\n",
        "    negative_sampling_prob_array,\n",
        "):\n",
        "    batch = []\n",
        "    neg_samples = []\n",
        "\n",
        "    while len(batch) < batch_size:\n",
        "        center, context = random.choice(context_pairs)\n",
        "        if random.random() < keep_prob_array[center]:\n",
        "            batch.append((center, context))\n",
        "            neg_sample = np.random.choice(\n",
        "                range(len(negative_sampling_prob_array)),\n",
        "                size=num_negatives,\n",
        "                p=negative_sampling_prob_array,\n",
        "            )\n",
        "            neg_samples.append(neg_sample)\n",
        "    batch = np.array(batch)\n",
        "    neg_samples = np.vstack(neg_samples)\n",
        "    return batch, neg_samples"
      ]
    },
    {
      "cell_type": "code",
      "execution_count": 80,
      "metadata": {
        "id": "wbmTHpJbxqk3"
      },
      "outputs": [],
      "source": [
        "batch_size = 4\n",
        "num_negatives = 15\n",
        "batch, neg_samples = generate_batch_with_neg_samples(\n",
        "    context_pairs,\n",
        "    batch_size,\n",
        "    keep_prob_array,\n",
        "    word_to_index,\n",
        "    num_negatives,\n",
        "    negative_sampling_prob_array,\n",
        ")"
      ]
    },
    {
      "cell_type": "markdown",
      "metadata": {
        "id": "UzV2FK70xqk3"
      },
      "source": [
        "Наконец, время реализовать модель. Обращаем ваше внимание, использование линейных слоев (`nn.Linear`) далеко не всегда оправданно!\n",
        "\n",
        "Напомним, что в случае negative sampling решается задача максимизации следующего функционала:\n",
        "\n",
        "$$\n",
        "\\mathcal{L} = \\log \\sigma({\\mathbf{v}'_{w_O}}^\\top \\mathbf{v}_{w_I}) + \\sum_{i=1}^{k} \\mathbb{E}_{w_i \\sim P_n(w)} \\left[ \\log \\sigma({-\\mathbf{v}'_{w_i}}^\\top \\mathbf{v}_{w_I}) \\right],\n",
        "$$\n",
        "\n",
        "где:\n",
        "- $\\mathbf{v}_{w_I}$ – вектор центрального слова $w_I$,\n",
        "- $\\mathbf{v}'_{w_O}$ – вектор слова из контекста $w_O$,\n",
        "- $k$ – число negative samplesЮ,\n",
        "- $P_n(w)$ – распределение negative samples, заданное выше,\n",
        "- $\\sigma$ – сигмоида."
      ]
    },
    {
      "cell_type": "code",
      "source": [
        "class SkipGramModelWithNegSampling(nn.Module):\n",
        "    def __init__(self, vocab_size, embedding_dim):\n",
        "        super().__init__()\n",
        "        self.center_embeddings = nn.Embedding(vocab_size, embedding_dim)\n",
        "        self.context_embeddings = nn.Embedding(vocab_size, embedding_dim)\n",
        "\n",
        "    def forward(self, center_words, pos_context_words, neg_context_words):\n",
        "        center_embeds = self.center_embeddings(center_words)\n",
        "        pos_context_embeds = self.context_embeddings(pos_context_words)\n",
        "        neg_context_embeds = self.context_embeddings(neg_context_words)\n",
        "\n",
        "        pos_scores = torch.sum(center_embeds * pos_context_embeds, dim=1)\n",
        "        neg_scores = -torch.bmm(neg_context_embeds, center_embeds.unsqueeze(2)).squeeze()\n",
        "\n",
        "    # def forward(self, pos_u, pos_v, neg_v):\n",
        "    #     embed_u = self.u_embeddings(pos_u)\n",
        "    #     embed_v = self.v_embeddings(pos_v)\n",
        "    #     score = torch.mul(embed_u, embed_v).squeeze()\n",
        "    #     score = torch.sum(score, dim = 1)\n",
        "    #     score = F.logsigmoid(score)\n",
        "    #     neg_embed_v = self.v_embeddings(neg_v)\n",
        "    #     negtv_score = torch.bmm(neg_embed_v, embed_u.unsqueeze(2)).squeeze()\n",
        "    #     negtv_score = F.logsigmoid(-1 * negtv_score)\n",
        "    #     return -1 * (torch.sum(score)+torch.sum(negtv_score))\n",
        "\n",
        "        return pos_scores, neg_scores"
      ],
      "metadata": {
        "id": "KVKZWqhFFqJ_"
      },
      "execution_count": 81,
      "outputs": []
    },
    {
      "cell_type": "code",
      "execution_count": 82,
      "metadata": {
        "id": "-wrbLA92xqk3"
      },
      "outputs": [],
      "source": [
        "device = torch.device(\"cpu\")"
      ]
    },
    {
      "cell_type": "code",
      "execution_count": 83,
      "metadata": {
        "id": "DwemAUOGxqk3"
      },
      "outputs": [],
      "source": [
        "vocab_size = len(word_to_index)\n",
        "embedding_dim = 32\n",
        "num_negatives = 15\n",
        "\n",
        "model = SkipGramModelWithNegSampling(vocab_size, embedding_dim).to(device)\n",
        "optimizer = optim.Adam(model.parameters(), lr=0.05)\n",
        "lr_scheduler = ReduceLROnPlateau(optimizer, factor=0.5, patience=150)\n",
        "criterion = nn.BCEWithLogitsLoss()"
      ]
    },
    {
      "cell_type": "code",
      "execution_count": 84,
      "metadata": {
        "id": "MRFW-ijOxqk3"
      },
      "outputs": [],
      "source": [
        "params_counter = 0\n",
        "for weights in model.parameters():\n",
        "    params_counter += weights.shape.numel()\n",
        "assert params_counter == len(word_to_index) * embedding_dim * 2"
      ]
    },
    {
      "cell_type": "code",
      "execution_count": 85,
      "metadata": {
        "id": "rdZNM4Otxqk3"
      },
      "outputs": [],
      "source": [
        "def train_skipgram_with_neg_sampling(\n",
        "    model,\n",
        "    context_pairs,\n",
        "    keep_prob_array,\n",
        "    word_to_index,\n",
        "    batch_size,\n",
        "    num_negatives,\n",
        "    negative_sampling_prob_array,\n",
        "    steps,\n",
        "    optimizer=optimizer,\n",
        "    lr_scheduler=lr_scheduler,\n",
        "    device=device,\n",
        "):\n",
        "    pos_labels = torch.ones(batch_size).to(device)\n",
        "    neg_labels = torch.zeros(batch_size, num_negatives).to(device)\n",
        "    loss_history = []\n",
        "    for step in tqdma(range(steps)):\n",
        "        batch, neg_samples = generate_batch_with_neg_samples(\n",
        "            context_pairs,\n",
        "            batch_size,\n",
        "            keep_prob_array,\n",
        "            word_to_index,\n",
        "            num_negatives,\n",
        "            negative_sampling_prob_array,\n",
        "        )\n",
        "        center_words = torch.tensor([pair[0] for pair in batch], dtype=torch.long).to(\n",
        "            device\n",
        "        )\n",
        "        pos_context_words = torch.tensor(\n",
        "            [pair[1] for pair in batch], dtype=torch.long\n",
        "        ).to(device)\n",
        "        neg_context_words = torch.tensor(neg_samples, dtype=torch.long).to(device)\n",
        "\n",
        "        optimizer.zero_grad()\n",
        "        pos_scores, neg_scores = model(\n",
        "            center_words, pos_context_words, neg_context_words\n",
        "        )\n",
        "\n",
        "        loss_pos = criterion(pos_scores, pos_labels)\n",
        "        loss_neg = criterion(neg_scores, neg_labels)\n",
        "\n",
        "        loss = loss_pos + loss_neg\n",
        "        loss.backward()\n",
        "        optimizer.step()\n",
        "\n",
        "        loss_history.append(loss.item())\n",
        "        lr_scheduler.step(loss_history[-1])\n",
        "\n",
        "        if step % 100 == 0:\n",
        "            print(\n",
        "                f\"Step {step}, Loss: {np.mean(loss_history[-100:])}, learning rate: {lr_scheduler._last_lr}\"\n",
        "            )"
      ]
    },
    {
      "cell_type": "code",
      "execution_count": 86,
      "metadata": {
        "colab": {
          "base_uri": "https://localhost:8080/",
          "height": 136,
          "referenced_widgets": [
            "c2e6bd6fa9a04a289f76fa319ca1384d",
            "8a8ffc8614a74079ae5315a5641fb6f8",
            "4bce35e00d2f40498e5c6639f55adb14",
            "231599c70a7642f1924609b1d8132430",
            "822ac5615721492d98336c4a974d303f",
            "39a35d8aafec4c898d545715757e1e24",
            "c12087f3dec44781bdb726f518359654",
            "9feb6c31400c4de08715645faf6f5e23",
            "f6430aec2c474d1b91f18f3abfaa46ef",
            "f1d258c2d1954c11a16e5c2ff259e793",
            "dd78c24e5bb0406e9d3ace833f4f78da"
          ]
        },
        "id": "xC6hMfvCxqk4",
        "outputId": "8c0487bf-a1d3-4eed-f0e3-0eeb356143b3"
      },
      "outputs": [
        {
          "output_type": "display_data",
          "data": {
            "text/plain": [
              "  0%|          | 0/500 [00:00<?, ?it/s]"
            ],
            "application/vnd.jupyter.widget-view+json": {
              "version_major": 2,
              "version_minor": 0,
              "model_id": "c2e6bd6fa9a04a289f76fa319ca1384d"
            }
          },
          "metadata": {}
        },
        {
          "output_type": "stream",
          "name": "stdout",
          "text": [
            "Step 0, Loss: 4.348438262939453, learning rate: [0.05]\n",
            "Step 100, Loss: 3.3877838921546934, learning rate: [0.05]\n",
            "Step 200, Loss: 1.5512575155496597, learning rate: [0.05]\n",
            "Step 300, Loss: 0.5378249680995941, learning rate: [0.05]\n",
            "Step 400, Loss: 0.26117091700434686, learning rate: [0.05]\n"
          ]
        }
      ],
      "source": [
        "steps = 500\n",
        "batch_size = 512\n",
        "train_skipgram_with_neg_sampling(\n",
        "    model,\n",
        "    context_pairs,\n",
        "    keep_prob_array,\n",
        "    word_to_index,\n",
        "    batch_size,\n",
        "    num_negatives,\n",
        "    negative_sampling_prob_array,\n",
        "    steps,\n",
        ")"
      ]
    },
    {
      "cell_type": "markdown",
      "metadata": {
        "id": "w9j8mNXFxqk4"
      },
      "source": [
        "Наконец, используйте полученную матрицу весов в качестве матрицы в векторными представлениями слов. Рекомендуем использовать для сдачи матрицу, которая отвечала за слова из контекста (т.е. декодера)."
      ]
    },
    {
      "cell_type": "code",
      "execution_count": 87,
      "metadata": {
        "id": "O3lGqozwxqk4"
      },
      "outputs": [],
      "source": [
        "_model_parameters = model.parameters()\n",
        "embedding_matrix_center = next(\n",
        "    _model_parameters\n",
        ").detach()  # Assuming that first matrix was for central word\n",
        "embedding_matrix_context = next(\n",
        "    _model_parameters\n",
        ").detach()  # Assuming that second matrix was for context word"
      ]
    },
    {
      "cell_type": "code",
      "execution_count": 88,
      "metadata": {
        "id": "jPcGSAHQxqk4"
      },
      "outputs": [],
      "source": [
        "def get_word_vector(word, embedding_matrix, word_to_index=word_to_index):\n",
        "    return embedding_matrix[word_to_index[word]]"
      ]
    },
    {
      "cell_type": "markdown",
      "metadata": {
        "id": "sdWLQJ-ixqk4"
      },
      "source": [
        "Простые проверки:"
      ]
    },
    {
      "cell_type": "code",
      "execution_count": 89,
      "metadata": {
        "id": "3x-NbV_Zxqk9"
      },
      "outputs": [],
      "source": [
        "similarity_1 = F.cosine_similarity(\n",
        "    get_word_vector(\"iphone\", embedding_matrix_context)[None, :],\n",
        "    get_word_vector(\"apple\", embedding_matrix_context)[None, :],\n",
        ")\n",
        "similarity_2 = F.cosine_similarity(\n",
        "    get_word_vector(\"iphone\", embedding_matrix_context)[None, :],\n",
        "    get_word_vector(\"dell\", embedding_matrix_context)[None, :],\n",
        ")\n",
        "assert similarity_1 > similarity_2"
      ]
    },
    {
      "cell_type": "code",
      "execution_count": 90,
      "metadata": {
        "id": "xFL1jLq7xqk9"
      },
      "outputs": [],
      "source": [
        "similarity_1 = F.cosine_similarity(\n",
        "    get_word_vector(\"windows\", embedding_matrix_context)[None, :],\n",
        "    get_word_vector(\"laptop\", embedding_matrix_context)[None, :],\n",
        ")\n",
        "similarity_2 = F.cosine_similarity(\n",
        "    get_word_vector(\"windows\", embedding_matrix_context)[None, :],\n",
        "    get_word_vector(\"macbook\", embedding_matrix_context)[None, :],\n",
        ")\n",
        "assert similarity_1 > similarity_2"
      ]
    },
    {
      "cell_type": "markdown",
      "metadata": {
        "id": "of_snF75xqk9"
      },
      "source": [
        "Наконец, взглянем на ближайшие по косинусной мере слова. Функция реализована ниже."
      ]
    },
    {
      "cell_type": "code",
      "execution_count": 91,
      "metadata": {
        "id": "dA0V6rOYtsLk"
      },
      "outputs": [],
      "source": [
        "def find_nearest(word, embedding_matrix, word_to_index=word_to_index, k=10):\n",
        "    word_vector = get_word_vector(word, embedding_matrix)[None, :]\n",
        "    dists = F.cosine_similarity(embedding_matrix, word_vector)\n",
        "    index_sorted = torch.argsort(dists)\n",
        "    top_k = index_sorted[-k:]\n",
        "    return [(index_to_word[x], dists[x].item()) for x in top_k.numpy()]"
      ]
    },
    {
      "cell_type": "code",
      "execution_count": 92,
      "metadata": {
        "colab": {
          "base_uri": "https://localhost:8080/"
        },
        "id": "MLmkaAegxqk9",
        "outputId": "79cde095-5036-4c60-d6b1-a66c18da3f0e"
      },
      "outputs": [
        {
          "output_type": "execute_result",
          "data": {
            "text/plain": [
              "[('procrastinate', 0.7195193767547607),\n",
              " ('lanka', 0.7229982614517212),\n",
              " ('acne', 0.7249666452407837),\n",
              " ('indira', 0.7268463373184204),\n",
              " ('valuation', 0.7294339537620544),\n",
              " ('serbia', 0.7446185946464539),\n",
              " ('indestructible', 0.7495559453964233),\n",
              " ('exclusive', 0.7495907545089722),\n",
              " ('freedoms', 0.7558233737945557),\n",
              " ('python', 0.9999999403953552)]"
            ]
          },
          "metadata": {},
          "execution_count": 92
        }
      ],
      "source": [
        "find_nearest(\"python\", embedding_matrix_context, k=10)"
      ]
    },
    {
      "cell_type": "markdown",
      "metadata": {
        "id": "4JTRwCjhxqk9"
      },
      "source": [
        "Также вы можете визуально проверить, как представлены в латентном пространстве часто встречающиеся слова."
      ]
    },
    {
      "cell_type": "code",
      "execution_count": 93,
      "metadata": {
        "id": "GaREYJXdxqk-"
      },
      "outputs": [],
      "source": [
        "top_k = 5000\n",
        "_top_words = sorted([x for x in word_count_dict.items()], key=lambda x: x[1])[\n",
        "    -top_k - 100 : -100\n",
        "]  # ignoring 100 most frequent words\n",
        "top_words = [x[0] for x in _top_words]\n",
        "del _top_words"
      ]
    },
    {
      "cell_type": "code",
      "execution_count": 94,
      "metadata": {
        "id": "rd2rGxDRxqk-"
      },
      "outputs": [],
      "source": [
        "word_embeddings = torch.cat(\n",
        "    [embedding_matrix_context[word_to_index[x]][None, :] for x in top_words], dim=0\n",
        ").numpy()"
      ]
    },
    {
      "cell_type": "code",
      "execution_count": 95,
      "metadata": {
        "id": "J15B4S1dxqk-"
      },
      "outputs": [],
      "source": [
        "import bokeh.models as bm\n",
        "import bokeh.plotting as pl\n",
        "from bokeh.io import output_notebook\n",
        "\n",
        "output_notebook()\n",
        "\n",
        "\n",
        "def draw_vectors(\n",
        "    x,\n",
        "    y,\n",
        "    radius=10,\n",
        "    alpha=0.25,\n",
        "    color=\"blue\",\n",
        "    width=600,\n",
        "    height=400,\n",
        "    show=True,\n",
        "    **kwargs,\n",
        "):\n",
        "    \"\"\"draws an interactive plot for data points with auxilirary info on hover\"\"\"\n",
        "    if isinstance(color, str):\n",
        "        color = [color] * len(x)\n",
        "    data_source = bm.ColumnDataSource({\"x\": x, \"y\": y, \"color\": color, **kwargs})\n",
        "\n",
        "    fig = pl.figure(active_scroll=\"wheel_zoom\", width=width, height=height)\n",
        "    fig.scatter(\"x\", \"y\", size=radius, color=\"color\", alpha=alpha, source=data_source)\n",
        "\n",
        "    fig.add_tools(bm.HoverTool(tooltips=[(key, \"@\" + key) for key in kwargs.keys()]))\n",
        "    if show:\n",
        "        pl.show(fig)\n",
        "    return fig"
      ]
    },
    {
      "cell_type": "code",
      "execution_count": 96,
      "metadata": {
        "id": "uMhDjZVvxqk-"
      },
      "outputs": [],
      "source": [
        "embedding = umap.UMAP(n_neighbors=5).fit_transform(word_embeddings)"
      ]
    },
    {
      "cell_type": "code",
      "execution_count": 97,
      "metadata": {
        "colab": {
          "base_uri": "https://localhost:8080/",
          "height": 434
        },
        "id": "n7Y8B6NIxqk-",
        "outputId": "fe1de348-8ab1-4178-ce8c-2bc418d684d2"
      },
      "outputs": [
        {
          "output_type": "display_data",
          "data": {
            "application/javascript": [
              "'use strict';\n",
              "(function(root) {\n",
              "  function now() {\n",
              "    return new Date();\n",
              "  }\n",
              "\n",
              "  const force = true;\n",
              "\n",
              "  if (typeof root._bokeh_onload_callbacks === \"undefined\" || force === true) {\n",
              "    root._bokeh_onload_callbacks = [];\n",
              "    root._bokeh_is_loading = undefined;\n",
              "  }\n",
              "\n",
              "const JS_MIME_TYPE = 'application/javascript';\n",
              "  const HTML_MIME_TYPE = 'text/html';\n",
              "  const EXEC_MIME_TYPE = 'application/vnd.bokehjs_exec.v0+json';\n",
              "  const CLASS_NAME = 'output_bokeh rendered_html';\n",
              "\n",
              "  /**\n",
              "   * Render data to the DOM node\n",
              "   */\n",
              "  function render(props, node) {\n",
              "    const script = document.createElement(\"script\");\n",
              "    node.appendChild(script);\n",
              "  }\n",
              "\n",
              "  /**\n",
              "   * Handle when an output is cleared or removed\n",
              "   */\n",
              "  function handleClearOutput(event, handle) {\n",
              "    function drop(id) {\n",
              "      const view = Bokeh.index.get_by_id(id)\n",
              "      if (view != null) {\n",
              "        view.model.document.clear()\n",
              "        Bokeh.index.delete(view)\n",
              "      }\n",
              "    }\n",
              "\n",
              "    const cell = handle.cell;\n",
              "\n",
              "    const id = cell.output_area._bokeh_element_id;\n",
              "    const server_id = cell.output_area._bokeh_server_id;\n",
              "\n",
              "    // Clean up Bokeh references\n",
              "    if (id != null) {\n",
              "      drop(id)\n",
              "    }\n",
              "\n",
              "    if (server_id !== undefined) {\n",
              "      // Clean up Bokeh references\n",
              "      const cmd_clean = \"from bokeh.io.state import curstate; print(curstate().uuid_to_server['\" + server_id + \"'].get_sessions()[0].document.roots[0]._id)\";\n",
              "      cell.notebook.kernel.execute(cmd_clean, {\n",
              "        iopub: {\n",
              "          output: function(msg) {\n",
              "            const id = msg.content.text.trim()\n",
              "            drop(id)\n",
              "          }\n",
              "        }\n",
              "      });\n",
              "      // Destroy server and session\n",
              "      const cmd_destroy = \"import bokeh.io.notebook as ion; ion.destroy_server('\" + server_id + \"')\";\n",
              "      cell.notebook.kernel.execute(cmd_destroy);\n",
              "    }\n",
              "  }\n",
              "\n",
              "  /**\n",
              "   * Handle when a new output is added\n",
              "   */\n",
              "  function handleAddOutput(event, handle) {\n",
              "    const output_area = handle.output_area;\n",
              "    const output = handle.output;\n",
              "\n",
              "    // limit handleAddOutput to display_data with EXEC_MIME_TYPE content only\n",
              "    if ((output.output_type != \"display_data\") || (!Object.prototype.hasOwnProperty.call(output.data, EXEC_MIME_TYPE))) {\n",
              "      return\n",
              "    }\n",
              "\n",
              "    const toinsert = output_area.element.find(\".\" + CLASS_NAME.split(' ')[0]);\n",
              "\n",
              "    if (output.metadata[EXEC_MIME_TYPE][\"id\"] !== undefined) {\n",
              "      toinsert[toinsert.length - 1].firstChild.textContent = output.data[JS_MIME_TYPE];\n",
              "      // store reference to embed id on output_area\n",
              "      output_area._bokeh_element_id = output.metadata[EXEC_MIME_TYPE][\"id\"];\n",
              "    }\n",
              "    if (output.metadata[EXEC_MIME_TYPE][\"server_id\"] !== undefined) {\n",
              "      const bk_div = document.createElement(\"div\");\n",
              "      bk_div.innerHTML = output.data[HTML_MIME_TYPE];\n",
              "      const script_attrs = bk_div.children[0].attributes;\n",
              "      for (let i = 0; i < script_attrs.length; i++) {\n",
              "        toinsert[toinsert.length - 1].firstChild.setAttribute(script_attrs[i].name, script_attrs[i].value);\n",
              "        toinsert[toinsert.length - 1].firstChild.textContent = bk_div.children[0].textContent\n",
              "      }\n",
              "      // store reference to server id on output_area\n",
              "      output_area._bokeh_server_id = output.metadata[EXEC_MIME_TYPE][\"server_id\"];\n",
              "    }\n",
              "  }\n",
              "\n",
              "  function register_renderer(events, OutputArea) {\n",
              "\n",
              "    function append_mime(data, metadata, element) {\n",
              "      // create a DOM node to render to\n",
              "      const toinsert = this.create_output_subarea(\n",
              "        metadata,\n",
              "        CLASS_NAME,\n",
              "        EXEC_MIME_TYPE\n",
              "      );\n",
              "      this.keyboard_manager.register_events(toinsert);\n",
              "      // Render to node\n",
              "      const props = {data: data, metadata: metadata[EXEC_MIME_TYPE]};\n",
              "      render(props, toinsert[toinsert.length - 1]);\n",
              "      element.append(toinsert);\n",
              "      return toinsert\n",
              "    }\n",
              "\n",
              "    /* Handle when an output is cleared or removed */\n",
              "    events.on('clear_output.CodeCell', handleClearOutput);\n",
              "    events.on('delete.Cell', handleClearOutput);\n",
              "\n",
              "    /* Handle when a new output is added */\n",
              "    events.on('output_added.OutputArea', handleAddOutput);\n",
              "\n",
              "    /**\n",
              "     * Register the mime type and append_mime function with output_area\n",
              "     */\n",
              "    OutputArea.prototype.register_mime_type(EXEC_MIME_TYPE, append_mime, {\n",
              "      /* Is output safe? */\n",
              "      safe: true,\n",
              "      /* Index of renderer in `output_area.display_order` */\n",
              "      index: 0\n",
              "    });\n",
              "  }\n",
              "\n",
              "  // register the mime type if in Jupyter Notebook environment and previously unregistered\n",
              "  if (root.Jupyter !== undefined) {\n",
              "    const events = require('base/js/events');\n",
              "    const OutputArea = require('notebook/js/outputarea').OutputArea;\n",
              "\n",
              "    if (OutputArea.prototype.mime_types().indexOf(EXEC_MIME_TYPE) == -1) {\n",
              "      register_renderer(events, OutputArea);\n",
              "    }\n",
              "  }\n",
              "  if (typeof (root._bokeh_timeout) === \"undefined\" || force === true) {\n",
              "    root._bokeh_timeout = Date.now() + 5000;\n",
              "    root._bokeh_failed_load = false;\n",
              "  }\n",
              "\n",
              "  const NB_LOAD_WARNING = {'data': {'text/html':\n",
              "     \"<div style='background-color: #fdd'>\\n\"+\n",
              "     \"<p>\\n\"+\n",
              "     \"BokehJS does not appear to have successfully loaded. If loading BokehJS from CDN, this \\n\"+\n",
              "     \"may be due to a slow or bad network connection. Possible fixes:\\n\"+\n",
              "     \"</p>\\n\"+\n",
              "     \"<ul>\\n\"+\n",
              "     \"<li>re-rerun `output_notebook()` to attempt to load from CDN again, or</li>\\n\"+\n",
              "     \"<li>use INLINE resources instead, as so:</li>\\n\"+\n",
              "     \"</ul>\\n\"+\n",
              "     \"<code>\\n\"+\n",
              "     \"from bokeh.resources import INLINE\\n\"+\n",
              "     \"output_notebook(resources=INLINE)\\n\"+\n",
              "     \"</code>\\n\"+\n",
              "     \"</div>\"}};\n",
              "\n",
              "  function display_loaded(error = null) {\n",
              "    const el = document.getElementById(null);\n",
              "    if (el != null) {\n",
              "      const html = (() => {\n",
              "        if (typeof root.Bokeh === \"undefined\") {\n",
              "          if (error == null) {\n",
              "            return \"BokehJS is loading ...\";\n",
              "          } else {\n",
              "            return \"BokehJS failed to load.\";\n",
              "          }\n",
              "        } else {\n",
              "          const prefix = `BokehJS ${root.Bokeh.version}`;\n",
              "          if (error == null) {\n",
              "            return `${prefix} successfully loaded.`;\n",
              "          } else {\n",
              "            return `${prefix} <b>encountered errors</b> while loading and may not function as expected.`;\n",
              "          }\n",
              "        }\n",
              "      })();\n",
              "      el.innerHTML = html;\n",
              "\n",
              "      if (error != null) {\n",
              "        const wrapper = document.createElement(\"div\");\n",
              "        wrapper.style.overflow = \"auto\";\n",
              "        wrapper.style.height = \"5em\";\n",
              "        wrapper.style.resize = \"vertical\";\n",
              "        const content = document.createElement(\"div\");\n",
              "        content.style.fontFamily = \"monospace\";\n",
              "        content.style.whiteSpace = \"pre-wrap\";\n",
              "        content.style.backgroundColor = \"rgb(255, 221, 221)\";\n",
              "        content.textContent = error.stack ?? error.toString();\n",
              "        wrapper.append(content);\n",
              "        el.append(wrapper);\n",
              "      }\n",
              "    } else if (Date.now() < root._bokeh_timeout) {\n",
              "      setTimeout(() => display_loaded(error), 100);\n",
              "    }\n",
              "  }\n",
              "\n",
              "  function run_callbacks() {\n",
              "    try {\n",
              "      root._bokeh_onload_callbacks.forEach(function(callback) {\n",
              "        if (callback != null)\n",
              "          callback();\n",
              "      });\n",
              "    } finally {\n",
              "      delete root._bokeh_onload_callbacks\n",
              "    }\n",
              "    console.debug(\"Bokeh: all callbacks have finished\");\n",
              "  }\n",
              "\n",
              "  function load_libs(css_urls, js_urls, callback) {\n",
              "    if (css_urls == null) css_urls = [];\n",
              "    if (js_urls == null) js_urls = [];\n",
              "\n",
              "    root._bokeh_onload_callbacks.push(callback);\n",
              "    if (root._bokeh_is_loading > 0) {\n",
              "      console.debug(\"Bokeh: BokehJS is being loaded, scheduling callback at\", now());\n",
              "      return null;\n",
              "    }\n",
              "    if (js_urls == null || js_urls.length === 0) {\n",
              "      run_callbacks();\n",
              "      return null;\n",
              "    }\n",
              "    console.debug(\"Bokeh: BokehJS not loaded, scheduling load and callback at\", now());\n",
              "    root._bokeh_is_loading = css_urls.length + js_urls.length;\n",
              "\n",
              "    function on_load() {\n",
              "      root._bokeh_is_loading--;\n",
              "      if (root._bokeh_is_loading === 0) {\n",
              "        console.debug(\"Bokeh: all BokehJS libraries/stylesheets loaded\");\n",
              "        run_callbacks()\n",
              "      }\n",
              "    }\n",
              "\n",
              "    function on_error(url) {\n",
              "      console.error(\"failed to load \" + url);\n",
              "    }\n",
              "\n",
              "    for (let i = 0; i < css_urls.length; i++) {\n",
              "      const url = css_urls[i];\n",
              "      const element = document.createElement(\"link\");\n",
              "      element.onload = on_load;\n",
              "      element.onerror = on_error.bind(null, url);\n",
              "      element.rel = \"stylesheet\";\n",
              "      element.type = \"text/css\";\n",
              "      element.href = url;\n",
              "      console.debug(\"Bokeh: injecting link tag for BokehJS stylesheet: \", url);\n",
              "      document.body.appendChild(element);\n",
              "    }\n",
              "\n",
              "    for (let i = 0; i < js_urls.length; i++) {\n",
              "      const url = js_urls[i];\n",
              "      const element = document.createElement('script');\n",
              "      element.onload = on_load;\n",
              "      element.onerror = on_error.bind(null, url);\n",
              "      element.async = false;\n",
              "      element.src = url;\n",
              "      console.debug(\"Bokeh: injecting script tag for BokehJS library: \", url);\n",
              "      document.head.appendChild(element);\n",
              "    }\n",
              "  };\n",
              "\n",
              "  function inject_raw_css(css) {\n",
              "    const element = document.createElement(\"style\");\n",
              "    element.appendChild(document.createTextNode(css));\n",
              "    document.body.appendChild(element);\n",
              "  }\n",
              "\n",
              "  const js_urls = [\"https://cdn.bokeh.org/bokeh/release/bokeh-3.6.0.min.js\", \"https://cdn.bokeh.org/bokeh/release/bokeh-gl-3.6.0.min.js\", \"https://cdn.bokeh.org/bokeh/release/bokeh-widgets-3.6.0.min.js\", \"https://cdn.bokeh.org/bokeh/release/bokeh-tables-3.6.0.min.js\", \"https://cdn.bokeh.org/bokeh/release/bokeh-mathjax-3.6.0.min.js\"];\n",
              "  const css_urls = [];\n",
              "\n",
              "  const inline_js = [    function(Bokeh) {\n",
              "      Bokeh.set_log_level(\"info\");\n",
              "    },\n",
              "function(Bokeh) {\n",
              "    }\n",
              "  ];\n",
              "\n",
              "  function run_inline_js() {\n",
              "    if (root.Bokeh !== undefined || force === true) {\n",
              "      try {\n",
              "            for (let i = 0; i < inline_js.length; i++) {\n",
              "      inline_js[i].call(root, root.Bokeh);\n",
              "    }\n",
              "\n",
              "      } catch (error) {throw error;\n",
              "      }} else if (Date.now() < root._bokeh_timeout) {\n",
              "      setTimeout(run_inline_js, 100);\n",
              "    } else if (!root._bokeh_failed_load) {\n",
              "      console.log(\"Bokeh: BokehJS failed to load within specified timeout.\");\n",
              "      root._bokeh_failed_load = true;\n",
              "    } else if (force !== true) {\n",
              "      const cell = $(document.getElementById(null)).parents('.cell').data().cell;\n",
              "      cell.output_area.append_execute_result(NB_LOAD_WARNING)\n",
              "    }\n",
              "  }\n",
              "\n",
              "  if (root._bokeh_is_loading === 0) {\n",
              "    console.debug(\"Bokeh: BokehJS loaded, going straight to plotting\");\n",
              "    run_inline_js();\n",
              "  } else {\n",
              "    load_libs(css_urls, js_urls, function() {\n",
              "      console.debug(\"Bokeh: BokehJS plotting callback run at\", now());\n",
              "      run_inline_js();\n",
              "    });\n",
              "  }\n",
              "}(window));"
            ],
            "application/vnd.bokehjs_load.v0+json": "'use strict';\n(function(root) {\n  function now() {\n    return new Date();\n  }\n\n  const force = true;\n\n  if (typeof root._bokeh_onload_callbacks === \"undefined\" || force === true) {\n    root._bokeh_onload_callbacks = [];\n    root._bokeh_is_loading = undefined;\n  }\n\n\n  if (typeof (root._bokeh_timeout) === \"undefined\" || force === true) {\n    root._bokeh_timeout = Date.now() + 5000;\n    root._bokeh_failed_load = false;\n  }\n\n  const NB_LOAD_WARNING = {'data': {'text/html':\n     \"<div style='background-color: #fdd'>\\n\"+\n     \"<p>\\n\"+\n     \"BokehJS does not appear to have successfully loaded. If loading BokehJS from CDN, this \\n\"+\n     \"may be due to a slow or bad network connection. Possible fixes:\\n\"+\n     \"</p>\\n\"+\n     \"<ul>\\n\"+\n     \"<li>re-rerun `output_notebook()` to attempt to load from CDN again, or</li>\\n\"+\n     \"<li>use INLINE resources instead, as so:</li>\\n\"+\n     \"</ul>\\n\"+\n     \"<code>\\n\"+\n     \"from bokeh.resources import INLINE\\n\"+\n     \"output_notebook(resources=INLINE)\\n\"+\n     \"</code>\\n\"+\n     \"</div>\"}};\n\n  function display_loaded(error = null) {\n    const el = document.getElementById(null);\n    if (el != null) {\n      const html = (() => {\n        if (typeof root.Bokeh === \"undefined\") {\n          if (error == null) {\n            return \"BokehJS is loading ...\";\n          } else {\n            return \"BokehJS failed to load.\";\n          }\n        } else {\n          const prefix = `BokehJS ${root.Bokeh.version}`;\n          if (error == null) {\n            return `${prefix} successfully loaded.`;\n          } else {\n            return `${prefix} <b>encountered errors</b> while loading and may not function as expected.`;\n          }\n        }\n      })();\n      el.innerHTML = html;\n\n      if (error != null) {\n        const wrapper = document.createElement(\"div\");\n        wrapper.style.overflow = \"auto\";\n        wrapper.style.height = \"5em\";\n        wrapper.style.resize = \"vertical\";\n        const content = document.createElement(\"div\");\n        content.style.fontFamily = \"monospace\";\n        content.style.whiteSpace = \"pre-wrap\";\n        content.style.backgroundColor = \"rgb(255, 221, 221)\";\n        content.textContent = error.stack ?? error.toString();\n        wrapper.append(content);\n        el.append(wrapper);\n      }\n    } else if (Date.now() < root._bokeh_timeout) {\n      setTimeout(() => display_loaded(error), 100);\n    }\n  }\n\n  function run_callbacks() {\n    try {\n      root._bokeh_onload_callbacks.forEach(function(callback) {\n        if (callback != null)\n          callback();\n      });\n    } finally {\n      delete root._bokeh_onload_callbacks\n    }\n    console.debug(\"Bokeh: all callbacks have finished\");\n  }\n\n  function load_libs(css_urls, js_urls, callback) {\n    if (css_urls == null) css_urls = [];\n    if (js_urls == null) js_urls = [];\n\n    root._bokeh_onload_callbacks.push(callback);\n    if (root._bokeh_is_loading > 0) {\n      console.debug(\"Bokeh: BokehJS is being loaded, scheduling callback at\", now());\n      return null;\n    }\n    if (js_urls == null || js_urls.length === 0) {\n      run_callbacks();\n      return null;\n    }\n    console.debug(\"Bokeh: BokehJS not loaded, scheduling load and callback at\", now());\n    root._bokeh_is_loading = css_urls.length + js_urls.length;\n\n    function on_load() {\n      root._bokeh_is_loading--;\n      if (root._bokeh_is_loading === 0) {\n        console.debug(\"Bokeh: all BokehJS libraries/stylesheets loaded\");\n        run_callbacks()\n      }\n    }\n\n    function on_error(url) {\n      console.error(\"failed to load \" + url);\n    }\n\n    for (let i = 0; i < css_urls.length; i++) {\n      const url = css_urls[i];\n      const element = document.createElement(\"link\");\n      element.onload = on_load;\n      element.onerror = on_error.bind(null, url);\n      element.rel = \"stylesheet\";\n      element.type = \"text/css\";\n      element.href = url;\n      console.debug(\"Bokeh: injecting link tag for BokehJS stylesheet: \", url);\n      document.body.appendChild(element);\n    }\n\n    for (let i = 0; i < js_urls.length; i++) {\n      const url = js_urls[i];\n      const element = document.createElement('script');\n      element.onload = on_load;\n      element.onerror = on_error.bind(null, url);\n      element.async = false;\n      element.src = url;\n      console.debug(\"Bokeh: injecting script tag for BokehJS library: \", url);\n      document.head.appendChild(element);\n    }\n  };\n\n  function inject_raw_css(css) {\n    const element = document.createElement(\"style\");\n    element.appendChild(document.createTextNode(css));\n    document.body.appendChild(element);\n  }\n\n  const js_urls = [\"https://cdn.bokeh.org/bokeh/release/bokeh-3.6.0.min.js\", \"https://cdn.bokeh.org/bokeh/release/bokeh-gl-3.6.0.min.js\", \"https://cdn.bokeh.org/bokeh/release/bokeh-widgets-3.6.0.min.js\", \"https://cdn.bokeh.org/bokeh/release/bokeh-tables-3.6.0.min.js\", \"https://cdn.bokeh.org/bokeh/release/bokeh-mathjax-3.6.0.min.js\"];\n  const css_urls = [];\n\n  const inline_js = [    function(Bokeh) {\n      Bokeh.set_log_level(\"info\");\n    },\nfunction(Bokeh) {\n    }\n  ];\n\n  function run_inline_js() {\n    if (root.Bokeh !== undefined || force === true) {\n      try {\n            for (let i = 0; i < inline_js.length; i++) {\n      inline_js[i].call(root, root.Bokeh);\n    }\n\n      } catch (error) {throw error;\n      }} else if (Date.now() < root._bokeh_timeout) {\n      setTimeout(run_inline_js, 100);\n    } else if (!root._bokeh_failed_load) {\n      console.log(\"Bokeh: BokehJS failed to load within specified timeout.\");\n      root._bokeh_failed_load = true;\n    } else if (force !== true) {\n      const cell = $(document.getElementById(null)).parents('.cell').data().cell;\n      cell.output_area.append_execute_result(NB_LOAD_WARNING)\n    }\n  }\n\n  if (root._bokeh_is_loading === 0) {\n    console.debug(\"Bokeh: BokehJS loaded, going straight to plotting\");\n    run_inline_js();\n  } else {\n    load_libs(css_urls, js_urls, function() {\n      console.debug(\"Bokeh: BokehJS plotting callback run at\", now());\n      run_inline_js();\n    });\n  }\n}(window));"
          },
          "metadata": {}
        },
        {
          "output_type": "display_data",
          "data": {
            "text/html": [
              "\n",
              "  <div id=\"a0b71f28-d150-41fb-b73a-78cf46bbec33\" data-root-id=\"p1055\" style=\"display: contents;\"></div>\n"
            ]
          },
          "metadata": {}
        },
        {
          "output_type": "display_data",
          "data": {
            "application/javascript": [
              "(function(root) {\n",
              "  function embed_document(root) {\n",
              "  const docs_json = {\"3cb7f01d-a390-4244-a0ac-9c1eb3d4ff0e\":{\"version\":\"3.6.0\",\"title\":\"Bokeh Application\",\"roots\":[{\"type\":\"object\",\"name\":\"Figure\",\"id\":\"p1055\",\"attributes\":{\"height\":400,\"x_range\":{\"type\":\"object\",\"name\":\"DataRange1d\",\"id\":\"p1056\"},\"y_range\":{\"type\":\"object\",\"name\":\"DataRange1d\",\"id\":\"p1057\"},\"x_scale\":{\"type\":\"object\",\"name\":\"LinearScale\",\"id\":\"p1064\"},\"y_scale\":{\"type\":\"object\",\"name\":\"LinearScale\",\"id\":\"p1065\"},\"title\":{\"type\":\"object\",\"name\":\"Title\",\"id\":\"p1062\"},\"renderers\":[{\"type\":\"object\",\"name\":\"GlyphRenderer\",\"id\":\"p1095\",\"attributes\":{\"data_source\":{\"type\":\"object\",\"name\":\"ColumnDataSource\",\"id\":\"p1052\",\"attributes\":{\"selected\":{\"type\":\"object\",\"name\":\"Selection\",\"id\":\"p1053\",\"attributes\":{\"indices\":[],\"line_indices\":[]}},\"selection_policy\":{\"type\":\"object\",\"name\":\"UnionRenderers\",\"id\":\"p1054\"},\"data\":{\"type\":\"map\",\"entries\":[[\"x\",{\"type\":\"ndarray\",\"array\":{\"type\":\"bytes\",\"data\":\"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\"},\"shape\":[5000],\"dtype\":\"float32\",\"order\":\"little\"}],[\"y\",{\"type\":\"ndarray\",\"array\":{\"type\":\"bytes\",\"data\":\"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\"},\"shape\":[5000],\"dtype\":\"float32\",\"order\":\"little\"}],[\"color\",[\"blue\",\"blue\",\"blue\",\"blue\",\"blue\",\"blue\",\"blue\",\"blue\",\"blue\",\"blue\",\"blue\",\"blue\",\"blue\",\"blue\",\"blue\",\"blue\",\"blue\",\"blue\",\"blue\",\"blue\",\"blue\",\"blue\",\"blue\",\"blue\",\"blue\",\"blue\",\"blue\",\"blue\",\"blue\",\"blue\",\"blue\",\"blue\",\"blue\",\"blue\",\"blue\",\"blue\",\"blue\",\"blue\",\"blue\",\"blue\",\"blue\",\"blue\",\"blue\",\"blue\",\"blue\",\"blue\",\"blue\",\"blue\",\"blue\",\"blue\",\"blue\",\"blue\",\"blue\",\"blue\",\"blue\",\"blue\",\"blue\",\"blue\",\"blue\",\"blue\",\"blue\",\"blue\",\"blue\",\"blue\",\"blue\",\"blue\",\"blue\",\"blue\",\"blue\",\"blue\",\"blue\",\"blue\",\"blue\",\"blue\",\"blue\",\"blue\",\"blue\",\"blue\",\"blue\",\"blue\",\"blue\",\"blue\",\"blue\",\"blue\",\"blue\",\"blue\",\"blue\",\"blue\",\"blue\",\"blue\",\"blue\",\"blue\",\"blue\",\"blue\",\"blue\",\"blue\",\"blue\",\"blue\",\"blue\",\"blue\",\"blue\",\"blue\",\"blue\",\"blue\",\"blue\",\"blue\",\"blue\",\"blue\",\"blue\",\"blue\",\"blue\",\"blue\",\"blue\",\"blue\",\"blue\",\"blue\",\"blue\",\"blue\",\"blue\",\"blue\",\"blue\",\"blue\",\"blue\",\"blue\",\"blue\",\"blue\",\"blue\",\"blue\",\"blue\",\"blue\",\"blue\",\"blue\",\"blue\",\"blue\",\"blue\",\"blue\",\"blue\",\"blue\",\"blue\",\"blue\",\"blue\",\"blue\",\"blue\",\"blue\",\"blue\",\"blue\",\"blue\",\"blue\",\"blue\",\"blue\",\"blue\",\"blue\",\"blue\",\"blue\",\"blue\",\"blue\",\"blue\",\"blue\",\"blue\",\"blue\",\"blue\",\"blue\",\"blue\",\"blue\",\"blue\",\"blue\",\"blue\",\"blue\",\"blue\",\"blue\",\"blue\",\"blue\",\"blue\",\"blue\",\"blue\",\"blue\",\"blue\",\"blue\",\"blue\",\"blue\",\"blue\",\"blue\",\"blue\",\"blue\",\"blue\",\"blue\",\"blue\",\"blue\",\"blue\",\"blue\",\"blue\",\"blue\",\"blue\",\"blue\",\"blue\",\"blue\",\"blue\",\"blue\",\"blue\",\"blue\",\"blue\",\"blue\",\"blue\",\"blue\",\"blue\",\"blue\",\"blue\",\"blue\",\"blue\",\"blue\",\"blue\",\"blue\",\"blue\",\"blue\",\"blue\",\"blue\",\"blue\",\"blue\",\"blue\",\"blue\",\"blue\",\"blue\",\"blue\",\"blue\",\"blue\",\"blue\",\"blue\",\"blue\",\"blue\",\"blue\",\"blue\",\"blue\",\"blue\",\"blue\",\"blue\",\"blue\",\"blue\",\"blue\",\"blue\",\"blue\",\"blue\",\"blue\",\"blue\",\"blue\",\"blue\",\"blue\",\"blue\",\"blue\",\"blue\",\"blue\",\"blue\",\"blue\",\"blue\",\"blue\",\"blue\",\"blue\",\"blue\",\"blue\",\"blue\",\"blue\",\"blue\",\"blue\",\"blue\",\"blue\",\"blue\",\"blue\",\"blue\",\"blue\",\"blue\",\"blue\",\"blue\",\"blue\",\"blue\",\"blue\",\"blue\",\"blue\",\"blue\",\"blue\",\"blue\",\"blue\",\"blue\",\"blue\",\"blue\",\"blue\",\"blue\",\"blue\",\"blue\",\"blue\",\"blue\",\"blue\",\"blue\",\"blue\",\"blue\",\"blue\",\"blue\",\"blue\",\"blue\",\"blue\",\"blue\",\"blue\",\"blue\",\"blue\",\"blue\",\"blue\",\"blue\",\"blue\",\"blue\",\"blue\",\"blue\",\"blue\",\"blue\",\"blue\",\"blue\",\"blue\",\"blue\",\"blue\",\"blue\",\"blue\",\"blue\",\"blue\",\"blue\",\"blue\",\"blue\",\"blue\",\"blue\",\"blue\",\"blue\",\"blue\",\"blue\",\"blue\",\"blue\",\"blue\",\"blue\",\"blue\",\"blue\",\"blue\",\"blue\",\"blue\",\"blue\",\"blue\",\"blue\",\"blue\",\"blue\",\"blue\",\"blue\",\"blue\",\"blue\",\"blue\",\"blue\",\"blue\",\"blue\",\"blue\",\"blue\",\"blue\",\"blue\",\"blue\",\"blue\",\"blue\",\"blue\",\"blue\",\"blue\",\"blue\",\"blue\",\"blue\",\"blue\",\"blue\",\"blue\",\"blue\",\"blue\",\"blue\",\"blue\",\"blue\",\"blue\",\"blue\",\"blue\",\"blue\",\"blue\",\"blue\",\"blue\",\"blue\",\"blue\",\"blue\",\"blue\",\"blue\",\"blue\",\"blue\",\"blue\",\"blue\",\"blue\",\"blue\",\"blue\",\"blue\",\"blue\",\"blue\",\"blue\",\"blue\",\"blue\",\"blue\",\"blue\",\"blue\",\"blue\",\"blue\",\"blue\",\"blue\",\"blue\",\"blue\",\"blue\",\"blue\",\"blue\",\"blue\",\"blue\",\"blue\",\"blue\",\"blue\",\"blue\",\"blue\",\"blue\",\"blue\",\"blue\",\"blue\",\"blue\",\"blue\",\"blue\",\"blue\",\"blue\",\"blue\",\"blue\",\"blue\",\"blue\",\"blue\",\"blue\",\"blue\",\"blue\",\"blue\",\"blue\",\"blue\",\"blue\",\"blue\",\"blue\",\"blue\",\"blue\",\"blue\",\"blue\",\"blue\",\"blue\",\"blue\",\"blue\",\"blue\",\"blue\",\"blue\",\"blue\",\"blue\",\"blue\",\"blue\",\"blue\",\"blue\",\"blue\",\"blue\",\"blue\",\"blue\",\"blue\",\"blue\",\"blue\",\"blue\",\"blue\",\"blue\",\"blue\",\"blue\",\"blue\",\"blue\",\"blue\",\"blue\",\"blue\",\"blue\",\"blue\",\"blue\",\"blue\",\"blue\",\"blue\",\"blue\",\"blue\",\"blue\",\"blue\",\"blue\",\"blue\",\"blue\",\"blue\",\"blue\",\"blue\",\"blue\",\"blue\",\"blue\",\"blue\",\"blue\",\"blue\",\"blue\",\"blue\",\"blue\",\"blue\",\"blue\",\"blue\",\"blue\",\"blue\",\"blue\",\"blue\",\"blue\",\"blue\",\"blue\",\"blue\",\"blue\",\"blue\",\"blue\",\"blue\",\"blue\",\"blue\",\"blue\",\"blue\",\"blue\",\"blue\",\"blue\",\"blue\",\"blue\",\"blue\",\"blue\",\"blue\",\"blue\",\"blue\",\"blue\",\"blue\",\"blue\",\"blue\",\"blue\",\"blue\",\"blue\",\"blue\",\"blue\",\"blue\",\"blue\",\"blue\",\"blue\",\"blue\",\"blue\",\"blue\",\"blue\",\"blue\",\"blue\",\"blue\",\"blue\",\"blue\",\"blue\",\"blue\",\"blue\",\"blue\",\"blue\",\"blue\",\"blue\",\"blue\",\"blue\",\"blue\",\"blue\",\"blue\",\"blue\",\"blue\",\"blue\",\"blue\",\"blue\",\"blue\",\"blue\",\"blue\",\"blue\",\"blue\",\"blue\",\"blue\",\"blue\",\"blue\",\"blue\",\"blue\",\"blue\",\"blue\",\"blue\",\"blue\",\"blue\",\"blue\",\"blue\",\"blue\",\"blue\",\"blue\",\"blue\",\"blue\",\"blue\",\"blue\",\"blue\",\"blue\",\"blue\",\"blue\",\"blue\",\"blue\",\"blue\",\"blue\",\"blue\",\"blue\",\"blue\",\"blue\",\"blue\",\"blue\",\"blue\",\"blue\",\"blue\",\"blue\",\"blue\",\"blue\",\"blue\",\"blue\",\"blue\",\"blue\",\"blue\",\"blue\",\"blue\",\"blue\",\"blue\",\"blue\",\"blue\",\"blue\",\"blue\",\"blue\",\"blue\",\"blue\",\"blue\",\"blue\",\"blue\",\"blue\",\"blue\",\"blue\",\"blue\",\"blue\",\"blue\",\"blue\",\"blue\",\"blue\",\"blue\",\"blue\",\"blue\",\"blue\",\"blue\",\"blue\",\"blue\",\"blue\",\"blue\",\"blue\",\"blue\",\"blue\",\"blue\",\"blue\",\"blue\",\"blue\",\"blue\",\"blue\",\"blue\",\"blue\",\"blue\",\"blue\",\"blue\",\"blue\",\"blue\",\"blue\",\"blue\",\"blue\",\"blue\",\"blue\",\"blue\",\"blue\",\"blue\",\"blue\",\"blue\",\"blue\",\"blue\",\"blue\",\"blue\",\"blue\",\"blue\",\"blue\",\"blue\",\"blue\",\"blue\",\"blue\",\"blue\",\"blue\",\"blue\",\"blue\",\"blue\",\"blue\",\"blue\",\"blue\",\"blue\",\"blue\",\"blue\",\"blue\",\"blue\",\"blue\",\"blue\",\"blue\",\"blue\",\"blue\",\"blue\",\"blue\",\"blue\",\"blue\",\"blue\",\"blue\",\"blue\",\"blue\",\"blue\",\"blue\",\"blue\",\"blue\",\"blue\",\"blue\",\"blue\",\"blue\",\"blue\",\"blue\",\"blue\",\"blue\",\"blue\",\"blue\",\"blue\",\"blue\",\"blue\",\"blue\",\"blue\",\"blue\",\"blue\",\"blue\",\"blue\",\"blue\",\"blue\",\"blue\",\"blue\",\"blue\",\"blue\",\"blue\",\"blue\",\"blue\",\"blue\",\"blue\",\"blue\",\"blue\",\"blue\",\"blue\",\"blue\",\"blue\",\"blue\",\"blue\",\"blue\",\"blue\",\"blue\",\"blue\",\"blue\",\"blue\",\"blue\",\"blue\",\"blue\",\"blue\",\"blue\",\"blue\",\"blue\",\"blue\",\"blue\",\"blue\",\"blue\",\"blue\",\"blue\",\"blue\",\"blue\",\"blue\",\"blue\",\"blue\",\"blue\",\"blue\",\"blue\",\"blue\",\"blue\",\"blue\",\"blue\",\"blue\",\"blue\",\"blue\",\"blue\",\"blue\",\"blue\",\"blue\",\"blue\",\"blue\",\"blue\",\"blue\",\"blue\",\"blue\",\"blue\",\"blue\",\"blue\",\"blue\",\"blue\",\"blue\",\"blue\",\"blue\",\"blue\",\"blue\",\"blue\",\"blue\",\"blue\",\"blue\",\"blue\",\"blue\",\"blue\",\"blue\",\"blue\",\"blue\",\"blue\",\"blue\",\"blue\",\"blue\",\"blue\",\"blue\",\"blue\",\"blue\",\"blue\",\"blue\",\"blue\",\"blue\",\"blue\",\"blue\",\"blue\",\"blue\",\"blue\",\"blue\",\"blue\",\"blue\",\"blue\",\"blue\",\"blue\",\"blue\",\"blue\",\"blue\",\"blue\",\"blue\",\"blue\",\"blue\",\"blue\",\"blue\",\"blue\",\"blue\",\"blue\",\"blue\",\"blue\",\"blue\",\"blue\",\"blue\",\"blue\",\"blue\",\"blue\",\"blue\",\"blue\",\"blue\",\"blue\",\"blue\",\"blue\",\"blue\",\"blue\",\"blue\",\"blue\",\"blue\",\"blue\",\"blue\",\"blue\",\"blue\",\"blue\",\"blue\",\"blue\",\"blue\",\"blue\",\"blue\",\"blue\",\"blue\",\"blue\",\"blue\",\"blue\",\"blue\",\"blue\",\"blue\",\"blue\",\"blue\",\"blue\",\"blue\",\"blue\",\"blue\",\"blue\",\"blue\",\"blue\",\"blue\",\"blue\",\"blue\",\"blue\",\"blue\",\"blue\",\"blue\",\"blue\",\"blue\",\"blue\",\"blue\",\"blue\",\"blue\",\"blue\",\"blue\",\"blue\",\"blue\",\"blue\",\"blue\",\"blue\",\"blue\",\"blue\",\"blue\",\"blue\",\"blue\",\"blue\",\"blue\",\"blue\",\"blue\",\"blue\",\"blue\",\"blue\",\"blue\",\"blue\",\"blue\",\"blue\",\"blue\",\"blue\",\"blue\",\"blue\",\"blue\",\"blue\",\"blue\",\"blue\",\"blue\",\"blue\",\"blue\",\"blue\",\"blue\",\"blue\",\"blue\",\"blue\",\"blue\",\"blue\",\"blue\",\"blue\",\"blue\",\"blue\",\"blue\",\"blue\",\"blue\",\"blue\",\"blue\",\"blue\",\"blue\",\"blue\",\"blue\",\"blue\",\"blue\",\"blue\",\"blue\",\"blue\",\"blue\",\"blue\",\"blue\",\"blue\",\"blue\",\"blue\",\"blue\",\"blue\",\"blue\",\"blue\",\"blue\",\"blue\",\"blue\",\"blue\",\"blue\",\"blue\",\"blue\",\"blue\",\"blue\",\"blue\",\"blue\",\"blue\",\"blue\",\"blue\",\"blue\",\"blue\",\"blue\",\"blue\",\"blue\",\"blue\",\"blue\",\"blue\",\"blue\",\"blue\",\"blue\",\"blue\",\"blue\",\"blue\",\"blue\",\"blue\",\"blue\",\"blue\",\"blue\",\"blue\",\"blue\",\"blue\",\"blue\",\"blue\",\"blue\",\"blue\",\"blue\",\"blue\",\"blue\",\"blue\",\"blue\",\"blue\",\"blue\",\"blue\",\"blue\",\"blue\",\"blue\",\"blue\",\"blue\",\"blue\",\"blue\",\"blue\",\"blue\",\"blue\",\"blue\",\"blue\",\"blue\",\"blue\",\"blue\",\"blue\",\"blue\",\"blue\",\"blue\",\"blue\",\"blue\",\"blue\",\"blue\",\"blue\",\"blue\",\"blue\",\"blue\",\"blue\",\"blue\",\"blue\",\"blue\",\"blue\",\"blue\",\"blue\",\"blue\",\"blue\",\"blue\",\"blue\",\"blue\",\"blue\",\"blue\",\"blue\",\"blue\",\"blue\",\"blue\",\"blue\",\"blue\",\"blue\",\"blue\",\"blue\",\"blue\",\"blue\",\"blue\",\"blue\",\"blue\",\"blue\",\"blue\",\"blue\",\"blue\",\"blue\",\"blue\",\"blue\",\"blue\",\"blue\",\"blue\",\"blue\",\"blue\",\"blue\",\"blue\",\"blue\",\"blue\",\"blue\",\"blue\",\"blue\",\"blue\",\"blue\",\"blue\",\"blue\",\"blue\",\"blue\",\"blue\",\"blue\",\"blue\",\"blue\",\"blue\",\"blue\",\"blue\",\"blue\",\"blue\",\"blue\",\"blue\",\"blue\",\"blue\",\"blue\",\"blue\",\"blue\",\"blue\",\"blue\",\"blue\",\"blue\",\"blue\",\"blue\",\"blue\",\"blue\",\"blue\",\"blue\",\"blue\",\"blue\",\"blue\",\"blue\",\"blue\",\"blue\",\"blue\",\"blue\",\"blue\",\"blue\",\"blue\",\"blue\",\"blue\",\"blue\",\"blue\",\"blue\",\"blue\",\"blue\",\"blue\",\"blue\",\"blue\",\"blue\",\"blue\",\"blue\",\"blue\",\"blue\",\"blue\",\"blue\",\"blue\",\"blue\",\"blue\",\"blue\",\"blue\",\"blue\",\"blue\",\"blue\",\"blue\",\"blue\",\"blue\",\"blue\",\"blue\",\"blue\",\"blue\",\"blue\",\"blue\",\"blue\",\"blue\",\"blue\",\"blue\",\"blue\",\"blue\",\"blue\",\"blue\",\"blue\",\"blue\",\"blue\",\"blue\",\"blue\",\"blue\",\"blue\",\"blue\",\"blue\",\"blue\",\"blue\",\"blue\",\"blue\",\"blue\",\"blue\",\"blue\",\"blue\",\"blue\",\"blue\",\"blue\",\"blue\",\"blue\",\"blue\",\"blue\",\"blue\",\"blue\",\"blue\",\"blue\",\"blue\",\"blue\",\"blue\",\"blue\",\"blue\",\"blue\",\"blue\",\"blue\",\"blue\",\"blue\",\"blue\",\"blue\",\"blue\",\"blue\",\"blue\",\"blue\",\"blue\",\"blue\",\"blue\",\"blue\",\"blue\",\"blue\",\"blue\",\"blue\",\"blue\",\"blue\",\"blue\",\"blue\",\"blue\",\"blue\",\"blue\",\"blue\",\"blue\",\"blue\",\"blue\",\"blue\",\"blue\",\"blue\",\"blue\",\"blue\",\"blue\",\"blue\",\"blue\",\"blue\",\"blue\",\"blue\",\"blue\",\"blue\",\"blue\",\"blue\",\"blue\",\"blue\",\"blue\",\"blue\",\"blue\",\"blue\",\"blue\",\"blue\",\"blue\",\"blue\",\"blue\",\"blue\",\"blue\",\"blue\",\"blue\",\"blue\",\"blue\",\"blue\",\"blue\",\"blue\",\"blue\",\"blue\",\"blue\",\"blue\",\"blue\",\"blue\",\"blue\",\"blue\",\"blue\",\"blue\",\"blue\",\"blue\",\"blue\",\"blue\",\"blue\",\"blue\",\"blue\",\"blue\",\"blue\",\"blue\",\"blue\",\"blue\",\"blue\",\"blue\",\"blue\",\"blue\",\"blue\",\"blue\",\"blue\",\"blue\",\"blue\",\"blue\",\"blue\",\"blue\",\"blue\",\"blue\",\"blue\",\"blue\",\"blue\",\"blue\",\"blue\",\"blue\",\"blue\",\"blue\",\"blue\",\"blue\",\"blue\",\"blue\",\"blue\",\"blue\",\"blue\",\"blue\",\"blue\",\"blue\",\"blue\",\"blue\",\"blue\",\"blue\",\"blue\",\"blue\",\"blue\",\"blue\",\"blue\",\"blue\",\"blue\",\"blue\",\"blue\",\"blue\",\"blue\",\"blue\",\"blue\",\"blue\",\"blue\",\"blue\",\"blue\",\"blue\",\"blue\",\"blue\",\"blue\",\"blue\",\"blue\",\"blue\",\"blue\",\"blue\",\"blue\",\"blue\",\"blue\",\"blue\",\"blue\",\"blue\",\"blue\",\"blue\",\"blue\",\"blue\",\"blue\",\"blue\",\"blue\",\"blue\",\"blue\",\"blue\",\"blue\",\"blue\",\"blue\",\"blue\",\"blue\",\"blue\",\"blue\",\"blue\",\"blue\",\"blue\",\"blue\",\"blue\",\"blue\",\"blue\",\"blue\",\"blue\",\"blue\",\"blue\",\"blue\",\"blue\",\"blue\",\"blue\",\"blue\",\"blue\",\"blue\",\"blue\",\"blue\",\"blue\",\"blue\",\"blue\",\"blue\",\"blue\",\"blue\",\"blue\",\"blue\",\"blue\",\"blue\",\"blue\",\"blue\",\"blue\",\"blue\",\"blue\",\"blue\",\"blue\",\"blue\",\"blue\",\"blue\",\"blue\",\"blue\",\"blue\",\"blue\",\"blue\",\"blue\",\"blue\",\"blue\",\"blue\",\"blue\",\"blue\",\"blue\",\"blue\",\"blue\",\"blue\",\"blue\",\"blue\",\"blue\",\"blue\",\"blue\",\"blue\",\"blue\",\"blue\",\"blue\",\"blue\",\"blue\",\"blue\",\"blue\",\"blue\",\"blue\",\"blue\",\"blue\",\"blue\",\"blue\",\"blue\",\"blue\",\"blue\",\"blue\",\"blue\",\"blue\",\"blue\",\"blue\",\"blue\",\"blue\",\"blue\",\"blue\",\"blue\",\"blue\",\"blue\",\"blue\",\"blue\",\"blue\",\"blue\",\"blue\",\"blue\",\"blue\",\"blue\",\"blue\",\"blue\",\"blue\",\"blue\",\"blue\",\"blue\",\"blue\",\"blue\",\"blue\",\"blue\",\"blue\",\"blue\",\"blue\",\"blue\",\"blue\",\"blue\",\"blue\",\"blue\",\"blue\",\"blue\",\"blue\",\"blue\",\"blue\",\"blue\",\"blue\",\"blue\",\"blue\",\"blue\",\"blue\",\"blue\",\"blue\",\"blue\",\"blue\",\"blue\",\"blue\",\"blue\",\"blue\",\"blue\",\"blue\",\"blue\",\"blue\",\"blue\",\"blue\",\"blue\",\"blue\",\"blue\",\"blue\",\"blue\",\"blue\",\"blue\",\"blue\",\"blue\",\"blue\",\"blue\",\"blue\",\"blue\",\"blue\",\"blue\",\"blue\",\"blue\",\"blue\",\"blue\",\"blue\",\"blue\",\"blue\",\"blue\",\"blue\",\"blue\",\"blue\",\"blue\",\"blue\",\"blue\",\"blue\",\"blue\",\"blue\",\"blue\",\"blue\",\"blue\",\"blue\",\"blue\",\"blue\",\"blue\",\"blue\",\"blue\",\"blue\",\"blue\",\"blue\",\"blue\",\"blue\",\"blue\",\"blue\",\"blue\",\"blue\",\"blue\",\"blue\",\"blue\",\"blue\",\"blue\",\"blue\",\"blue\",\"blue\",\"blue\",\"blue\",\"blue\",\"blue\",\"blue\",\"blue\",\"blue\",\"blue\",\"blue\",\"blue\",\"blue\",\"blue\",\"blue\",\"blue\",\"blue\",\"blue\",\"blue\",\"blue\",\"blue\",\"blue\",\"blue\",\"blue\",\"blue\",\"blue\",\"blue\",\"blue\",\"blue\",\"blue\",\"blue\",\"blue\",\"blue\",\"blue\",\"blue\",\"blue\",\"blue\",\"blue\",\"blue\",\"blue\",\"blue\",\"blue\",\"blue\",\"blue\",\"blue\",\"blue\",\"blue\",\"blue\",\"blue\",\"blue\",\"blue\",\"blue\",\"blue\",\"blue\",\"blue\",\"blue\",\"blue\",\"blue\",\"blue\",\"blue\",\"blue\",\"blue\",\"blue\",\"blue\",\"blue\",\"blue\",\"blue\",\"blue\",\"blue\",\"blue\",\"blue\",\"blue\",\"blue\",\"blue\",\"blue\",\"blue\",\"blue\",\"blue\",\"blue\",\"blue\",\"blue\",\"blue\",\"blue\",\"blue\",\"blue\",\"blue\",\"blue\",\"blue\",\"blue\",\"blue\",\"blue\",\"blue\",\"blue\",\"blue\",\"blue\",\"blue\",\"blue\",\"blue\",\"blue\",\"blue\",\"blue\",\"blue\",\"blue\",\"blue\",\"blue\",\"blue\",\"blue\",\"blue\",\"blue\",\"blue\",\"blue\",\"blue\",\"blue\",\"blue\",\"blue\",\"blue\",\"blue\",\"blue\",\"blue\",\"blue\",\"blue\",\"blue\",\"blue\",\"blue\",\"blue\",\"blue\",\"blue\",\"blue\",\"blue\",\"blue\",\"blue\",\"blue\",\"blue\",\"blue\",\"blue\",\"blue\",\"blue\",\"blue\",\"blue\",\"blue\",\"blue\",\"blue\",\"blue\",\"blue\",\"blue\",\"blue\",\"blue\",\"blue\",\"blue\",\"blue\",\"blue\",\"blue\",\"blue\",\"blue\",\"blue\",\"blue\",\"blue\",\"blue\",\"blue\",\"blue\",\"blue\",\"blue\",\"blue\",\"blue\",\"blue\",\"blue\",\"blue\",\"blue\",\"blue\",\"blue\",\"blue\",\"blue\",\"blue\",\"blue\",\"blue\",\"blue\",\"blue\",\"blue\",\"blue\",\"blue\",\"blue\",\"blue\",\"blue\",\"blue\",\"blue\",\"blue\",\"blue\",\"blue\",\"blue\",\"blue\",\"blue\",\"blue\",\"blue\",\"blue\",\"blue\",\"blue\",\"blue\",\"blue\",\"blue\",\"blue\",\"blue\",\"blue\",\"blue\",\"blue\",\"blue\",\"blue\",\"blue\",\"blue\",\"blue\",\"blue\",\"blue\",\"blue\",\"blue\",\"blue\",\"blue\",\"blue\",\"blue\",\"blue\",\"blue\",\"blue\",\"blue\",\"blue\",\"blue\",\"blue\",\"blue\",\"blue\",\"blue\",\"blue\",\"blue\",\"blue\",\"blue\",\"blue\",\"blue\",\"blue\",\"blue\",\"blue\",\"blue\",\"blue\",\"blue\",\"blue\",\"blue\",\"blue\",\"blue\",\"blue\",\"blue\",\"blue\",\"blue\",\"blue\",\"blue\",\"blue\",\"blue\",\"blue\",\"blue\",\"blue\",\"blue\",\"blue\",\"blue\",\"blue\",\"blue\",\"blue\",\"blue\",\"blue\",\"blue\",\"blue\",\"blue\",\"blue\",\"blue\",\"blue\",\"blue\",\"blue\",\"blue\",\"blue\",\"blue\",\"blue\",\"blue\",\"blue\",\"blue\",\"blue\",\"blue\",\"blue\",\"blue\",\"blue\",\"blue\",\"blue\",\"blue\",\"blue\",\"blue\",\"blue\",\"blue\",\"blue\",\"blue\",\"blue\",\"blue\",\"blue\",\"blue\",\"blue\",\"blue\",\"blue\",\"blue\",\"blue\",\"blue\",\"blue\",\"blue\",\"blue\",\"blue\",\"blue\",\"blue\",\"blue\",\"blue\",\"blue\",\"blue\",\"blue\",\"blue\",\"blue\",\"blue\",\"blue\",\"blue\",\"blue\",\"blue\",\"blue\",\"blue\",\"blue\",\"blue\",\"blue\",\"blue\",\"blue\",\"blue\",\"blue\",\"blue\",\"blue\",\"blue\",\"blue\",\"blue\",\"blue\",\"blue\",\"blue\",\"blue\",\"blue\",\"blue\",\"blue\",\"blue\",\"blue\",\"blue\",\"blue\",\"blue\",\"blue\",\"blue\",\"blue\",\"blue\",\"blue\",\"blue\",\"blue\",\"blue\",\"blue\",\"blue\",\"blue\",\"blue\",\"blue\",\"blue\",\"blue\",\"blue\",\"blue\",\"blue\",\"blue\",\"blue\",\"blue\",\"blue\",\"blue\",\"blue\",\"blue\",\"blue\",\"blue\",\"blue\",\"blue\",\"blue\",\"blue\",\"blue\",\"blue\",\"blue\",\"blue\",\"blue\",\"blue\",\"blue\",\"blue\",\"blue\",\"blue\",\"blue\",\"blue\",\"blue\",\"blue\",\"blue\",\"blue\",\"blue\",\"blue\",\"blue\",\"blue\",\"blue\",\"blue\",\"blue\",\"blue\",\"blue\",\"blue\",\"blue\",\"blue\",\"blue\",\"blue\",\"blue\",\"blue\",\"blue\",\"blue\",\"blue\",\"blue\",\"blue\",\"blue\",\"blue\",\"blue\",\"blue\",\"blue\",\"blue\",\"blue\",\"blue\",\"blue\",\"blue\",\"blue\",\"blue\",\"blue\",\"blue\",\"blue\",\"blue\",\"blue\",\"blue\",\"blue\",\"blue\",\"blue\",\"blue\",\"blue\",\"blue\",\"blue\",\"blue\",\"blue\",\"blue\",\"blue\",\"blue\",\"blue\",\"blue\",\"blue\",\"blue\",\"blue\",\"blue\",\"blue\",\"blue\",\"blue\",\"blue\",\"blue\",\"blue\",\"blue\",\"blue\",\"blue\",\"blue\",\"blue\",\"blue\",\"blue\",\"blue\",\"blue\",\"blue\",\"blue\",\"blue\",\"blue\",\"blue\",\"blue\",\"blue\",\"blue\",\"blue\",\"blue\",\"blue\",\"blue\",\"blue\",\"blue\",\"blue\",\"blue\",\"blue\",\"blue\",\"blue\",\"blue\",\"blue\",\"blue\",\"blue\",\"blue\",\"blue\",\"blue\",\"blue\",\"blue\",\"blue\",\"blue\",\"blue\",\"blue\",\"blue\",\"blue\",\"blue\",\"blue\",\"blue\",\"blue\",\"blue\",\"blue\",\"blue\",\"blue\",\"blue\",\"blue\",\"blue\",\"blue\",\"blue\",\"blue\",\"blue\",\"blue\",\"blue\",\"blue\",\"blue\",\"blue\",\"blue\",\"blue\",\"blue\",\"blue\",\"blue\",\"blue\",\"blue\",\"blue\",\"blue\",\"blue\",\"blue\",\"blue\",\"blue\",\"blue\",\"blue\",\"blue\",\"blue\",\"blue\",\"blue\",\"blue\",\"blue\",\"blue\",\"blue\",\"blue\",\"blue\",\"blue\",\"blue\",\"blue\",\"blue\",\"blue\",\"blue\",\"blue\",\"blue\",\"blue\",\"blue\",\"blue\",\"blue\",\"blue\",\"blue\",\"blue\",\"blue\",\"blue\",\"blue\",\"blue\",\"blue\",\"blue\",\"blue\",\"blue\",\"blue\",\"blue\",\"blue\",\"blue\",\"blue\",\"blue\",\"blue\",\"blue\",\"blue\",\"blue\",\"blue\",\"blue\",\"blue\",\"blue\",\"blue\",\"blue\",\"blue\",\"blue\",\"blue\",\"blue\",\"blue\",\"blue\",\"blue\",\"blue\",\"blue\",\"blue\",\"blue\",\"blue\",\"blue\",\"blue\",\"blue\",\"blue\",\"blue\",\"blue\",\"blue\",\"blue\",\"blue\",\"blue\",\"blue\",\"blue\",\"blue\",\"blue\",\"blue\",\"blue\",\"blue\",\"blue\",\"blue\",\"blue\",\"blue\",\"blue\",\"blue\",\"blue\",\"blue\",\"blue\",\"blue\",\"blue\",\"blue\",\"blue\",\"blue\",\"blue\",\"blue\",\"blue\",\"blue\",\"blue\",\"blue\",\"blue\",\"blue\",\"blue\",\"blue\",\"blue\",\"blue\",\"blue\",\"blue\",\"blue\",\"blue\",\"blue\",\"blue\",\"blue\",\"blue\",\"blue\",\"blue\",\"blue\",\"blue\",\"blue\",\"blue\",\"blue\",\"blue\",\"blue\",\"blue\",\"blue\",\"blue\",\"blue\",\"blue\",\"blue\",\"blue\",\"blue\",\"blue\",\"blue\",\"blue\",\"blue\",\"blue\",\"blue\",\"blue\",\"blue\",\"blue\",\"blue\",\"blue\",\"blue\",\"blue\",\"blue\",\"blue\",\"blue\",\"blue\",\"blue\",\"blue\",\"blue\",\"blue\",\"blue\",\"blue\",\"blue\",\"blue\",\"blue\",\"blue\",\"blue\",\"blue\",\"blue\",\"blue\",\"blue\",\"blue\",\"blue\",\"blue\",\"blue\",\"blue\",\"blue\",\"blue\",\"blue\",\"blue\",\"blue\",\"blue\",\"blue\",\"blue\",\"blue\",\"blue\",\"blue\",\"blue\",\"blue\",\"blue\",\"blue\",\"blue\",\"blue\",\"blue\",\"blue\",\"blue\",\"blue\",\"blue\",\"blue\",\"blue\",\"blue\",\"blue\",\"blue\",\"blue\",\"blue\",\"blue\",\"blue\",\"blue\",\"blue\",\"blue\",\"blue\",\"blue\",\"blue\",\"blue\",\"blue\",\"blue\",\"blue\",\"blue\",\"blue\",\"blue\",\"blue\",\"blue\",\"blue\",\"blue\",\"blue\",\"blue\",\"blue\",\"blue\",\"blue\",\"blue\",\"blue\",\"blue\",\"blue\",\"blue\",\"blue\",\"blue\",\"blue\",\"blue\",\"blue\",\"blue\",\"blue\",\"blue\",\"blue\",\"blue\",\"blue\",\"blue\",\"blue\",\"blue\",\"blue\",\"blue\",\"blue\",\"blue\",\"blue\",\"blue\",\"blue\",\"blue\",\"blue\",\"blue\",\"blue\",\"blue\",\"blue\",\"blue\",\"blue\",\"blue\",\"blue\",\"blue\",\"blue\",\"blue\",\"blue\",\"blue\",\"blue\",\"blue\",\"blue\",\"blue\",\"blue\",\"blue\",\"blue\",\"blue\",\"blue\",\"blue\",\"blue\",\"blue\",\"blue\",\"blue\",\"blue\",\"blue\",\"blue\",\"blue\",\"blue\",\"blue\",\"blue\",\"blue\",\"blue\",\"blue\",\"blue\",\"blue\",\"blue\",\"blue\",\"blue\",\"blue\",\"blue\",\"blue\",\"blue\",\"blue\",\"blue\",\"blue\",\"blue\",\"blue\",\"blue\",\"blue\",\"blue\",\"blue\",\"blue\",\"blue\",\"blue\",\"blue\",\"blue\",\"blue\",\"blue\",\"blue\",\"blue\",\"blue\",\"blue\",\"blue\",\"blue\",\"blue\",\"blue\",\"blue\",\"blue\",\"blue\",\"blue\",\"blue\",\"blue\",\"blue\",\"blue\",\"blue\",\"blue\",\"blue\",\"blue\",\"blue\",\"blue\",\"blue\",\"blue\",\"blue\",\"blue\",\"blue\",\"blue\",\"blue\",\"blue\",\"blue\",\"blue\",\"blue\",\"blue\",\"blue\",\"blue\",\"blue\",\"blue\",\"blue\",\"blue\",\"blue\",\"blue\",\"blue\",\"blue\",\"blue\",\"blue\",\"blue\",\"blue\",\"blue\",\"blue\",\"blue\",\"blue\",\"blue\",\"blue\",\"blue\",\"blue\",\"blue\",\"blue\",\"blue\",\"blue\",\"blue\",\"blue\",\"blue\",\"blue\",\"blue\",\"blue\",\"blue\",\"blue\",\"blue\",\"blue\",\"blue\",\"blue\",\"blue\",\"blue\",\"blue\",\"blue\",\"blue\",\"blue\",\"blue\",\"blue\",\"blue\",\"blue\",\"blue\",\"blue\",\"blue\",\"blue\",\"blue\",\"blue\",\"blue\",\"blue\",\"blue\",\"blue\",\"blue\",\"blue\",\"blue\",\"blue\",\"blue\",\"blue\",\"blue\",\"blue\",\"blue\",\"blue\",\"blue\",\"blue\",\"blue\",\"blue\",\"blue\",\"blue\",\"blue\",\"blue\",\"blue\",\"blue\",\"blue\",\"blue\",\"blue\",\"blue\",\"blue\",\"blue\",\"blue\",\"blue\",\"blue\",\"blue\",\"blue\",\"blue\",\"blue\",\"blue\",\"blue\",\"blue\",\"blue\",\"blue\",\"blue\",\"blue\",\"blue\",\"blue\",\"blue\",\"blue\",\"blue\",\"blue\",\"blue\",\"blue\",\"blue\",\"blue\",\"blue\",\"blue\",\"blue\",\"blue\",\"blue\",\"blue\",\"blue\",\"blue\",\"blue\",\"blue\",\"blue\",\"blue\",\"blue\",\"blue\",\"blue\",\"blue\",\"blue\",\"blue\",\"blue\",\"blue\",\"blue\",\"blue\",\"blue\",\"blue\",\"blue\",\"blue\",\"blue\",\"blue\",\"blue\",\"blue\",\"blue\",\"blue\",\"blue\",\"blue\",\"blue\",\"blue\",\"blue\",\"blue\",\"blue\",\"blue\",\"blue\",\"blue\",\"blue\",\"blue\",\"blue\",\"blue\",\"blue\",\"blue\",\"blue\",\"blue\",\"blue\",\"blue\",\"blue\",\"blue\",\"blue\",\"blue\",\"blue\",\"blue\",\"blue\",\"blue\",\"blue\",\"blue\",\"blue\",\"blue\",\"blue\",\"blue\",\"blue\",\"blue\",\"blue\",\"blue\",\"blue\",\"blue\",\"blue\",\"blue\",\"blue\",\"blue\",\"blue\",\"blue\",\"blue\",\"blue\",\"blue\",\"blue\",\"blue\",\"blue\",\"blue\",\"blue\",\"blue\",\"blue\",\"blue\",\"blue\",\"blue\",\"blue\",\"blue\",\"blue\",\"blue\",\"blue\",\"blue\",\"blue\",\"blue\",\"blue\",\"blue\",\"blue\",\"blue\",\"blue\",\"blue\",\"blue\",\"blue\",\"blue\",\"blue\",\"blue\",\"blue\",\"blue\",\"blue\",\"blue\",\"blue\",\"blue\",\"blue\",\"blue\",\"blue\",\"blue\",\"blue\",\"blue\",\"blue\",\"blue\",\"blue\",\"blue\",\"blue\",\"blue\",\"blue\",\"blue\",\"blue\",\"blue\",\"blue\",\"blue\",\"blue\",\"blue\",\"blue\",\"blue\",\"blue\",\"blue\",\"blue\",\"blue\",\"blue\",\"blue\",\"blue\",\"blue\",\"blue\",\"blue\",\"blue\",\"blue\",\"blue\",\"blue\",\"blue\",\"blue\",\"blue\",\"blue\",\"blue\",\"blue\",\"blue\",\"blue\",\"blue\",\"blue\",\"blue\",\"blue\",\"blue\",\"blue\",\"blue\",\"blue\",\"blue\",\"blue\",\"blue\",\"blue\",\"blue\",\"blue\",\"blue\",\"blue\",\"blue\",\"blue\",\"blue\",\"blue\",\"blue\",\"blue\",\"blue\",\"blue\",\"blue\",\"blue\",\"blue\",\"blue\",\"blue\",\"blue\",\"blue\",\"blue\",\"blue\",\"blue\",\"blue\",\"blue\",\"blue\",\"blue\",\"blue\",\"blue\",\"blue\",\"blue\",\"blue\",\"blue\",\"blue\",\"blue\",\"blue\",\"blue\",\"blue\",\"blue\",\"blue\",\"blue\",\"blue\",\"blue\",\"blue\",\"blue\",\"blue\",\"blue\",\"blue\",\"blue\",\"blue\",\"blue\",\"blue\",\"blue\",\"blue\",\"blue\",\"blue\",\"blue\",\"blue\",\"blue\",\"blue\",\"blue\",\"blue\",\"blue\",\"blue\",\"blue\",\"blue\",\"blue\",\"blue\",\"blue\",\"blue\",\"blue\",\"blue\",\"blue\",\"blue\",\"blue\",\"blue\",\"blue\",\"blue\",\"blue\",\"blue\",\"blue\",\"blue\",\"blue\",\"blue\",\"blue\",\"blue\",\"blue\",\"blue\",\"blue\",\"blue\",\"blue\",\"blue\",\"blue\",\"blue\",\"blue\",\"blue\",\"blue\",\"blue\",\"blue\",\"blue\",\"blue\",\"blue\",\"blue\",\"blue\",\"blue\",\"blue\",\"blue\",\"blue\",\"blue\",\"blue\",\"blue\",\"blue\",\"blue\",\"blue\",\"blue\",\"blue\",\"blue\",\"blue\",\"blue\",\"blue\",\"blue\",\"blue\",\"blue\",\"blue\",\"blue\",\"blue\",\"blue\",\"blue\",\"blue\",\"blue\",\"blue\",\"blue\",\"blue\",\"blue\",\"blue\",\"blue\",\"blue\",\"blue\",\"blue\",\"blue\",\"blue\",\"blue\",\"blue\",\"blue\",\"blue\",\"blue\",\"blue\",\"blue\",\"blue\",\"blue\",\"blue\",\"blue\",\"blue\",\"blue\",\"blue\",\"blue\",\"blue\",\"blue\",\"blue\",\"blue\",\"blue\",\"blue\",\"blue\",\"blue\",\"blue\",\"blue\",\"blue\",\"blue\",\"blue\",\"blue\",\"blue\",\"blue\",\"blue\",\"blue\",\"blue\",\"blue\",\"blue\",\"blue\",\"blue\",\"blue\",\"blue\",\"blue\",\"blue\",\"blue\",\"blue\",\"blue\",\"blue\",\"blue\",\"blue\",\"blue\",\"blue\",\"blue\",\"blue\",\"blue\",\"blue\",\"blue\",\"blue\",\"blue\",\"blue\",\"blue\",\"blue\",\"blue\",\"blue\",\"blue\",\"blue\",\"blue\",\"blue\",\"blue\",\"blue\",\"blue\",\"blue\",\"blue\",\"blue\",\"blue\",\"blue\",\"blue\",\"blue\",\"blue\",\"blue\",\"blue\",\"blue\",\"blue\",\"blue\",\"blue\",\"blue\",\"blue\",\"blue\",\"blue\",\"blue\",\"blue\",\"blue\",\"blue\",\"blue\",\"blue\",\"blue\",\"blue\",\"blue\",\"blue\",\"blue\",\"blue\",\"blue\",\"blue\",\"blue\",\"blue\",\"blue\",\"blue\",\"blue\",\"blue\",\"blue\",\"blue\",\"blue\",\"blue\",\"blue\",\"blue\",\"blue\",\"blue\",\"blue\",\"blue\",\"blue\",\"blue\",\"blue\",\"blue\",\"blue\",\"blue\",\"blue\",\"blue\",\"blue\",\"blue\",\"blue\",\"blue\",\"blue\",\"blue\",\"blue\",\"blue\",\"blue\",\"blue\",\"blue\",\"blue\",\"blue\",\"blue\",\"blue\",\"blue\",\"blue\",\"blue\",\"blue\",\"blue\",\"blue\",\"blue\",\"blue\",\"blue\",\"blue\",\"blue\",\"blue\",\"blue\",\"blue\",\"blue\",\"blue\",\"blue\",\"blue\",\"blue\",\"blue\",\"blue\",\"blue\",\"blue\",\"blue\",\"blue\",\"blue\",\"blue\",\"blue\",\"blue\",\"blue\",\"blue\",\"blue\",\"blue\",\"blue\",\"blue\",\"blue\",\"blue\",\"blue\",\"blue\",\"blue\",\"blue\",\"blue\",\"blue\",\"blue\",\"blue\",\"blue\",\"blue\",\"blue\",\"blue\",\"blue\",\"blue\",\"blue\",\"blue\",\"blue\",\"blue\",\"blue\",\"blue\",\"blue\",\"blue\",\"blue\",\"blue\",\"blue\",\"blue\",\"blue\",\"blue\",\"blue\",\"blue\",\"blue\",\"blue\",\"blue\",\"blue\",\"blue\",\"blue\",\"blue\",\"blue\",\"blue\",\"blue\",\"blue\",\"blue\",\"blue\",\"blue\",\"blue\",\"blue\",\"blue\",\"blue\",\"blue\",\"blue\",\"blue\",\"blue\",\"blue\",\"blue\",\"blue\",\"blue\",\"blue\",\"blue\",\"blue\",\"blue\",\"blue\",\"blue\",\"blue\",\"blue\",\"blue\",\"blue\",\"blue\",\"blue\",\"blue\",\"blue\",\"blue\",\"blue\",\"blue\",\"blue\",\"blue\",\"blue\",\"blue\",\"blue\",\"blue\",\"blue\",\"blue\",\"blue\",\"blue\",\"blue\",\"blue\",\"blue\",\"blue\",\"blue\",\"blue\",\"blue\",\"blue\",\"blue\",\"blue\",\"blue\",\"blue\",\"blue\",\"blue\",\"blue\",\"blue\",\"blue\",\"blue\",\"blue\",\"blue\",\"blue\",\"blue\",\"blue\",\"blue\",\"blue\",\"blue\",\"blue\",\"blue\",\"blue\",\"blue\",\"blue\",\"blue\",\"blue\",\"blue\",\"blue\",\"blue\",\"blue\",\"blue\",\"blue\",\"blue\",\"blue\",\"blue\",\"blue\",\"blue\",\"blue\",\"blue\",\"blue\",\"blue\",\"blue\",\"blue\",\"blue\",\"blue\",\"blue\",\"blue\",\"blue\",\"blue\",\"blue\",\"blue\",\"blue\",\"blue\",\"blue\",\"blue\",\"blue\",\"blue\",\"blue\",\"blue\",\"blue\",\"blue\",\"blue\",\"blue\",\"blue\",\"blue\",\"blue\",\"blue\",\"blue\",\"blue\",\"blue\",\"blue\",\"blue\",\"blue\",\"blue\",\"blue\",\"blue\",\"blue\",\"blue\",\"blue\",\"blue\",\"blue\",\"blue\",\"blue\",\"blue\",\"blue\",\"blue\",\"blue\",\"blue\",\"blue\",\"blue\",\"blue\",\"blue\",\"blue\",\"blue\",\"blue\",\"blue\",\"blue\",\"blue\",\"blue\",\"blue\",\"blue\",\"blue\",\"blue\",\"blue\",\"blue\",\"blue\",\"blue\",\"blue\",\"blue\",\"blue\",\"blue\",\"blue\",\"blue\",\"blue\",\"blue\",\"blue\",\"blue\",\"blue\",\"blue\",\"blue\",\"blue\",\"blue\",\"blue\",\"blue\",\"blue\",\"blue\",\"blue\",\"blue\",\"blue\",\"blue\",\"blue\",\"blue\",\"blue\",\"blue\",\"blue\",\"blue\",\"blue\",\"blue\",\"blue\",\"blue\",\"blue\",\"blue\",\"blue\",\"blue\",\"blue\",\"blue\",\"blue\",\"blue\",\"blue\",\"blue\",\"blue\",\"blue\",\"blue\",\"blue\",\"blue\",\"blue\",\"blue\",\"blue\",\"blue\",\"blue\",\"blue\",\"blue\",\"blue\",\"blue\",\"blue\",\"blue\",\"blue\",\"blue\",\"blue\",\"blue\",\"blue\",\"blue\",\"blue\",\"blue\",\"blue\",\"blue\",\"blue\",\"blue\",\"blue\",\"blue\",\"blue\",\"blue\",\"blue\",\"blue\",\"blue\",\"blue\",\"blue\",\"blue\",\"blue\",\"blue\",\"blue\",\"blue\",\"blue\",\"blue\",\"blue\",\"blue\",\"blue\",\"blue\",\"blue\",\"blue\",\"blue\",\"blue\",\"blue\",\"blue\",\"blue\",\"blue\",\"blue\",\"blue\",\"blue\",\"blue\",\"blue\",\"blue\",\"blue\",\"blue\",\"blue\",\"blue\",\"blue\",\"blue\",\"blue\",\"blue\",\"blue\",\"blue\",\"blue\",\"blue\",\"blue\",\"blue\",\"blue\",\"blue\",\"blue\",\"blue\",\"blue\",\"blue\",\"blue\",\"blue\",\"blue\",\"blue\",\"blue\",\"blue\",\"blue\",\"blue\",\"blue\",\"blue\",\"blue\",\"blue\",\"blue\",\"blue\",\"blue\",\"blue\",\"blue\",\"blue\",\"blue\",\"blue\",\"blue\",\"blue\",\"blue\",\"blue\",\"blue\",\"blue\",\"blue\",\"blue\",\"blue\",\"blue\",\"blue\",\"blue\",\"blue\",\"blue\",\"blue\",\"blue\",\"blue\",\"blue\",\"blue\",\"blue\",\"blue\",\"blue\",\"blue\",\"blue\",\"blue\",\"blue\",\"blue\",\"blue\",\"blue\",\"blue\",\"blue\",\"blue\",\"blue\",\"blue\",\"blue\",\"blue\",\"blue\",\"blue\",\"blue\",\"blue\",\"blue\",\"blue\",\"blue\",\"blue\",\"blue\",\"blue\",\"blue\",\"blue\",\"blue\",\"blue\",\"blue\",\"blue\",\"blue\",\"blue\",\"blue\",\"blue\",\"blue\",\"blue\",\"blue\",\"blue\",\"blue\",\"blue\",\"blue\",\"blue\",\"blue\",\"blue\",\"blue\",\"blue\",\"blue\",\"blue\",\"blue\",\"blue\",\"blue\",\"blue\",\"blue\",\"blue\",\"blue\",\"blue\",\"blue\",\"blue\",\"blue\",\"blue\",\"blue\",\"blue\",\"blue\",\"blue\",\"blue\",\"blue\",\"blue\",\"blue\",\"blue\",\"blue\",\"blue\",\"blue\",\"blue\",\"blue\",\"blue\",\"blue\",\"blue\",\"blue\",\"blue\",\"blue\",\"blue\",\"blue\",\"blue\",\"blue\",\"blue\",\"blue\",\"blue\",\"blue\",\"blue\",\"blue\",\"blue\",\"blue\",\"blue\",\"blue\",\"blue\",\"blue\",\"blue\",\"blue\",\"blue\",\"blue\",\"blue\",\"blue\",\"blue\",\"blue\",\"blue\",\"blue\",\"blue\",\"blue\",\"blue\",\"blue\",\"blue\",\"blue\",\"blue\",\"blue\",\"blue\",\"blue\",\"blue\",\"blue\",\"blue\",\"blue\",\"blue\",\"blue\",\"blue\",\"blue\",\"blue\",\"blue\",\"blue\",\"blue\",\"blue\",\"blue\",\"blue\",\"blue\",\"blue\",\"blue\",\"blue\",\"blue\",\"blue\",\"blue\",\"blue\",\"blue\",\"blue\",\"blue\",\"blue\",\"blue\",\"blue\",\"blue\",\"blue\",\"blue\",\"blue\",\"blue\",\"blue\",\"blue\",\"blue\",\"blue\",\"blue\",\"blue\",\"blue\",\"blue\",\"blue\",\"blue\",\"blue\",\"blue\",\"blue\",\"blue\",\"blue\",\"blue\",\"blue\",\"blue\",\"blue\",\"blue\",\"blue\",\"blue\",\"blue\",\"blue\",\"blue\",\"blue\",\"blue\",\"blue\",\"blue\",\"blue\",\"blue\",\"blue\",\"blue\",\"blue\",\"blue\",\"blue\",\"blue\",\"blue\",\"blue\",\"blue\",\"blue\",\"blue\",\"blue\",\"blue\",\"blue\",\"blue\",\"blue\",\"blue\",\"blue\",\"blue\",\"blue\",\"blue\",\"blue\",\"blue\",\"blue\",\"blue\",\"blue\",\"blue\",\"blue\",\"blue\",\"blue\",\"blue\",\"blue\",\"blue\",\"blue\",\"blue\",\"blue\",\"blue\",\"blue\",\"blue\",\"blue\",\"blue\",\"blue\",\"blue\",\"blue\",\"blue\",\"blue\",\"blue\",\"blue\",\"blue\",\"blue\",\"blue\",\"blue\",\"blue\",\"blue\",\"blue\",\"blue\",\"blue\",\"blue\",\"blue\",\"blue\",\"blue\",\"blue\",\"blue\",\"blue\",\"blue\",\"blue\",\"blue\",\"blue\",\"blue\",\"blue\",\"blue\",\"blue\",\"blue\",\"blue\",\"blue\",\"blue\",\"blue\",\"blue\",\"blue\",\"blue\",\"blue\",\"blue\",\"blue\",\"blue\",\"blue\",\"blue\",\"blue\",\"blue\",\"blue\",\"blue\",\"blue\",\"blue\",\"blue\",\"blue\",\"blue\",\"blue\",\"blue\",\"blue\",\"blue\",\"blue\",\"blue\",\"blue\",\"blue\",\"blue\",\"blue\",\"blue\",\"blue\",\"blue\",\"blue\",\"blue\",\"blue\",\"blue\",\"blue\",\"blue\",\"blue\",\"blue\",\"blue\",\"blue\",\"blue\",\"blue\",\"blue\",\"blue\",\"blue\",\"blue\",\"blue\",\"blue\",\"blue\",\"blue\",\"blue\",\"blue\",\"blue\",\"blue\",\"blue\",\"blue\",\"blue\",\"blue\",\"blue\",\"blue\",\"blue\",\"blue\",\"blue\",\"blue\",\"blue\",\"blue\",\"blue\",\"blue\",\"blue\",\"blue\",\"blue\",\"blue\",\"blue\",\"blue\",\"blue\",\"blue\",\"blue\",\"blue\",\"blue\",\"blue\",\"blue\",\"blue\",\"blue\",\"blue\",\"blue\",\"blue\",\"blue\",\"blue\",\"blue\",\"blue\",\"blue\",\"blue\",\"blue\",\"blue\",\"blue\",\"blue\",\"blue\",\"blue\",\"blue\",\"blue\",\"blue\",\"blue\",\"blue\",\"blue\",\"blue\",\"blue\",\"blue\",\"blue\",\"blue\",\"blue\",\"blue\",\"blue\",\"blue\",\"blue\",\"blue\",\"blue\",\"blue\",\"blue\",\"blue\",\"blue\",\"blue\",\"blue\",\"blue\",\"blue\",\"blue\",\"blue\",\"blue\",\"blue\",\"blue\",\"blue\",\"blue\",\"blue\",\"blue\",\"blue\",\"blue\",\"blue\",\"blue\",\"blue\",\"blue\",\"blue\",\"blue\",\"blue\",\"blue\",\"blue\",\"blue\",\"blue\",\"blue\",\"blue\",\"blue\",\"blue\",\"blue\",\"blue\",\"blue\",\"blue\",\"blue\",\"blue\",\"blue\",\"blue\",\"blue\",\"blue\",\"blue\",\"blue\",\"blue\",\"blue\",\"blue\",\"blue\",\"blue\",\"blue\",\"blue\",\"blue\",\"blue\",\"blue\",\"blue\",\"blue\",\"blue\",\"blue\",\"blue\",\"blue\",\"blue\",\"blue\",\"blue\",\"blue\",\"blue\",\"blue\",\"blue\",\"blue\",\"blue\",\"blue\",\"blue\",\"blue\",\"blue\",\"blue\",\"blue\",\"blue\",\"blue\",\"blue\",\"blue\",\"blue\",\"blue\",\"blue\",\"blue\",\"blue\",\"blue\",\"blue\",\"blue\",\"blue\",\"blue\",\"blue\",\"blue\",\"blue\",\"blue\",\"blue\",\"blue\",\"blue\",\"blue\",\"blue\",\"blue\",\"blue\",\"blue\",\"blue\",\"blue\",\"blue\",\"blue\",\"blue\",\"blue\",\"blue\",\"blue\",\"blue\",\"blue\",\"blue\",\"blue\",\"blue\",\"blue\",\"blue\",\"blue\",\"blue\",\"blue\",\"blue\",\"blue\",\"blue\",\"blue\",\"blue\",\"blue\",\"blue\",\"blue\",\"blue\",\"blue\",\"blue\",\"blue\",\"blue\",\"blue\",\"blue\",\"blue\",\"blue\",\"blue\",\"blue\",\"blue\",\"blue\",\"blue\",\"blue\",\"blue\",\"blue\",\"blue\",\"blue\",\"blue\",\"blue\",\"blue\",\"blue\",\"blue\",\"blue\",\"blue\",\"blue\",\"blue\",\"blue\",\"blue\",\"blue\",\"blue\",\"blue\",\"blue\",\"blue\",\"blue\",\"blue\",\"blue\",\"blue\",\"blue\",\"blue\",\"blue\",\"blue\",\"blue\",\"blue\",\"blue\",\"blue\",\"blue\",\"blue\",\"blue\",\"blue\",\"blue\",\"blue\",\"blue\",\"blue\",\"blue\",\"blue\",\"blue\",\"blue\",\"blue\",\"blue\",\"blue\",\"blue\",\"blue\",\"blue\",\"blue\",\"blue\",\"blue\",\"blue\",\"blue\",\"blue\",\"blue\",\"blue\",\"blue\",\"blue\",\"blue\",\"blue\",\"blue\",\"blue\",\"blue\",\"blue\",\"blue\",\"blue\",\"blue\",\"blue\",\"blue\",\"blue\",\"blue\",\"blue\",\"blue\",\"blue\",\"blue\",\"blue\",\"blue\",\"blue\",\"blue\",\"blue\",\"blue\",\"blue\",\"blue\",\"blue\",\"blue\",\"blue\",\"blue\",\"blue\",\"blue\",\"blue\",\"blue\",\"blue\",\"blue\",\"blue\",\"blue\",\"blue\",\"blue\",\"blue\",\"blue\",\"blue\",\"blue\",\"blue\",\"blue\",\"blue\",\"blue\",\"blue\",\"blue\",\"blue\",\"blue\",\"blue\",\"blue\",\"blue\",\"blue\",\"blue\",\"blue\",\"blue\",\"blue\",\"blue\",\"blue\",\"blue\",\"blue\",\"blue\",\"blue\",\"blue\",\"blue\",\"blue\",\"blue\",\"blue\",\"blue\",\"blue\",\"blue\",\"blue\",\"blue\",\"blue\",\"blue\",\"blue\",\"blue\",\"blue\",\"blue\",\"blue\",\"blue\",\"blue\",\"blue\",\"blue\",\"blue\",\"blue\",\"blue\",\"blue\",\"blue\",\"blue\",\"blue\",\"blue\",\"blue\",\"blue\",\"blue\",\"blue\",\"blue\",\"blue\",\"blue\",\"blue\",\"blue\",\"blue\",\"blue\",\"blue\",\"blue\",\"blue\",\"blue\",\"blue\",\"blue\",\"blue\",\"blue\",\"blue\",\"blue\",\"blue\",\"blue\",\"blue\",\"blue\",\"blue\",\"blue\",\"blue\",\"blue\",\"blue\",\"blue\",\"blue\",\"blue\",\"blue\",\"blue\",\"blue\",\"blue\",\"blue\",\"blue\",\"blue\",\"blue\",\"blue\",\"blue\",\"blue\",\"blue\",\"blue\",\"blue\",\"blue\",\"blue\",\"blue\",\"blue\",\"blue\",\"blue\",\"blue\",\"blue\",\"blue\",\"blue\",\"blue\",\"blue\",\"blue\",\"blue\",\"blue\",\"blue\",\"blue\",\"blue\",\"blue\",\"blue\",\"blue\",\"blue\",\"blue\",\"blue\",\"blue\",\"blue\",\"blue\",\"blue\",\"blue\",\"blue\",\"blue\",\"blue\",\"blue\",\"blue\",\"blue\",\"blue\",\"blue\",\"blue\",\"blue\",\"blue\",\"blue\",\"blue\",\"blue\",\"blue\",\"blue\",\"blue\",\"blue\",\"blue\",\"blue\",\"blue\",\"blue\",\"blue\",\"blue\",\"blue\",\"blue\",\"blue\",\"blue\",\"blue\",\"blue\",\"blue\",\"blue\",\"blue\",\"blue\",\"blue\",\"blue\",\"blue\",\"blue\",\"blue\",\"blue\",\"blue\",\"blue\",\"blue\",\"blue\",\"blue\",\"blue\",\"blue\",\"blue\",\"blue\",\"blue\",\"blue\",\"blue\",\"blue\",\"blue\",\"blue\",\"blue\",\"blue\",\"blue\",\"blue\",\"blue\",\"blue\",\"blue\",\"blue\",\"blue\",\"blue\",\"blue\",\"blue\",\"blue\",\"blue\",\"blue\",\"blue\",\"blue\",\"blue\",\"blue\",\"blue\",\"blue\",\"blue\",\"blue\",\"blue\",\"blue\",\"blue\",\"blue\",\"blue\",\"blue\",\"blue\",\"blue\",\"blue\",\"blue\",\"blue\",\"blue\",\"blue\",\"blue\",\"blue\",\"blue\",\"blue\",\"blue\",\"blue\",\"blue\",\"blue\",\"blue\",\"blue\",\"blue\",\"blue\",\"blue\",\"blue\",\"blue\",\"blue\",\"blue\",\"blue\",\"blue\",\"blue\",\"blue\",\"blue\",\"blue\",\"blue\",\"blue\",\"blue\",\"blue\",\"blue\",\"blue\",\"blue\",\"blue\",\"blue\",\"blue\",\"blue\",\"blue\",\"blue\",\"blue\",\"blue\",\"blue\",\"blue\",\"blue\",\"blue\",\"blue\",\"blue\",\"blue\",\"blue\",\"blue\",\"blue\",\"blue\",\"blue\",\"blue\",\"blue\",\"blue\",\"blue\",\"blue\",\"blue\",\"blue\",\"blue\",\"blue\",\"blue\",\"blue\",\"blue\",\"blue\",\"blue\",\"blue\",\"blue\",\"blue\",\"blue\",\"blue\",\"blue\",\"blue\",\"blue\",\"blue\",\"blue\",\"blue\",\"blue\",\"blue\",\"blue\",\"blue\",\"blue\",\"blue\",\"blue\",\"blue\",\"blue\",\"blue\",\"blue\",\"blue\",\"blue\",\"blue\",\"blue\",\"blue\",\"blue\",\"blue\",\"blue\",\"blue\",\"blue\",\"blue\",\"blue\",\"blue\",\"blue\",\"blue\",\"blue\",\"blue\",\"blue\",\"blue\",\"blue\",\"blue\",\"blue\",\"blue\",\"blue\",\"blue\",\"blue\",\"blue\",\"blue\",\"blue\",\"blue\",\"blue\",\"blue\",\"blue\",\"blue\",\"blue\",\"blue\",\"blue\",\"blue\",\"blue\",\"blue\",\"blue\",\"blue\",\"blue\",\"blue\",\"blue\",\"blue\",\"blue\",\"blue\",\"blue\",\"blue\",\"blue\",\"blue\",\"blue\",\"blue\",\"blue\",\"blue\",\"blue\",\"blue\",\"blue\",\"blue\",\"blue\",\"blue\",\"blue\",\"blue\",\"blue\",\"blue\",\"blue\",\"blue\",\"blue\",\"blue\",\"blue\",\"blue\",\"blue\",\"blue\",\"blue\",\"blue\",\"blue\",\"blue\",\"blue\",\"blue\",\"blue\",\"blue\",\"blue\",\"blue\",\"blue\",\"blue\",\"blue\",\"blue\",\"blue\",\"blue\",\"blue\",\"blue\",\"blue\",\"blue\",\"blue\",\"blue\",\"blue\",\"blue\",\"blue\",\"blue\",\"blue\",\"blue\",\"blue\",\"blue\",\"blue\",\"blue\",\"blue\",\"blue\",\"blue\",\"blue\",\"blue\",\"blue\",\"blue\",\"blue\",\"blue\",\"blue\",\"blue\",\"blue\",\"blue\",\"blue\",\"blue\",\"blue\",\"blue\",\"blue\",\"blue\",\"blue\",\"blue\",\"blue\",\"blue\",\"blue\",\"blue\",\"blue\",\"blue\",\"blue\",\"blue\",\"blue\",\"blue\",\"blue\",\"blue\",\"blue\",\"blue\",\"blue\",\"blue\",\"blue\",\"blue\",\"blue\",\"blue\",\"blue\",\"blue\",\"blue\",\"blue\",\"blue\",\"blue\",\"blue\",\"blue\",\"blue\",\"blue\",\"blue\",\"blue\",\"blue\",\"blue\",\"blue\",\"blue\",\"blue\",\"blue\",\"blue\",\"blue\",\"blue\",\"blue\",\"blue\",\"blue\",\"blue\",\"blue\",\"blue\",\"blue\",\"blue\",\"blue\",\"blue\",\"blue\",\"blue\",\"blue\",\"blue\",\"blue\",\"blue\",\"blue\",\"blue\",\"blue\",\"blue\",\"blue\",\"blue\",\"blue\",\"blue\",\"blue\",\"blue\",\"blue\",\"blue\",\"blue\",\"blue\",\"blue\",\"blue\",\"blue\",\"blue\",\"blue\",\"blue\",\"blue\",\"blue\",\"blue\",\"blue\",\"blue\",\"blue\",\"blue\",\"blue\",\"blue\",\"blue\",\"blue\",\"blue\",\"blue\",\"blue\",\"blue\",\"blue\",\"blue\",\"blue\",\"blue\",\"blue\",\"blue\",\"blue\",\"blue\",\"blue\",\"blue\",\"blue\",\"blue\",\"blue\",\"blue\",\"blue\",\"blue\",\"blue\",\"blue\",\"blue\",\"blue\",\"blue\",\"blue\",\"blue\",\"blue\",\"blue\",\"blue\",\"blue\",\"blue\",\"blue\",\"blue\",\"blue\",\"blue\",\"blue\",\"blue\",\"blue\",\"blue\",\"blue\",\"blue\",\"blue\",\"blue\",\"blue\",\"blue\",\"blue\",\"blue\",\"blue\",\"blue\",\"blue\",\"blue\",\"blue\",\"blue\",\"blue\",\"blue\",\"blue\",\"blue\",\"blue\",\"blue\",\"blue\",\"blue\",\"blue\",\"blue\",\"blue\",\"blue\",\"blue\",\"blue\",\"blue\",\"blue\",\"blue\",\"blue\",\"blue\",\"blue\",\"blue\",\"blue\",\"blue\",\"blue\",\"blue\",\"blue\",\"blue\",\"blue\",\"blue\",\"blue\",\"blue\",\"blue\",\"blue\",\"blue\",\"blue\",\"blue\",\"blue\",\"blue\",\"blue\",\"blue\",\"blue\",\"blue\",\"blue\",\"blue\",\"blue\",\"blue\",\"blue\",\"blue\",\"blue\",\"blue\",\"blue\",\"blue\",\"blue\",\"blue\",\"blue\",\"blue\",\"blue\",\"blue\",\"blue\",\"blue\",\"blue\",\"blue\",\"blue\",\"blue\",\"blue\",\"blue\",\"blue\",\"blue\",\"blue\",\"blue\",\"blue\",\"blue\",\"blue\",\"blue\",\"blue\",\"blue\",\"blue\",\"blue\",\"blue\",\"blue\",\"blue\",\"blue\",\"blue\",\"blue\",\"blue\",\"blue\",\"blue\",\"blue\",\"blue\",\"blue\",\"blue\",\"blue\",\"blue\",\"blue\",\"blue\",\"blue\",\"blue\",\"blue\",\"blue\",\"blue\",\"blue\",\"blue\",\"blue\",\"blue\",\"blue\",\"blue\",\"blue\",\"blue\",\"blue\",\"blue\",\"blue\",\"blue\",\"blue\",\"blue\",\"blue\",\"blue\",\"blue\",\"blue\",\"blue\",\"blue\",\"blue\",\"blue\",\"blue\",\"blue\",\"blue\",\"blue\",\"blue\",\"blue\",\"blue\",\"blue\",\"blue\",\"blue\",\"blue\",\"blue\",\"blue\",\"blue\",\"blue\",\"blue\",\"blue\",\"blue\",\"blue\",\"blue\",\"blue\",\"blue\",\"blue\",\"blue\",\"blue\",\"blue\",\"blue\",\"blue\",\"blue\",\"blue\",\"blue\",\"blue\",\"blue\",\"blue\",\"blue\",\"blue\",\"blue\",\"blue\",\"blue\",\"blue\",\"blue\",\"blue\",\"blue\",\"blue\",\"blue\",\"blue\",\"blue\",\"blue\",\"blue\",\"blue\",\"blue\",\"blue\",\"blue\",\"blue\",\"blue\",\"blue\",\"blue\",\"blue\",\"blue\",\"blue\",\"blue\",\"blue\",\"blue\",\"blue\",\"blue\",\"blue\",\"blue\",\"blue\",\"blue\",\"blue\",\"blue\",\"blue\",\"blue\",\"blue\",\"blue\",\"blue\",\"blue\",\"blue\",\"blue\",\"blue\",\"blue\",\"blue\",\"blue\",\"blue\",\"blue\",\"blue\",\"blue\",\"blue\",\"blue\",\"blue\",\"blue\",\"blue\",\"blue\",\"blue\",\"blue\",\"blue\",\"blue\",\"blue\",\"blue\",\"blue\",\"blue\",\"blue\",\"blue\",\"blue\",\"blue\",\"blue\",\"blue\",\"blue\",\"blue\",\"blue\",\"blue\",\"blue\",\"blue\",\"blue\",\"blue\",\"blue\",\"blue\",\"blue\",\"blue\",\"blue\",\"blue\",\"blue\",\"blue\",\"blue\",\"blue\",\"blue\",\"blue\",\"blue\",\"blue\",\"blue\",\"blue\",\"blue\",\"blue\",\"blue\",\"blue\",\"blue\",\"blue\",\"blue\",\"blue\",\"blue\",\"blue\",\"blue\",\"blue\",\"blue\",\"blue\",\"blue\",\"blue\",\"blue\",\"blue\",\"blue\",\"blue\",\"blue\",\"blue\",\"blue\",\"blue\",\"blue\",\"blue\",\"blue\",\"blue\",\"blue\",\"blue\",\"blue\",\"blue\",\"blue\",\"blue\",\"blue\",\"blue\",\"blue\",\"blue\",\"blue\",\"blue\",\"blue\",\"blue\",\"blue\",\"blue\",\"blue\",\"blue\",\"blue\",\"blue\",\"blue\",\"blue\",\"blue\",\"blue\",\"blue\",\"blue\",\"blue\",\"blue\",\"blue\",\"blue\",\"blue\",\"blue\",\"blue\",\"blue\",\"blue\",\"blue\",\"blue\",\"blue\",\"blue\",\"blue\",\"blue\",\"blue\",\"blue\",\"blue\",\"blue\",\"blue\",\"blue\",\"blue\",\"blue\",\"blue\",\"blue\",\"blue\",\"blue\",\"blue\",\"blue\",\"blue\",\"blue\",\"blue\",\"blue\",\"blue\",\"blue\",\"blue\",\"blue\",\"blue\",\"blue\",\"blue\",\"blue\",\"blue\",\"blue\",\"blue\",\"blue\",\"blue\",\"blue\",\"blue\",\"blue\",\"blue\",\"blue\",\"blue\",\"blue\",\"blue\",\"blue\",\"blue\",\"blue\",\"blue\",\"blue\",\"blue\",\"blue\",\"blue\",\"blue\",\"blue\",\"blue\",\"blue\",\"blue\",\"blue\",\"blue\",\"blue\",\"blue\",\"blue\",\"blue\"]],[\"token\",[\"verified\",\"2gb\",\"illinois\",\"jazz\",\"checking\",\"telescope\",\"seasons\",\"astrologer\",\"contribution\",\"homemade\",\"heroes\",\"warcraft\",\"kumar\",\"tester\",\"politically\",\"conquer\",\"columbia\",\"quiet\",\"repeat\",\"kapil\",\"involve\",\"mckinsey\",\"switched\",\"att\",\"instance\",\"innocent\",\"portuguese\",\"subscribers\",\"cabinet\",\"terror\",\"85\",\"rotation\",\"shirts\",\"drawn\",\"bi\",\"aspergers\",\"inspiration\",\"beats\",\"\\u00a3\",\"approximately\",\"asset\",\"empathy\",\"rooting\",\"ia\",\"dandruff\",\"slab\",\"operator\",\"horrible\",\"dominant\",\"ocd\",\"spacetime\",\"blow\",\"installing\",\"learnt\",\"separation\",\"institution\",\"temples\",\"hons\",\"pound\",\"removing\",\"unemployment\",\"greenlit\",\"audit\",\"supplement\",\"roller\",\"dota\",\"tiny\",\"equally\",\"braces\",\"aggressive\",\"corn\",\"camps\",\"additional\",\"consent\",\"granted\",\"welfare\",\"myths\",\"stations\",\"timeline\",\"psychologist\",\"nagpur\",\"herself\",\"cooper\",\"exgirlfriend\",\"intercourse\",\"flip\",\"hurts\",\"lpa\",\"nerve\",\"tvs\",\"halloween\",\"screenshot\",\"biomedical\",\"covered\",\"milky\",\"onsite\",\"aside\",\"meaningful\",\"stretch\",\"joker\",\"encounter\",\"tone\",\"founders\",\"talked\",\"respectively\",\"downloads\",\"cocaine\",\"toxic\",\"sword\",\"fuck\",\"trainer\",\"partition\",\"boxing\",\"grid\",\"practicing\",\"menu\",\"cms\",\"indore\",\"ate\",\"volunteer\",\"misconceptions\",\"pics\",\"flies\",\"instantly\",\"trans\",\"friday\",\"sociopaths\",\"ctc\",\"hoax\",\"detailed\",\"sizes\",\"rejection\",\"limitations\",\"bharat\",\"kissing\",\"renewable\",\"oriented\",\"countrys\",\"dumps\",\"spiders\",\"technological\",\"advertisement\",\"headache\",\"zodiac\",\"accommodation\",\"venus\",\"calcium\",\"passenger\",\"falls\",\"overnight\",\"pickup\",\"gary\",\"transportation\",\"odds\",\"jupiter\",\"purchasing\",\"fluently\",\"flu\",\"photons\",\"conductor\",\"ohio\",\"balaji\",\"mcdonalds\",\"betting\",\"irrational\",\"sachin\",\"deactivate\",\"estimate\",\"hairs\",\"fluent\",\"errors\",\"remaining\",\"marriages\",\"medieval\",\"charles\",\"spider\",\"oxford\",\"gita\",\"races\",\"liquor\",\"poland\",\"lease\",\"co2\",\"selenium\",\"attempts\",\"crystal\",\"manaphy\",\"knight\",\"collapsed\",\"wheels\",\"behaviour\",\"bitcoins\",\"parliament\",\"himher\",\"handsome\",\"thousands\",\"caring\",\"kings\",\"lucky\",\"workplace\",\"condom\",\"intuitive\",\"chronic\",\"eyesight\",\"simulation\",\"prank\",\"quickest\",\"concert\",\"popularity\",\"connections\",\"disorders\",\"scripting\",\"appearance\",\"js\",\"depth\",\"cheque\",\"longterm\",\"documentaries\",\"dioxide\",\"bright\",\"info\",\"diseases\",\"appeal\",\"snap\",\"smoked\",\"singers\",\"boil\",\"probably\",\"temperatures\",\"appearing\",\"olive\",\"ntse\",\"telecom\",\"brief\",\"discrimination\",\"ethnic\",\"cache\",\"passionate\",\"shoulder\",\"assault\",\"marshmallow\",\"momentum\",\"yr\",\"migrate\",\"retire\",\"cet\",\"canvas\",\"vietnamese\",\"institutions\",\"meter\",\"roots\",\"integer\",\"imported\",\"ants\",\"lyft\",\"piercing\",\"il\",\"poop\",\"organisms\",\"ve\",\"entropy\",\"calm\",\"saddest\",\"toward\",\"myth\",\"sight\",\"filling\",\"hdmi\",\"satisfied\",\"transactions\",\"pharmacy\",\"nursing\",\"correlation\",\"regression\",\"awake\",\"md\",\"nri\",\"recommendations\",\"bin\",\"finland\",\"multi\",\"voted\",\"discovery\",\"edward\",\"touching\",\"immigrant\",\"geometry\",\"indicate\",\"ourselves\",\"texting\",\"seek\",\"expecting\",\"dj\",\"brake\",\"helicopter\",\"blonde\",\"triple\",\"ladies\",\"vivekananda\",\"switching\",\"prostitution\",\"banana\",\"magazines\",\"shippuden\",\"lucknow\",\"2019\",\"failing\",\"elizabeth\",\"irish\",\"ebook\",\"temporary\",\"governor\",\"wasting\",\"weekends\",\"cpt\",\"wax\",\"labor\",\"instruments\",\"instrumentation\",\"hates\",\"hip\",\"arnab\",\"bubble\",\"employers\",\"aadhaar\",\"boyfriends\",\"jake\",\"explained\",\"yesterday\",\"beta\",\"extrovert\",\"andhra\",\"micromax\",\"vertical\",\"lay\",\"nonprofit\",\"dubbed\",\"typing\",\"automotive\",\"thomas\",\"procedures\",\"priority\",\"funded\",\"arabs\",\"siblings\",\"guinea\",\"missile\",\"luck\",\"strategic\",\"defend\",\"module\",\"tuition\",\"acids\",\"controller\",\"committee\",\"housing\",\"integral\",\"peaceful\",\"refugees\",\"prescription\",\"interns\",\"supported\",\"womans\",\"dentist\",\"wives\",\"village\",\"affecting\",\"lte\",\"beaches\",\"austin\",\"substance\",\"engagement\",\"trainee\",\"measures\",\"trailer\",\"purchased\",\"15000\",\"uttar\",\"glue\",\"dtu\",\"medal\",\"photon\",\"engg\",\"violin\",\"column\",\"somehow\",\"rotate\",\"3000\",\"virat\",\"forgotten\",\"fingers\",\"slim\",\"arrest\",\"covalent\",\"ncert\",\"kernel\",\"da\",\"alarm\",\"ngo\",\"4gb\",\"productivity\",\"planned\",\"district\",\"berlin\",\"lists\",\"leads\",\"slang\",\"defence\",\"aspiring\",\"56\",\"enemy\",\"farming\",\"muller\",\"pays\",\"liver\",\"membrane\",\"secretly\",\"plug\",\"gum\",\"eclipse\",\"chewing\",\"labs\",\"zombie\",\"authority\",\"males\",\"argentina\",\"tasks\",\"fell\",\"nails\",\"palestine\",\"tanks\",\"identical\",\"deck\",\"qualification\",\"leadership\",\"kohli\",\"pronunciation\",\"hello\",\"violent\",\"sabha\",\"respiration\",\"transform\",\"warranty\",\"faculty\",\"adolf\",\"expenses\",\"jersey\",\"mercury\",\"whiskey\",\"tackle\",\"tweet\",\"blame\",\"cruise\",\"mahindra\",\"discharge\",\"reduced\",\"vodka\",\"mahatma\",\"bass\",\"compete\",\"stains\",\"pill\",\"swim\",\"ali\",\"gf\",\"ford\",\"prince\",\"sweat\",\"performing\",\"limits\",\"leonardo\",\"cow\",\"resolve\",\"matters\",\"pharmaceutical\",\"ray\",\"remotely\",\"pf\",\"clinical\",\"bpo\",\"homeless\",\"husbands\",\"rising\",\"newtons\",\"outcome\",\"derivative\",\"alpha\",\"grown\",\"capitalism\",\"astronaut\",\"hybrid\",\"palm\",\"teens\",\"hits\",\"airplanes\",\"none\",\"admin\",\"applicable\",\"amcat\",\"spam\",\"neutrality\",\"pixel\",\"festival\",\"faces\",\"molar\",\"snakes\",\"sip\",\"kik\",\"farm\",\"ltd\",\"votes\",\"publishing\",\"comfort\",\"frontend\",\"spin\",\"diagnosed\",\"buildings\",\"\\u00b0\",\"cashless\",\"addictive\",\"extinct\",\"ugc\",\"coke\",\"llb\",\"phrases\",\"struggle\",\"drives\",\"fiber\",\"grocery\",\"achieved\",\"penny\",\"bath\",\"allies\",\"uninstall\",\"ny\",\"appears\",\"effort\",\"satellites\",\"confirmed\",\"loneliness\",\"illuminati\",\"uri\",\"lucid\",\"preferably\",\"neither\",\"\\u221a\",\"pacific\",\"americas\",\"bs\",\"graduated\",\"bills\",\"tube\",\"germans\",\"assume\",\"cleared\",\"mate\",\"divide\",\"versions\",\"fallen\",\"journey\",\"anthem\",\"certificates\",\"looked\",\"sponsor\",\"useless\",\"dependent\",\"invite\",\"guru\",\"keyword\",\"aipmt\",\"clone\",\"kgs\",\"chip\",\"origins\",\"wide\",\"motivational\",\"elite\",\"wanna\",\"unity\",\"cough\",\"connecting\",\"mystery\",\"kim\",\"syrian\",\"voldemort\",\"responsibilities\",\"molecules\",\"boobs\",\"holidays\",\"tutorial\",\"circumstances\",\"fiitjee\",\"islands\",\"bypass\",\"slowly\",\"mixture\",\"aluminum\",\"salesforce\",\"twin\",\"iot\",\"remedy\",\"sheets\",\"pole\",\"hated\",\"females\",\"protected\",\"irs\",\"insecure\",\"entering\",\"neuroscience\",\"offices\",\"delta\",\"suggestion\",\"snapdeal\",\"backstory\",\"periodic\",\"cancelled\",\"mans\",\"complicated\",\"bitsat\",\"pleasure\",\"loop\",\"dropbox\",\"selfish\",\"nude\",\"20000\",\"voter\",\"variables\",\"victory\",\"closest\",\"compensation\",\"extended\",\"locations\",\"cracked\",\"perks\",\"ended\",\"exit\",\"awareness\",\"pakistanis\",\"ebooks\",\"bull\",\"unblock\",\"100000\",\"entrepreneurship\",\"infrastructure\",\"scotland\",\"guest\",\"attacked\",\"hurting\",\"lion\",\"reject\",\"purposes\",\"knife\",\"thai\",\"ipl\",\"knee\",\"accepting\",\"spent\",\"punjabi\",\"tab\",\"quoras\",\"caffeine\",\"athletes\",\"ink\",\"cooked\",\"improving\",\"invaded\",\"allah\",\"thermodynamics\",\"mortgage\",\"firsttime\",\"achievements\",\"issued\",\"breath\",\"award\",\"llc\",\"legends\",\"mood\",\"influenced\",\"proteins\",\"holy\",\"performed\",\"pee\",\"blocks\",\"molecule\",\"interests\",\"imei\",\"requires\",\"cisco\",\"moves\",\"marrying\",\"mca\",\"perfectly\",\"iisc\",\"corporation\",\"shiva\",\"viruses\",\"difficulty\",\"50000\",\"volte\",\"shampoo\",\"secular\",\"transplant\",\"ghz\",\"ahead\",\"crew\",\"interact\",\"depend\",\"hawaii\",\"hiv\",\"evening\",\"vegetable\",\"revenge\",\"suppose\",\"busy\",\"label\",\"rogue\",\"rational\",\"hillstation\",\"brains\",\"urdu\",\"imagine\",\"salaries\",\"survey\",\"g4\",\"butt\",\"manufacturers\",\"saas\",\"residency\",\"recommendation\",\"purple\",\"fault\",\"aadhar\",\"aging\",\"bhopal\",\"conducted\",\"loses\",\"infection\",\"forest\",\"impacts\",\"collection\",\"fridge\",\"diamond\",\"mis\",\"recorded\",\"march\",\"conditioner\",\"signature\",\"listed\",\"branches\",\"manchester\",\"wanting\",\"perception\",\"absolutely\",\"servers\",\"soluble\",\"swami\",\"lumia\",\"directors\",\"52\",\"2008\",\"gaining\",\"stereotypes\",\"homes\",\"vegas\",\"jam\",\"behave\",\"relatively\",\"forum\",\"ib\",\"earphones\",\"facilities\",\"april\",\"finally\",\"tail\",\"capacitor\",\"tiger\",\"deaf\",\"deliver\",\"django\",\"expand\",\"skip\",\"nearly\",\"maybe\",\"task\",\"gateway\",\"strangest\",\"abstract\",\"adding\",\"suck\",\"tim\",\"printed\",\"sigma\",\"immigrate\",\"decline\",\"arrested\",\"95\",\"narcissistic\",\"freelancing\",\"patterns\",\"expired\",\"casual\",\"tablets\",\"patients\",\"lean\",\"pieces\",\"laymans\",\"whatever\",\"polish\",\"lemon\",\"abortion\",\"i3\",\"theorem\",\"h\",\"compulsory\",\"helped\",\"sons\",\"feminism\",\"compiler\",\"tested\",\"enhance\",\"adhd\",\"manhattan\",\"iii\",\"nail\",\"eee\",\"deals\",\"excellent\",\"ipo\",\"folder\",\"sand\",\"continuous\",\"capable\",\"libraries\",\"aggregate\",\"64\",\"bsnl\",\"profiles\",\"spirit\",\"pulled\",\"owns\",\"deloitte\",\"therapist\",\"acts\",\"millions\",\"authors\",\"marathi\",\"dvd\",\"coconut\",\"swiss\",\"interaction\",\"ncr\",\"kannada\",\"smallest\",\"advisable\",\"smartest\",\"sorry\",\"normally\",\"ends\",\"rome\",\"spectrum\",\"cousin\",\"75\",\"suzuki\",\"nights\",\"cap\",\"enable\",\"counselling\",\"proxy\",\"margin\",\"shops\",\"hackers\",\"tatkal\",\"opened\",\"cinema\",\"consumption\",\"coal\",\"silent\",\"choosing\",\"introduction\",\"electromagnetic\",\"hcl\",\"complaint\",\"puppies\",\"vc\",\"symbols\",\"lenses\",\"username\",\"arrow\",\"adopted\",\"affects\",\"sudden\",\"pcm\",\"gel\",\"affair\",\"pinterest\",\"statements\",\"supplements\",\"justified\",\"turns\",\"santa\",\"shoe\",\"trek\",\"headphone\",\"girlfriends\",\"verizon\",\"rocket\",\"conference\",\"ego\",\"srm\",\"afghanistan\",\"nucleus\",\"generated\",\"chinas\",\"ww1\",\"consultancy\",\"socially\",\"allen\",\"berkeley\",\"missed\",\"crying\",\"introduced\",\"ps3\",\"flour\",\"brought\",\"elder\",\"minecraft\",\"9th\",\"freelancer\",\"circles\",\"scars\",\"entertainment\",\"turbine\",\"deeply\",\"rom\",\"evolved\",\"nato\",\"strengths\",\"ide\",\"tweets\",\"scholarships\",\"mentor\",\"collect\",\"hdfc\",\"mandarin\",\"solo\",\"terrible\",\"influential\",\"professionals\",\"65\",\"recognition\",\"nvidia\",\"cia\",\"designs\",\"10k\",\"creation\",\"tom\",\"rated\",\"introverts\",\"boiling\",\"communism\",\"treaty\",\"whereas\",\"thanks\",\"cigarette\",\"bengaluru\",\"oneplus\",\"reserve\",\"advertise\",\"nits\",\"helping\",\"bruce\",\"mp3\",\"severe\",\"proposal\",\"cultures\",\"tap\",\"animated\",\"planes\",\"hall\",\"cognitive\",\"supports\",\"keys\",\"gotten\",\"feedback\",\"recording\",\"proceed\",\"membership\",\"console\",\"overseas\",\"hows\",\"william\",\"billionaires\",\"updated\",\"pre\",\"organizations\",\"messi\",\"unexpected\",\"nitrogen\",\"hungry\",\"nigeria\",\"sync\",\"arduino\",\"gross\",\"outer\",\"searching\",\"workers\",\"outlook\",\"europeans\",\"founder\",\"lectures\",\"legitimate\",\"camp\",\"ordinary\",\"investments\",\"bone\",\"raising\",\"quite\",\"ages\",\"joint\",\"johnson\",\"destination\",\"concerned\",\"belief\",\"refrigerator\",\"implications\",\"manga\",\"mandatory\",\"obamas\",\"lawyers\",\"bedroom\",\"icon\",\"qualifications\",\"qa\",\"bikes\",\"boston\",\"holding\",\"session\",\"appointment\",\"weaknesses\",\"iphones\",\"motorcycle\",\"schizophrenia\",\"5th\",\"intellectual\",\"eaten\",\"attending\",\"medals\",\"adsense\",\"nda\",\"6th\",\"kali\",\"georgia\",\"wechat\",\"earlier\",\"drone\",\"truck\",\"horse\",\"merchant\",\"torque\",\"seed\",\"backend\",\"holmes\",\"graduating\",\"400\",\"bones\",\"sufficient\",\"participate\",\"rifle\",\"shock\",\"downloaded\",\"earthquake\",\"breasts\",\"secretary\",\"insert\",\"damaged\",\"massive\",\"standing\",\"remainder\",\"programme\",\"holocaust\",\"totally\",\"belt\",\"affairs\",\"nokia\",\"mechanism\",\"pin\",\"scan\",\"fought\",\"superpower\",\"poetry\",\"signals\",\"educated\",\"scariest\",\"trains\",\"closer\",\"weapon\",\"icici\",\"serial\",\"bicycle\",\"terminal\",\"finished\",\"stolen\",\"inspiring\",\"cuisine\",\"spark\",\"sounds\",\"pricing\",\"click\",\"underwear\",\"kidney\",\"bengal\",\"invention\",\"discount\",\"chase\",\"evaluate\",\"distributed\",\"themes\",\"amd\",\"stem\",\"st\",\"genre\",\"vegetables\",\"council\",\"bihar\",\"thick\",\"mouse\",\"worry\",\"newly\",\"updates\",\"candy\",\"prepaid\",\"wet\",\"rap\",\"motors\",\"implemented\",\"theoretical\",\"fabric\",\"mexican\",\"portfolio\",\"technique\",\"icse\",\"expansion\",\"evolutionary\",\"justify\",\"trick\",\"attached\",\"lightning\",\"pitch\",\"armed\",\"einstein\",\"conversion\",\"iitjee\",\"declared\",\"admit\",\"acquisition\",\"innovation\",\"runs\",\"wwe\",\"trial\",\"memories\",\"refuse\",\"netherlands\",\"committed\",\"fraud\",\"jailbreak\",\"settle\",\"badly\",\"approved\",\"eligibility\",\"trend\",\"increases\",\"comic\",\"quorans\",\"cellular\",\"matches\",\"receiving\",\"bmw\",\"vlsi\",\"signed\",\"lakes\",\"350\",\"communications\",\"pork\",\"joined\",\"anyway\",\"differentiate\",\"actresses\",\"29\",\"ethics\",\"premier\",\"hearing\",\"vehicles\",\"drama\",\"instant\",\"lips\",\"dates\",\"july\",\"holiday\",\"coach\",\"malayalam\",\"superior\",\"soviet\",\"plate\",\"throw\",\"worship\",\"bars\",\"sharma\",\"mothers\",\"integrated\",\"clubs\",\"bug\",\"melbourne\",\"co\",\"bisexual\",\"regions\",\"lesson\",\"heads\",\"reader\",\"snake\",\"qualify\",\"paul\",\"causing\",\"disappear\",\"era\",\"lets\",\"qualified\",\"spiritual\",\"wolf\",\"requirement\",\"journalism\",\"studied\",\"lowest\",\"vader\",\"coursera\",\"stark\",\"configuration\",\"verbal\",\"undergrad\",\"dimensions\",\"transition\",\"efficiently\",\"interstellar\",\"locked\",\"summary\",\"chandigarh\",\"ghosts\",\"included\",\"operate\",\"dimension\",\"mount\",\"noticed\",\"rating\",\"somewhere\",\"martin\",\"bra\",\"bird\",\"zuckerberg\",\"sensor\",\"audience\",\"dirty\",\"starbucks\",\"permission\",\"residential\",\"wholesale\",\"assets\",\"clearly\",\"km\",\"invade\",\"ipcc\",\"fb\",\"shell\",\"shave\",\"loud\",\"tip\",\"seeds\",\"sets\",\"polar\",\"although\",\"june\",\"judaism\",\"anti\",\"instrument\",\"seven\",\"shooting\",\"j\",\"portal\",\"tower\",\"github\",\"linked\",\"admitted\",\"punishment\",\"mid\",\"micro\",\"cured\",\"lifestyle\",\"nor\",\"upset\",\"challenge\",\"soap\",\"standards\",\"integration\",\"lottery\",\"lab\",\"williams\",\"odd\",\"soil\",\"sensitive\",\"route\",\"tattoos\",\"coin\",\"declare\",\"frame\",\"differential\",\"bowl\",\"softwares\",\"notifications\",\"maintenance\",\"inner\",\"apples\",\"converted\",\"recruiter\",\"bombay\",\"command\",\"posting\",\"controlled\",\"balls\",\"personally\",\"poker\",\"extract\",\"hired\",\"bugs\",\"providers\",\"loans\",\"calculator\",\"attractions\",\"torrents\",\"keywords\",\"profession\",\"blogging\",\"transport\",\"sue\",\"anonymously\",\"compounds\",\"robot\",\"buddhism\",\"sweet\",\"defense\",\"nobody\",\"uc\",\"defined\",\"division\",\"bags\",\"epic\",\"unhealthy\",\"craziest\",\"urban\",\"combination\",\"pair\",\"laugh\",\"cv\",\"usd\",\"launched\",\"usps\",\"visited\",\"nexus\",\"regularly\",\"brothers\",\"broker\",\"concentrate\",\"agreement\",\"nervous\",\"frozen\",\"detail\",\"sir\",\"situations\",\"borderline\",\"angularjs\",\"abusive\",\"tourism\",\"relate\",\"august\",\"communist\",\"accountant\",\"dumb\",\"arab\",\"b2b\",\"du\",\"thermal\",\"asians\",\"threat\",\"karma\",\"passive\",\"homosexuality\",\"putting\",\"quantitative\",\"relativity\",\"sanskrit\",\"opinions\",\"verify\",\"bear\",\"roll\",\"expanding\",\"teenage\",\"jeans\",\"providing\",\"shared\",\"extreme\",\"mi\",\"vr\",\"progress\",\"greece\",\"cpu\",\"ips\",\"merge\",\"reputation\",\"loving\",\"salman\",\"iss\",\"warm\",\"dental\",\"extension\",\"attraction\",\"fictional\",\"journal\",\"login\",\"secondary\",\"recognize\",\"southern\",\"ph\",\"lunch\",\"wallet\",\"ronaldo\",\"larger\",\"actions\",\"fathers\",\"adopt\",\"claims\",\"bottom\",\"therapy\",\"patient\",\"described\",\"virginity\",\"functional\",\"ionic\",\"chartered\",\"discover\",\"55\",\"21st\",\"biased\",\"mad\",\"northern\",\"onto\",\"liberals\",\"premium\",\"neutral\",\"detect\",\"diagram\",\"sperm\",\"ga\",\"bleach\",\"spread\",\"contributions\",\"activate\",\"prior\",\"safest\",\"holder\",\"360\",\"aim\",\"rental\",\"families\",\"everybody\",\"shut\",\"payments\",\"150\",\"cube\",\"vegan\",\"newspaper\",\"beef\",\"houses\",\"preferred\",\"simultaneously\",\"marked\",\"reactions\",\"emergency\",\"protection\",\"cab\",\"forex\",\"norway\",\"immigrants\",\"googles\",\"ssb\",\"wing\",\"yrs\",\"ensure\",\"spy\",\"reasoning\",\"strange\",\"forgive\",\"turkish\",\"tag\",\"ranking\",\"platforms\",\"fox\",\"existed\",\"walmart\",\"lazy\",\"ears\",\"clock\",\"beam\",\"rare\",\"bush\",\"2011\",\"stops\",\"batteries\",\"certified\",\"naked\",\"worldwide\",\"staying\",\"lifetime\",\"ted\",\"lake\",\"wealthy\",\"transit\",\"stephen\",\"rural\",\"versa\",\"pets\",\"commonly\",\"adults\",\"ultimate\",\"genius\",\"vinegar\",\"allows\",\"aid\",\"retirement\",\"airtel\",\"sciences\",\"mountain\",\"drinks\",\"tour\",\"wind\",\"seattle\",\"disabled\",\"bodies\",\"lesbian\",\"governments\",\"kinetic\",\"tumblr\",\"absolute\",\"author\",\"toilet\",\"whey\",\"sleepy\",\"molecular\",\"watches\",\"inventions\",\"rain\",\"34\",\"angular\",\"o\",\"dish\",\"however\",\"agents\",\"abs\",\"switzerland\",\"transformer\",\"clearing\",\"consciousness\",\"broadband\",\"uae\",\"automatic\",\"opposed\",\"geography\",\"astronauts\",\"decisions\",\"cement\",\"induction\",\"luxury\",\"upvotes\",\"politicians\",\"posted\",\"toefl\",\"kitchen\",\"noise\",\"radius\",\"dye\",\"miles\",\"risks\",\"scientifically\",\"mnc\",\"propose\",\"prepared\",\"iiit\",\"mention\",\"equipment\",\"darth\",\"january\",\"surname\",\"raised\",\"attitude\",\"gta\",\"david\",\"hike\",\"awkward\",\"proven\",\"productive\",\"lg\",\"filled\",\"atmosphere\",\"lee\",\"irctc\",\"addicted\",\"dynamic\",\"employment\",\"weekend\",\"replacement\",\"singing\",\"owners\",\"bipolar\",\"tomorrow\",\"poems\",\"default\",\"kvpy\",\"sauce\",\"competitors\",\"russians\",\"sample\",\"crimes\",\"hang\",\"inspired\",\"furniture\",\"throughout\",\"presence\",\"efficiency\",\"leg\",\"biological\",\"pilani\",\"conversations\",\"inspirational\",\"bachelor\",\"centers\",\"withdraw\",\"fundamental\",\"comparison\",\"november\",\"fifa\",\"penalty\",\"algebra\",\"joke\",\"htc\",\"pilots\",\"collapse\",\"texts\",\"vocabulary\",\"moved\",\"sc\",\"smile\",\"october\",\"dot\",\"genetic\",\"architect\",\"url\",\"51\",\"sore\",\"uniform\",\"re\",\"rails\",\"smaller\",\"marine\",\"terrorists\",\"nazi\",\"breast\",\"politician\",\"subtitles\",\"chosen\",\"egypt\",\"thin\",\"packages\",\"editor\",\"bands\",\"mythology\",\"reasonable\",\"permit\",\"acceptable\",\"seriously\",\"iraq\",\"fever\",\"visitor\",\"honest\",\"friction\",\"offering\",\"smarter\",\"ahmedabad\",\"replaced\",\"resolution\",\"burning\",\"bridge\",\"catholic\",\"calendar\",\"resident\",\"policies\",\"forced\",\"leading\",\"arm\",\"deserve\",\"context\",\"coolest\",\"arranged\",\"arizona\",\"comics\",\"harm\",\"democrats\",\"jail\",\"breed\",\"anywhere\",\"psu\",\"christ\",\"violence\",\"agriculture\",\"objective\",\"moments\",\"infinity\",\"supporting\",\"critical\",\"trees\",\"beyond\",\"bag\",\"vitamin\",\"assembly\",\"solved\",\"array\",\"perspective\",\"pas\",\"wwii\",\"skinny\",\"contains\",\"lift\",\"cleaning\",\"peter\",\"aap\",\"pimples\",\"initial\",\"lesserknown\",\"sights\",\"principles\",\"realize\",\"millionaire\",\"faux\",\"orbit\",\"desire\",\"hi\",\"prophet\",\"suits\",\"careers\",\"thinks\",\"quantity\",\"spots\",\"wage\",\"asleep\",\"sociology\",\"guard\",\"units\",\"structural\",\"operation\",\"pants\",\"w\",\"bulk\",\"possibly\",\"drunk\",\"fired\",\"accident\",\"inch\",\"bottle\",\"aerospace\",\"narcissist\",\"ux\",\"angeles\",\"wood\",\"index\",\"safely\",\"robotics\",\"edition\",\"metals\",\"practices\",\"scheme\",\"interior\",\"diabetes\",\"nobel\",\"youth\",\"lived\",\"september\",\"chief\",\"proposed\",\"assuming\",\"sin\",\"counter\",\"disable\",\"introduce\",\"restore\",\"swimming\",\"intern\",\"answering\",\"mentioned\",\"crash\",\"laser\",\"teenagers\",\"presentation\",\"quran\",\"classified\",\"demonetisation\",\"communicate\",\"cotton\",\"autism\",\"anger\",\"environmental\",\"stable\",\"7th\",\"bread\",\"invited\",\"wisdom\",\"wrote\",\"widely\",\"minor\",\"formal\",\"dreaming\",\"managers\",\"escape\",\"pollution\",\"taiwan\",\"verification\",\"los\",\"figures\",\"26\",\"illness\",\"sides\",\"compatible\",\"pack\",\"conspiracy\",\"hedge\",\"flights\",\"dropped\",\"former\",\"suffer\",\"aware\",\"designers\",\"mahabharata\",\"evolve\",\"weigh\",\"dies\",\"fruits\",\"cc\",\"butter\",\"sharing\",\"atoms\",\"tongue\",\"transaction\",\"poverty\",\"suffering\",\"presidents\",\"resistance\",\"adam\",\"civilization\",\"mining\",\"toronto\",\"stick\",\"increased\",\"wild\",\"freelance\",\"removal\",\"aws\",\"rio\",\"principle\",\"asus\",\"cute\",\"consumer\",\"pool\",\"variable\",\"tutorials\",\"advance\",\"keeping\",\"visible\",\"cognizant\",\"equations\",\"rooms\",\"krishna\",\"printer\",\"tooth\",\"mentally\",\"realistic\",\"automobile\",\"cake\",\"tie\",\"beach\",\"ghost\",\"comfortable\",\"mysql\",\"oral\",\"closed\",\"helps\",\"maharashtra\",\"admissions\",\"i5\",\"partners\",\"axis\",\"beliefs\",\"neck\",\"clans\",\"hidden\",\"cyber\",\"voting\",\"bacteria\",\"layer\",\"chhattisgarh\",\"5000\",\"sitting\",\"murder\",\"argument\",\"f\",\"privacy\",\"syndrome\",\"2010\",\"bite\",\"vacation\",\"isro\",\"trouble\",\"records\",\"answered\",\"digit\",\"defeat\",\"childhood\",\"5s\",\"gates\",\"f1\",\"town\",\"anal\",\"copper\",\"talks\",\"affiliate\",\"sociopath\",\"installed\",\"static\",\"copyright\",\"animation\",\"donate\",\"stranger\",\"bcom\",\"destroyed\",\"gujarat\",\"foundation\",\"prize\",\"components\",\"foreigner\",\"arms\",\"unlimited\",\"needing\",\"settings\",\"item\",\"eve\",\"competition\",\"landing\",\"beard\",\"patent\",\"ending\",\"2020\",\"incident\",\"petroleum\",\"florida\",\"particularly\",\"ups\",\"generator\",\"leather\",\"heal\",\"experiment\",\"28\",\"passing\",\"talent\",\"remote\",\"300\",\"published\",\"impossible\",\"steam\",\"80\",\"washing\",\"guilty\",\"punjab\",\"70\",\"album\",\"bullet\",\"paris\",\"interface\",\"agencies\",\"mission\",\"digits\",\"modis\",\"recruitment\",\"manipal\",\"telling\",\"meal\",\"orange\",\"stone\",\"links\",\"ab\",\"upper\",\"cameras\",\"p\",\"combat\",\"passion\",\"shower\",\"thailand\",\"beings\",\"grad\",\"27\",\"finger\",\"jump\",\"lights\",\"ui\",\"bba\",\"sweden\",\"arrive\",\"4th\",\"amendment\",\"window\",\"satellite\",\"al\",\"matlab\",\"jokes\",\"muhammad\",\"expression\",\"booking\",\"dinner\",\"skype\",\"lots\",\"2018\",\"teen\",\"finish\",\"dslr\",\"mens\",\"proud\",\"entrepreneurs\",\"ukraine\",\"coins\",\"scenario\",\"transmission\",\"ignore\",\"pride\",\"contribute\",\"grand\",\"curve\",\"false\",\"operations\",\"breakup\",\"eventually\",\"acquire\",\"commission\",\"lies\",\"spoken\",\"pills\",\"masturbating\",\"jackson\",\"airbnb\",\"delivered\",\"disk\",\"radiation\",\"plays\",\"marvel\",\"particle\",\"breakfast\",\"smartphones\",\"relevant\",\"quota\",\"refund\",\"inches\",\"telugu\",\"angel\",\"eastern\",\"inflation\",\"predict\",\"annoying\",\"obc\",\"tough\",\"conduct\",\"originate\",\"notification\",\"backup\",\"harder\",\"richest\",\"pronounce\",\"sri\",\"wheel\",\"wasnt\",\"oldest\",\"sheet\",\"soda\",\"20s\",\"wipro\",\"awesome\",\"facial\",\"z\",\"noida\",\"confident\",\"fbi\",\"corrupt\",\"succeed\",\"reddit\",\"associate\",\"input\",\"guns\",\"rahul\",\"baking\",\"description\",\"musical\",\"apache\",\"nowadays\",\"fluid\",\"capacity\",\"loose\",\"freshman\",\"cfa\",\"optional\",\"theres\",\"ps4\",\"trends\",\"jon\",\"richard\",\"legit\",\"nodejs\",\"document\",\"sexually\",\"particles\",\"singer\",\"printing\",\"captain\",\"valuable\",\"several\",\"aiims\",\"boot\",\"sit\",\"zone\",\"billionaire\",\"floor\",\"gravitational\",\"export\",\"motivation\",\"golden\",\"transgender\",\"healthcare\",\"heaven\",\"81\",\"leaves\",\"listening\",\"overall\",\"press\",\"dishes\",\"railways\",\"warming\",\"enfield\",\"extent\",\"acceleration\",\"afford\",\"bonds\",\"border\",\"registration\",\"cast\",\"hope\",\"shipping\",\"karnataka\",\"specifically\",\"opportunity\",\"arabia\",\"pump\",\"pg\",\"carrier\",\"plot\",\"kingdom\",\"contract\",\"painful\",\"kindle\",\"boring\",\"essential\",\"disney\",\"charger\",\"seconds\",\"measured\",\"honda\",\"ba\",\"makeup\",\"\\u2013\",\"mini\",\"annual\",\"traits\",\"retrieve\",\"willing\",\"swift\",\"consume\",\"hindus\",\"psychopath\",\"tells\",\"solving\",\"conditions\",\"artists\",\"spotify\",\"bomb\",\"integrate\",\"stuck\",\"nikon\",\"gadgets\",\"womens\",\"judge\",\"republicans\",\"vacuum\",\"felt\",\"putin\",\"tennis\",\"concentration\",\"fans\",\"constantly\",\"matrix\",\"secrets\",\"spot\",\"soft\",\"stored\",\"neural\",\"submit\",\"scores\",\"ola\",\"wire\",\"gdp\",\"jaipur\",\"typically\",\"airline\",\"roles\",\"cheaper\",\"machines\",\"shift\",\"impress\",\"basics\",\"32\",\"conservative\",\"birds\",\"tend\",\"duty\",\"setup\",\"rude\",\"pink\",\"church\",\"mine\",\"jack\",\"sending\",\"cooking\",\"versus\",\"expert\",\"olympic\",\"biotechnology\",\"gurgaon\",\"worked\",\"codes\",\"successfully\",\"hardware\",\"faith\",\"pr\",\"television\",\"compound\",\"vit\",\"universal\",\"thank\",\"grammatically\",\"chicago\",\"ivy\",\"worried\",\"enterprise\",\"sodium\",\"railway\",\"remedies\",\"racism\",\"tracking\",\"psychological\",\"apartment\",\"magazine\",\"martial\",\"beauty\",\"waiting\",\"attacks\",\"horror\",\"fantasy\",\"ma\",\"select\",\"increasing\",\"metro\",\"opt\",\"map\",\"watched\",\"gear\",\"icloud\",\"james\",\"comedy\",\"lollipop\",\"ireland\",\"upcoming\",\"italian\",\"oven\",\"emotionally\",\"decided\",\"lakh\",\"grey\",\"kept\",\"produced\",\"mouth\",\"manual\",\"dhoni\",\"fill\",\"throat\",\"shoot\",\"liked\",\"innovative\",\"immediately\",\"lonely\",\"fighting\",\"max\",\"accidentally\",\"schedule\",\"orgasm\",\"rape\",\"ride\",\"muscles\",\"graduates\",\"taller\",\"boost\",\"lakhs\",\"microwave\",\"electrons\",\"upon\",\"attract\",\"ap\",\"abuse\",\"earths\",\"forever\",\"underrated\",\"facing\",\"terrorist\",\"alien\",\"celebrity\",\"frequently\",\"vpn\",\"wales\",\"powder\",\"superman\",\"mixed\",\"caught\",\"goods\",\"beginning\",\"starts\",\"atomic\",\"associated\",\"triangle\",\"parties\",\"banning\",\"k\",\"honey\",\"monitor\",\"graph\",\"leaders\",\"embedded\",\"juice\",\"split\",\"lady\",\"sequence\",\"911\",\"harassment\",\"nepal\",\"pop\",\"habit\",\"setting\",\"edge\",\"ww2\",\"gps\",\"federal\",\"charged\",\"lying\",\"empty\",\"whenever\",\"airplane\",\"jet\",\"destroy\",\"ies\",\"wouldnt\",\"quick\",\"decrease\",\"robert\",\"pradesh\",\"professors\",\"massage\",\"held\",\"spending\",\"markets\",\"objects\",\"chart\",\"mechanics\",\"silver\",\"usage\",\"basketball\",\"gen\",\"periods\",\"identity\",\"individuals\",\"css\",\"soul\",\"ipod\",\"chest\",\"understanding\",\"coast\",\"classic\",\"spain\",\"babies\",\"sd\",\"hostel\",\"shirt\",\"further\",\"logical\",\"franchise\",\"obtain\",\"foreigners\",\"fully\",\"region\",\"designed\",\"cheated\",\"beneficial\",\"shes\",\"accent\",\"couldnt\",\"queen\",\"sick\",\"blowing\",\"properly\",\"stronger\",\"returns\",\"condition\",\"musk\",\"ugly\",\"teams\",\"filter\",\"snow\",\"glasses\",\"employer\",\"solid\",\"followed\",\"embarrassing\",\"auto\",\"meeting\",\"belong\",\"strike\",\"internships\",\"bachelors\",\"administration\",\"temple\",\"wealth\",\"retail\",\"speakers\",\"electoral\",\"headphones\",\"streaming\",\"mirror\",\"diesel\",\"republic\",\"antivirus\",\"customers\",\"atm\",\"vagina\",\"cigarettes\",\"aptitude\",\"lewis\",\"saudi\",\"puppy\",\"recovery\",\"jimmy\",\"obsessed\",\"domestic\",\"pen\",\"batch\",\"de\",\"drawing\",\"ai\",\"medium\",\"simply\",\"photoshop\",\"sms\",\"turning\",\"nadu\",\"appropriate\",\"adobe\",\"substitute\",\"fruit\",\"recipes\",\"fighter\",\"saving\",\"greater\",\"cheat\",\"routine\",\"push\",\"sherlock\",\"arguments\",\"sony\",\"import\",\"soldiers\",\"charges\",\"emotions\",\"ibm\",\"un\",\"innovations\",\"itunes\",\"consultant\",\"iims\",\"relations\",\"psychopaths\",\"existing\",\"angle\",\"clash\",\"bus\",\"australian\",\"crazy\",\"pull\",\"theories\",\"savings\",\"suit\",\"contrast\",\"calculus\",\"pi\",\"credits\",\"bluetooth\",\"himself\",\"traveling\",\"criminal\",\"xiaomi\",\"zealand\",\"seats\",\"electron\",\"script\",\"11th\",\"lessons\",\"programmers\",\"december\",\"flag\",\"singh\",\"arabic\",\"sale\",\"nfl\",\"grammar\",\"killing\",\"virgin\",\"differently\",\"poem\",\"provided\",\"automation\",\"shy\",\"translation\",\"mathematical\",\"45\",\"celebrities\",\"spring\",\"downloading\",\"dr\",\"organization\",\"majority\",\"clients\",\"hd\",\"motivate\",\"thats\",\"thesis\",\"door\",\"weakest\",\"saw\",\"canon\",\"younger\",\"costs\",\"river\",\"rings\",\"factory\",\"decent\",\"clintons\",\"holes\",\"desert\",\"divorce\",\"sold\",\"cheese\",\"atom\",\"taught\",\"minute\",\"ocean\",\"crisis\",\"represent\",\"surgical\",\"parent\",\"brexit\",\"possibility\",\"longest\",\"edit\",\"scholarship\",\"motivated\",\"chocolate\",\"faced\",\"90\",\"parallel\",\"foot\",\"examination\",\"friendly\",\"kinds\",\"wins\",\"islamic\",\"degrees\",\"registered\",\"distribution\",\"junior\",\"gave\",\"sing\",\"articles\",\"hadoop\",\"saved\",\"hero\",\"ear\",\"asks\",\"improved\",\"teenager\",\"forms\",\"wash\",\"provides\",\"washington\",\"strikes\",\"binary\",\"syria\",\"indonesia\",\"powers\",\"highly\",\"heshe\",\"happiness\",\"director\",\"citizenship\",\"knew\",\"humanity\",\"translate\",\"nba\",\"permanently\",\"soccer\",\"todays\",\"challenges\",\"barack\",\"title\",\"latin\",\"fitness\",\"genuine\",\"investor\",\"dislike\",\"scenes\",\"hacker\",\"bangladesh\",\"ebay\",\"earning\",\"dell\",\"paytm\",\"spouse\",\"bored\",\"roman\",\"official\",\"dragon\",\"park\",\"except\",\"habits\",\"quote\",\"astrology\",\"congress\",\"automatically\",\"island\",\"religions\",\"christianity\",\"supreme\",\"owner\",\"hell\",\"wikipedia\",\"cancel\",\"industries\",\"actress\",\"client\",\"visual\",\"michael\",\"remain\",\"ability\",\"concrete\",\"conflict\",\"string\",\"linear\",\"supposed\",\"engines\",\"2012\",\"\\u2018\",\"lesser\",\"traditional\",\"episodes\",\"goals\",\"tata\",\"opening\",\"target\",\"weak\",\"anonymous\",\"bjp\",\"resource\",\"concepts\",\"ruby\",\"friendship\",\"nyc\",\"pretty\",\"implement\",\"painting\",\"ill\",\"agency\",\"reverse\",\"confused\",\"italy\",\"response\",\"yellow\",\"dance\",\"contain\",\"vice\",\"editing\",\"acting\",\"weirdest\",\"feels\",\"govt\",\"accounting\",\"rise\",\"wise\",\"leaving\",\"lens\",\"artist\",\"arvind\",\"pattern\",\"scared\",\"attention\",\"airlines\",\"sky\",\"malaysia\",\"port\",\"attempt\",\"element\",\"classical\",\"shown\",\"safety\",\"including\",\"tablet\",\"la\",\"terrorism\",\"commit\",\"maps\",\"african\",\"viewed\",\"calling\",\"6s\",\"agent\",\"output\",\"justice\",\"don\",\"addiction\",\"lock\",\"vegetarian\",\"britain\",\"percent\",\"meditation\",\"ibps\",\"monthly\",\"writers\",\"forward\",\"stuff\",\"mr\",\"ready\",\"forgot\",\"flying\",\"recommended\",\"fields\",\"blind\",\"l\",\"hinduism\",\"desktop\",\"host\",\"tattoo\",\"maintain\",\"boards\",\"helpful\",\"semester\",\"load\",\"tier\",\"agree\",\"factor\",\"elon\",\"freshers\",\"sql\",\"cases\",\"exact\",\"confidence\",\"behavior\",\"hacked\",\"quotes\",\"hydrogen\",\"pakistani\",\"masturbate\",\"divided\",\"skill\",\"fine\",\"falling\",\"chess\",\"charging\",\"pages\",\"vector\",\"supporters\",\"waste\",\"sanders\",\"affordable\",\"unlock\",\"techniques\",\"wine\",\"keyboard\",\"cm\",\"wireless\",\"lawyer\",\"egg\",\"cope\",\"mindblowing\",\"recipe\",\"corruption\",\"scored\",\"secure\",\"teaching\",\"opposite\",\"educational\",\"bernie\",\"y\",\"library\",\"models\",\"kid\",\"stack\",\"separate\",\"19\",\"extremely\",\"properties\",\"cable\",\"magic\",\"removed\",\"computing\",\"hospital\",\"beer\",\"christians\",\"twice\",\"kg\",\"consulting\",\"whose\",\"serious\",\"petrol\",\"travelling\",\"revolution\",\"custom\",\"structures\",\"guide\",\"celebrate\",\"lenovo\",\"turned\",\"ielts\",\"grades\",\"fuel\",\"relative\",\"oracle\",\"academy\",\"lack\",\"passed\",\"relation\",\"values\",\"movement\",\"strategies\",\"eu\",\"emotional\",\"legs\",\"pokemon\",\"3g\",\"iran\",\"mostly\",\"jewish\",\"offered\",\"log\",\"hasnt\",\"explanation\",\"signal\",\"stores\",\"syllabus\",\"bits\",\"yoga\",\"weapons\",\"gods\",\"10000\",\"delivery\",\"gb\",\"sum\",\"letters\",\"venture\",\"selection\",\"winning\",\"35\",\"comment\",\"consequences\",\"sport\",\"items\",\"seems\",\"ring\",\"jealous\",\"laptops\",\"criteria\",\"fresh\",\"reference\",\"bitcoin\",\"infinite\",\"perform\",\"brazil\",\"density\",\"plans\",\"hosting\",\"clothing\",\"hong\",\"dying\",\"heavy\",\"steve\",\"gone\",\"damage\",\"missing\",\"ethical\",\"republican\",\"contacts\",\"activity\",\"electronic\",\"qualities\",\"piano\",\"hisher\",\"repair\",\"posts\",\"disease\",\"winter\",\"ten\",\"publish\",\"paint\",\"physically\",\"executive\",\"deposit\",\"elements\",\"xbox\",\"ceo\",\"visitors\",\"discovered\",\"tickets\",\"literature\",\"primary\",\"naturally\",\"senior\",\"u\",\"hardest\",\"debate\",\"frequency\",\"vietnam\",\"cry\",\"assistant\",\"gifts\",\"practical\",\"funny\",\"valid\",\"liberal\",\"refer\",\"beat\",\"shape\",\"institutes\",\"msc\",\"internal\",\"located\",\"significant\",\"scientists\",\"g\",\"ship\",\"proper\",\"independence\",\"added\",\"hes\",\"catch\",\"urine\",\"effectively\",\"named\",\"responsible\",\"strength\",\"whos\",\"immigration\",\"vehicle\",\"tesla\",\"kong\",\"meth\",\"england\",\"huge\",\"pizza\",\"rejected\",\"george\",\"fan\",\"salt\",\"browser\",\"sat\",\"loved\",\"fees\",\"walking\",\"symbol\",\"equity\",\"ubuntu\",\"alternatives\",\"theme\",\"virus\",\"manufacturing\",\"cutoff\",\"pure\",\"22\",\"introvert\",\"unable\",\"greek\",\"rice\",\"gst\",\"happening\",\"centre\",\"kiss\",\"prison\",\"bigger\",\"font\",\"construction\",\"exercises\",\"keeps\",\"gmat\",\"offers\",\"cross\",\"nasa\",\"unit\",\"advertising\",\"cup\",\"fixed\",\"limited\",\"billion\",\"subjects\",\"arts\",\"worlds\",\"stupid\",\"breaking\",\"funding\",\"tank\",\"generate\",\"efficient\",\"exists\",\"atheist\",\"entrepreneur\",\"direction\",\"broken\",\"offline\",\"firms\",\"station\",\"magnetic\",\"include\",\"aliens\",\"tinder\",\"logo\",\"photography\",\"worse\",\"besides\",\"path\",\"somebody\",\"interviews\",\"persons\",\"figure\",\"placed\",\"nation\",\"knows\",\"unmarried\",\"hp\",\"profitable\",\"tricks\",\"boss\",\"reply\",\"scam\",\"circle\",\"processor\",\"debt\",\"growing\",\"royal\",\"fiction\",\"department\",\"mistake\",\"weird\",\"graphics\",\"external\",\"article\",\"volume\",\"scratch\",\"chain\",\"protect\",\"storage\",\"texas\",\"liquid\",\"circuit\",\"graphic\",\"tired\",\"weather\",\"oxygen\",\"velocity\",\"dad\",\"band\",\"teachers\",\"drugs\",\"complex\",\"studio\",\"accenture\",\"leader\",\"levels\",\"goal\",\"logic\",\"acne\",\"plastic\",\"motion\",\"button\",\"peoples\",\"vision\",\"gap\",\"dollar\",\"computers\",\"stomach\",\"sources\",\"constant\",\"draw\",\"dress\",\"calculated\",\"sort\",\"3rd\",\"club\",\"channels\",\"creating\",\"candidates\",\"kejriwal\",\"broke\",\"sentences\",\"format\",\"emails\",\"raw\",\"stanford\",\"completed\",\"documents\",\"pan\",\"showing\",\"enter\",\"unknown\",\"bought\",\"router\",\"claim\",\"six\",\"technologies\",\"\\u20b9\",\"flipkart\",\"infosys\",\"mutual\",\"angry\",\"iits\",\"affected\",\"prices\",\"shares\",\"naruto\",\"processing\",\"finding\",\"democratic\",\"evolution\",\"harmful\",\"dual\",\"virtual\",\"member\",\"wave\",\"actual\",\"extra\",\"radio\",\"citizens\",\"e\",\"hr\",\"previous\",\"stopped\",\"walk\",\"redmi\",\"speaker\",\"torrent\",\"smoke\",\"mistakes\",\"flash\",\"iron\",\"entire\",\"individual\",\"express\",\"flow\",\"mode\",\"aircraft\",\"section\",\"planets\",\"10th\",\"respond\",\"easier\",\"evil\",\"percentile\",\"seeing\",\"calories\",\"upgrade\",\"professor\",\"v\",\"launch\",\"staff\",\"till\",\"silicon\",\"entry\",\"constitution\",\"century\",\"notice\",\"ie\",\"atheists\",\"tests\",\"21\",\"became\",\"kerala\",\"truly\",\"count\",\"essay\",\"papers\",\"accurate\",\"colors\",\"respect\",\"ideal\",\"rock\",\"reliance\",\"peace\",\"masturbation\",\"audio\",\"random\",\"independent\",\"colour\",\"hotels\",\"presidency\",\"generation\",\"paypal\",\"shot\",\"central\",\"released\",\"occur\",\"display\",\"industrial\",\"particular\",\"risk\",\"eg\",\"belly\",\"pet\",\"similarities\",\"organic\",\"marijuana\",\"networks\",\"aspects\",\"flat\",\"d\",\"comments\",\"nose\",\"identify\",\"rbi\",\"improvement\",\"directly\",\"framework\",\"suggestions\",\"designing\",\"brands\",\"religious\",\"influence\",\"novels\",\"statistics\",\"historical\",\"ground\",\"commerce\",\"pregnancy\",\"romantic\",\"failure\",\"wearing\",\"john\",\"apart\",\"bay\",\"symptoms\",\"200\",\"couple\",\"60\",\"canadian\",\"lie\",\"print\",\"carry\",\"gender\",\"experienced\",\"pounds\",\"reservation\",\"either\",\"stage\",\"artificial\",\"fit\",\"blogs\",\"developing\",\"environment\",\"learned\",\"copy\",\"phase\",\"bond\",\"democracy\",\"cgpa\",\"operating\",\"surface\",\"officers\",\"h1b\",\"ip\",\"workout\",\"fee\",\"elected\",\"hands\",\"largest\",\"sad\",\"shouldnt\",\"seat\",\"sister\",\"developers\",\"despite\",\"scene\",\"po\",\"diploma\",\"request\",\"empire\",\"ratio\",\"considering\",\"academic\",\"tree\",\"register\",\"advantage\",\"eligible\",\"nit\",\"shop\",\"intel\",\"funniest\",\"alternative\",\"fail\",\"ads\",\"nature\",\"miss\",\"involved\",\"overrated\",\"attend\",\"freedom\",\"dna\",\"beginners\",\"raise\",\"dry\",\"failed\",\"legally\",\"batman\",\"upload\",\"carbon\",\"regret\",\"applied\",\"points\",\"investors\",\"pick\",\"equivalent\",\"connected\",\"christmas\",\"lyrics\",\"nations\",\"caused\",\"bsc\",\"1st\",\"action\",\"activities\",\"biology\",\"hide\",\"asia\",\"takes\",\"require\",\"alive\",\"mom\",\"cycle\",\"generally\",\"campaign\",\"fair\",\"wake\",\"bit\",\"rules\",\"olympics\",\"racist\",\"areas\",\"eggs\",\"feature\",\"sap\",\"taxes\",\"ad\",\"shall\",\"theyre\",\"species\",\"pilot\",\"firm\",\"fish\",\"define\",\"doctors\",\"piece\",\"itself\",\"bang\",\"solutions\",\"iim\",\"2013\",\"wanted\",\"length\",\"burn\",\"waves\",\"bar\",\"gives\",\"forces\",\"christian\",\"anybody\",\"relationships\",\"nice\",\"wedding\",\"various\",\"brother\",\"films\",\"cream\",\"suddenly\",\"philippines\",\"fashion\",\"truth\",\"gpa\",\"cgl\",\"tall\",\"goa\",\"hacking\",\"statement\",\"reset\",\"materials\",\"played\",\"match\",\"usb\",\"novel\",\"unusual\",\"knowing\",\"selected\",\"valley\",\"chrome\",\"couples\",\"becomes\",\"died\",\"cheating\",\"community\",\"groups\",\"category\",\"pursuing\",\"writer\",\"mexico\",\"anymore\",\"sugar\",\"climate\",\"brown\",\"players\",\"ii\",\"reviews\",\"took\",\"led\",\"connection\",\"begin\",\"html\",\"changing\",\"received\",\"plants\",\"debit\",\"record\",\"revenue\",\"mars\",\"strongest\",\"members\",\"formed\",\"union\",\"thought\",\"existence\",\"kashmir\",\"gandhi\",\"pdf\",\"banned\",\"0\",\"plane\",\"treated\",\"electricity\",\"scale\",\"basis\",\"moral\",\"images\",\"methods\",\"certification\",\"voltage\",\"style\",\"base\",\"excel\",\"amazing\",\"regarding\",\"result\",\"rates\",\"hold\",\"indias\",\"airport\",\"businesses\",\"feet\",\"built\",\"linkedin\",\"signs\",\"above\",\"networking\",\"r\",\"shopping\",\"looks\",\"went\",\"placements\",\"bed\",\"experiences\",\"daughter\",\"tourist\",\"employee\",\"caste\",\"wait\",\"direct\",\"especially\",\"feed\",\"continue\",\"expected\",\"algorithm\",\"depressed\",\"shoes\",\"soon\",\"supply\",\"stress\",\"24\",\"inr\",\"foods\",\"rent\",\"architecture\",\"ban\",\"entrance\",\"actors\",\"messenger\",\"unique\",\"kolkata\",\"funds\",\"rupee\",\"promote\",\"rupees\",\"jews\",\"23\",\"cook\",\"cultural\",\"accepted\",\"hear\",\"glass\",\"road\",\"joining\",\"measure\",\"havent\",\"metal\",\"resume\",\"afraid\",\"turkey\",\"meat\",\"goes\",\"installation\",\"netflix\",\"benefit\",\"demand\",\"release\",\"produce\",\"report\",\"cover\",\"changes\",\"double\",\"2nd\",\"reaction\",\"killed\",\"steel\",\"requirements\",\"france\",\"exchange\",\"ac\",\"quantum\",\"reliable\",\"box\",\"results\",\"lives\",\"treatment\",\"4g\",\"ece\",\"probability\",\"sleeping\",\"philosophy\",\"handle\",\"forget\",\"driver\",\"demonetization\",\"algorithms\",\"trade\",\"rule\",\"muscle\",\"calls\",\"tried\",\"mental\",\"sure\",\"quit\",\"navy\",\"achieve\",\"francisco\",\"location\",\"until\",\"sense\",\"anxiety\",\"wordpress\",\"focus\",\"fact\",\"production\",\"conversation\",\"motor\",\"five\",\"attracted\",\"hit\",\"analyst\",\"moto\",\"isis\",\"chicken\",\"sector\",\"permanent\",\"along\",\"king\",\"slow\",\"candidate\",\"minutes\",\"purchase\",\"gun\",\"selling\",\"usually\",\"\\u2026\",\"fly\",\"round\",\"panel\",\"error\",\"stocks\",\"api\",\"remember\",\"africa\",\"paying\",\"hitler\",\"3d\",\"regular\",\"losing\",\"mail\",\"yahoo\",\"cheapest\",\"older\",\"concept\",\"characters\",\"definition\",\"lines\",\"pm\",\"cloud\",\"cats\",\"russian\",\"ipad\",\"korean\",\"proof\",\"battle\",\"stars\",\"stream\",\"recent\",\"typical\",\"performance\",\"harvard\",\"restaurant\",\"origin\",\"listen\",\"smell\",\"decide\",\"serve\",\"undergraduate\",\"profit\",\"situation\",\"surgery\",\"asking\",\"plant\",\"link\",\"square\",\"completing\",\"four\",\"trust\",\"payment\",\"gym\",\"andor\",\"worklife\",\"guitar\",\"elections\",\"half\",\"investing\",\"scientist\",\"street\",\"needs\",\"native\",\"thoughts\",\"reality\",\"40\",\"medicine\",\"race\",\"choice\",\"longer\",\"came\",\"applying\",\"hiring\",\"west\",\"weed\",\"hacks\",\"step\",\"sea\",\"crime\",\"devices\",\"event\",\"citizen\",\"14\",\"17\",\"ticket\",\"fund\",\"equation\",\"suicide\",\"whom\",\"met\",\"almost\",\"designer\",\"local\",\"departments\",\"khan\",\"customer\",\"banking\",\"javascript\",\"trip\",\"issue\",\"react\",\"cannot\",\"dubai\",\"wall\",\"touch\",\"parts\",\"loves\",\"clothes\",\"straight\",\"sexual\",\"active\",\"inpatient\",\"dreams\",\"protein\",\"table\",\"exercise\",\"lord\",\"mtech\",\"creative\",\"ball\",\"speaking\",\"son\",\"receive\",\"dollars\",\"domain\",\"prospects\",\"hour\",\"graduation\",\"commercial\",\"themselves\",\"factors\",\"jesus\",\"programmer\",\"recommend\",\"replace\",\"chat\",\"placement\",\"episode\",\"fastest\",\"restaurants\",\"object\",\"drivers\",\"gaming\",\"mark\",\"taste\",\"seem\",\"perfect\",\"potential\",\"trumps\",\"appear\",\"rights\",\"equal\",\"rest\",\"package\",\"meant\",\"drop\",\"cool\",\"material\",\"potter\",\"events\",\"convince\",\"completely\",\"n\",\"zero\",\"significance\",\"lower\",\"feelings\",\"followers\",\"evidence\",\"certain\",\"later\",\"original\",\"bible\",\"disorder\",\"testing\",\"via\",\"stand\",\"actor\",\"characteristics\",\"cities\",\"reach\",\"ago\",\"mbbs\",\"speech\",\"electric\",\"approach\",\"scientific\",\"root\",\"analytics\",\"below\",\"grade\",\"mains\",\"topic\",\"fun\",\"ancient\",\"adult\",\"standard\",\"ice\",\"everyday\",\"population\",\"invented\",\"european\",\"intelligent\",\"11\",\"subject\",\"rehab\",\"background\",\"giving\",\"platform\",\"flight\",\"thrones\",\"maths\",\"dc\",\"teeth\",\"mit\",\"weeks\",\"east\",\"means\",\"programs\",\"beginner\",\"heat\",\"third\",\"tea\",\"range\",\"london\",\"maximum\",\"enjoy\",\"2000\",\"cells\",\"quickly\",\"here\",\"expensive\",\"phrase\",\"partner\",\"league\",\"anime\",\"latest\",\"specific\",\"whether\",\"functions\",\"os\",\"fire\",\"saying\",\"secret\",\"13\",\"planet\",\"hole\",\"super\",\"teacher\",\"strong\",\"accounts\",\"minister\",\"database\",\"economic\",\"channel\",\"estate\",\"ram\",\"switch\",\"asian\",\"smoking\",\"branch\",\"israel\",\"18\",\"features\",\"success\",\"lead\",\"total\",\"key\",\"master\",\"ok\",\"favourite\",\"psychology\",\"pok\\u00e9mon\",\"nothing\",\"clean\",\"25\",\"politics\",\"drinking\",\"sometimes\",\"recently\",\"korea\",\"sent\",\"poor\",\"hindu\",\"hollywood\",\"survive\",\"cure\",\"property\",\"return\",\"narendra\",\"budget\",\"sports\",\"limit\",\"arent\",\"boys\",\"driving\",\"whole\",\"cash\",\"smartphone\",\"php\",\"developed\",\"ssc\",\"hot\",\"attractive\",\"tool\",\"physical\",\"ecommerce\",\"sbi\",\"morning\",\"animal\",\"multiple\",\"loan\",\"acid\",\"fresher\",\"spanish\",\"moving\",\"decision\",\"county\",\"determined\",\"becoming\",\"seo\",\"summer\",\"manage\",\"server\",\"competitive\",\"milk\",\"importance\",\"banks\",\"cheap\",\"powerful\",\"issues\",\"penis\",\"according\",\"analysis\",\"bike\",\"position\",\"western\",\"advanced\",\"campus\",\"highest\",\"front\",\"court\",\"status\",\"gravity\",\"positions\",\"comes\",\"steps\",\"complete\",\"electronics\",\"won\",\"hurt\",\"certificate\",\"temperature\",\"player\",\"someones\",\"communication\",\"million\",\"talking\",\"preparing\",\"finance\",\"cancer\",\"9\",\"harry\",\"accept\",\"2014\",\"plus\",\"born\",\"tcs\",\"license\",\"bring\",\"teach\",\"practice\",\"trading\",\"m\",\"might\",\"opportunities\",\"global\",\"wish\",\"outside\",\"attack\",\"procedure\",\"needed\",\"update\",\"coffee\",\"provider\",\"rather\",\"16\",\"allow\",\"tamil\",\"mix\",\"connect\",\"room\",\"watching\",\"deep\",\"york\",\"image\",\"birth\",\"sign\",\"birthday\",\"playing\",\"wars\",\"grads\",\"hire\",\"phones\",\"cbse\",\"details\",\"clear\",\"cricket\",\"dangerous\",\"track\",\"corporate\",\"voice\",\"upsc\",\"content\",\"okay\",\"san\",\"heart\",\"far\",\"heard\",\"prove\",\"positive\",\"moment\",\"sales\",\"opinion\",\"engineers\",\"block\",\"diet\",\"coding\",\"core\",\"baby\",\"father\",\"little\",\"large\",\"blocked\",\"distance\",\"land\",\"simple\",\"husband\",\"told\",\"traffic\",\"prevent\",\"pictures\",\"planning\",\"fear\",\"classes\",\"towards\",\"technical\",\"building\",\"trying\",\"photo\",\"early\",\"uses\",\"sydney\",\"startups\",\"act\",\"id\",\"describe\",\"12th\",\"may\",\"formula\",\"gets\",\"present\",\"wont\",\"cut\",\"treat\",\"mathematics\",\"visiting\",\"eye\",\"policy\",\"close\",\"cse\",\"suitable\",\"version\",\"tools\",\"head\",\"minimum\",\"chennai\",\"easily\",\"method\",\"intelligence\",\"gre\",\"mother\",\"doctor\",\"macbook\",\"deleted\",\"gas\",\"suggest\",\"cards\",\"files\",\"loss\",\"art\",\"easiest\",\"late\",\"among\",\"together\",\"depression\",\"higher\",\"alone\",\"economics\",\"dead\",\"growth\",\"insurance\",\"gold\",\"necessary\",\"neet\",\"blog\",\"example\",\"memory\",\"crack\",\"consider\",\"works\",\"currency\",\"recruit\",\"pursue\",\"strategy\",\"young\",\"cs\",\"projects\",\"50\",\"manager\",\"abroad\",\"schools\",\"illegal\",\"inside\",\"stories\",\"hand\",\"t\",\"greatest\",\"personality\",\"galaxy\",\"device\",\"views\",\"user\",\"chemistry\",\"cars\",\"iq\",\"prefer\",\"picture\",\"nuclear\",\"middle\",\"applications\",\"gmail\",\"laws\",\"final\",\"capital\",\"kids\",\"society\",\"fake\",\"bill\",\"save\",\"though\",\"likely\",\"determine\",\"shows\",\"character\",\"snapchat\",\"youre\",\"eyes\",\"islam\",\"marry\",\"brand\",\"yet\",\"impact\",\"speak\",\"within\",\"rich\",\"resources\",\"net\",\"non\",\"pressure\",\"changed\",\"allowed\",\"obama\",\"cold\",\"running\",\"feeling\",\"jio\",\"football\",\"gift\",\"written\",\"buying\",\"mac\",\"spend\",\"prime\",\"blue\",\"train\",\"studies\",\"negative\",\"thinking\",\"solution\",\"sun\",\"least\",\"following\",\"install\",\"else\",\"muslims\",\"camera\",\"vote\",\"linux\",\"expect\",\"german\",\"recover\",\"starting\",\"crush\",\"coming\",\"muslim\",\"modern\",\"battery\",\"provide\",\"access\",\"presidential\",\"interest\",\"dating\",\"pro\",\"likes\",\"french\",\"singapore\",\"useful\",\"already\",\"professional\",\"percentage\",\"drink\",\"created\",\"board\",\"passport\",\"structure\",\"case\",\"height\",\"microsoft\",\"break\",\"screen\",\"names\",\"chance\",\"special\",\"30\",\"skin\",\"natural\",\"color\",\"interested\",\"amount\",\"pain\",\"healthy\",\"hack\",\"messages\",\"ias\",\"gay\",\"disadvantages\",\"pass\",\"moon\",\"systems\",\"hindi\",\"financial\",\"taken\",\"yes\",\"sim\",\"pregnant\",\"faster\",\"animals\",\"internship\",\"let\",\"photos\",\"balance\",\"sound\",\"due\",\"knowledge\",\"charge\",\"message\",\"officer\",\"solar\",\"military\",\"meet\",\"option\",\"reading\",\"across\",\"overcome\",\"everyone\",\"everything\",\"wife\",\"reduce\",\"chances\",\"samsung\",\"income\",\"bollywood\",\"season\",\"europe\",\"boy\",\"currently\",\"ex\",\"smart\",\"california\",\"engine\",\"paid\",\"army\",\"contact\",\"address\",\"wants\",\"ones\",\"gain\",\"reasons\",\"avoid\",\"please\",\"note\",\"known\",\"pune\",\"film\",\"national\",\"once\",\"users\",\"porn\",\"scope\",\"twitter\",\"drug\",\"rank\",\"japan\",\"fight\",\"transfer\",\"political\",\"green\",\"news\",\"self\",\"uber\",\"basic\",\"british\",\"religion\",\"hyderabad\",\"topics\",\"explain\",\"phd\",\"eating\",\"letter\",\"calculate\",\"ive\",\"tech\",\"personal\",\"japanese\",\"check\",\"hotel\",\"wifi\",\"beautiful\",\"difficult\",\"paper\",\"languages\",\"investment\",\"develop\",\"north\",\"electrical\",\"ios\",\"alcohol\",\"exactly\",\"profile\",\"past\",\"exams\",\"ca\",\"convert\",\"vs\",\"understand\",\"care\",\"dream\",\"try\",\"americans\",\"lost\",\"chemical\",\"source\",\"b\",\"admission\",\"easy\",\"must\",\"three\",\"effect\",\"view\",\"options\",\"page\",\"away\",\"red\",\"said\",\"line\",\"short\",\"happy\",\"security\",\"dark\",\"preparation\",\"second\",\"fat\",\"matter\",\"few\",\"since\",\"role\",\"pc\",\"office\",\"team\",\"delete\",\"cell\",\"election\",\"economy\",\"term\",\"dogs\",\"text\",\"female\",\"effective\",\"brain\",\"share\",\"digital\",\"btech\",\"russia\",\"\\u201c\",\"party\",\"numbers\",\"20\",\"store\",\"male\",\"mass\",\"turn\",\"left\",\"married\",\"rs\",\"taking\",\"those\",\"password\",\"follow\",\"advice\",\"isnt\",\"15\",\"types\",\"network\",\"\\u201d\",\"week\",\"purpose\",\"related\",\"fix\",\"started\",\"courses\",\"masters\",\"grow\",\"8\",\"fast\",\"leave\",\"100\",\"often\",\"found\",\"pros\",\"marriage\",\"cons\",\"quality\",\"words\",\"kill\",\"price\",\"near\",\"modi\",\"enough\",\"search\",\"python\",\"x\",\"blood\",\"math\",\"yourself\",\"drive\",\"size\",\"star\",\"graduate\",\"majors\",\"500\",\"model\",\"studying\",\"general\",\"oil\",\"colleges\",\"area\",\"developer\",\"germany\",\"industry\",\"full\",\"training\",\"says\",\"period\",\"videos\",\"universe\",\"fall\",\"daily\",\"information\",\"foreign\",\"credit\",\"force\",\"12\",\"youve\",\"south\",\"offer\",\"set\",\"add\",\"send\",\"australia\",\"center\",\"1000\",\"famous\",\"2015\",\"lot\",\"function\",\"tax\",\"correct\",\"solve\",\"advantages\",\"coaching\",\"institute\",\"effects\",\"guys\",\"again\",\"group\",\"hours\",\"side\",\"sentence\",\"low\",\"similar\",\"plan\",\"children\",\"answers\",\"talk\",\"marks\",\"ideas\",\"theory\",\"death\",\"compared\",\"night\",\"remove\",\"dog\",\"anything\",\"single\",\"successful\",\"gate\",\"indians\",\"put\",\"problems\",\"move\",\"writing\",\"point\",\"invest\",\"asked\",\"biggest\",\"others\",\"stock\",\"notes\",\"story\",\"machine\",\"private\",\"sell\",\"seen\",\"required\",\"field\",\"file\",\"rate\",\"humans\",\"application\",\"face\",\"sites\",\"mind\",\"facts\",\"mumbai\",\"post\",\"stay\",\"child\",\"terms\",\"products\",\"control\",\"legal\",\"police\",\"didnt\",\"level\",\"worst\",\"hate\",\"visit\",\"called\",\"amazon\",\"causes\",\"health\",\"form\",\"physics\",\"iit\",\"skills\",\"times\",\"medical\",\"based\",\"list\",\"websites\",\"die\",\"part\",\"less\",\"benefits\",\"apple\",\"instead\",\"these\",\"boyfriend\",\"sleep\",\"canada\",\"reason\",\"education\",\"cause\",\"jee\",\"value\",\"today\",\"media\",\"public\",\"happened\",\"product\",\"research\",\"main\",\"behind\",\"international\",\"project\",\"uk\",\"differ\",\"7\",\"places\",\"wear\",\"order\",\"date\",\"etc\",\"small\",\"songs\",\"apps\",\"email\",\"given\",\"wrong\",\"site\",\"normal\",\"culture\",\"also\",\"civil\",\"city\",\"available\",\"house\",\"exist\",\"startup\",\"services\",\"ms\",\"both\",\"down\",\"2017\",\"run\",\"cat\",\"well\",\"space\",\"join\",\"deal\",\"games\",\"visa\",\"rid\",\"air\",\"speed\",\"popular\",\"problem\",\"support\",\"current\",\"pakistan\",\"choose\",\"build\",\"idea\",\"america\",\"whatsapp\",\"affect\",\"law\",\"technology\",\"call\",\"6\",\"universities\",\"family\",\"marketing\",\"major\",\"actually\",\"favorite\",\"light\",\"bangalore\",\"woman\",\"because\",\"type\",\"program\",\"looking\",\"living\",\"open\",\"believe\",\"month\",\"able\",\"management\",\"travel\",\"degree\",\"show\",\"interesting\",\"score\",\"months\",\"series\",\"chinese\",\"development\",\"end\",\"code\",\"design\",\"per\",\"employees\",\"review\",\"clinton\",\"common\",\"kind\",\"internet\",\"song\",\"download\",\"course\",\"parents\",\"jobs\",\"such\",\"increase\",\"java\",\"god\",\"another\",\"united\",\"girlfriend\",\"mechanical\",\"always\",\"next\",\"never\",\"around\",\"tips\",\"mba\",\"myself\",\"hillary\",\"apply\",\"answer\",\"something\",\"considered\",\"making\",\"differences\",\"market\",\"compare\",\"great\",\"keep\",\"test\",\"s\",\"win\",\"against\",\"states\",\"earn\",\"youtube\",\"worth\",\"delhi\",\"energy\",\"laptop\",\"american\",\"lose\",\"each\",\"hard\",\"makes\",\"age\",\"ask\",\"safe\",\"body\",\"power\",\"salary\",\"4\",\"watch\",\"white\",\"windows\",\"instagram\",\"history\",\"pay\",\"every\",\"last\",\"create\",\"relationship\",\"music\",\"too\",\"meaning\",\"state\",\"average\",\"earth\",\"got\",\"process\",\"class\",\"tv\",\"eat\",\"done\",\"happens\",\"days\",\"big\",\"off\",\"improve\",\"future\",\"place\",\"man\",\"human\",\"government\",\"play\",\"countries\",\"food\",\"service\",\"students\",\"weight\",\"game\",\"engineer\",\"write\",\"very\",\"interview\",\"web\",\"tell\",\"social\",\"girls\",\"video\",\"look\",\"having\",\"guy\",\"home\",\"hair\",\"usa\",\"doesnt\",\"word\",\"bank\",\"friend\",\"true\",\"experience\",\"career\",\"president\",\"question\",\"own\",\"china\",\"come\",\"under\",\"working\",\"him\",\"doing\",\"donald\",\"friends\",\"right\",\"5\",\"cost\",\"mobile\",\"even\",\"movies\",\"then\",\"c\",\"\\u2019\",\"exam\",\"men\",\"learning\",\"card\",\"war\",\"read\",\"programming\",\"black\",\"anyone\",\"high\",\"10\",\"companies\",\"car\",\"getting\",\"give\",\"important\",\"questions\",\"cant\",\"iphone\",\"website\",\"top\",\"water\",\"prepare\",\"during\",\"real\",\"say\",\"system\",\"name\",\"through\",\"two\",\"1\",\"our\",\"study\",\"3\",\"university\",\"made\",\"back\",\"happen\",\"stop\",\"student\",\"sex\",\"bad\",\"language\",\"going\",\"same\",\"before\",\"software\",\"school\",\"live\",\"country\",\"android\",\"science\",\"help\",\"she\",\"see\",\"thing\",\"women\",\"over\",\"data\",\"examples\",\"computer\",\"had\",\"ways\",\"change\",\"while\",\"book\",\"english\",\"account\",\"still\",\"movie\",\"books\",\"2016\",\"facebook\",\"free\",\"number\",\"college\",\"app\",\"2\",\"just\",\"now\",\"no\",\"trump\",\"company\",\"only\",\"old\",\"been\",\"google\",\"phone\",\"long\",\"different\",\"girl\",\"his\",\"her\",\"years\",\"really\",\"them\",\"using\",\"business\",\"need\",\"being\",\"buy\",\"day\",\"person\",\"things\",\"possible\",\"could\",\"were\",\"its\",\"love\",\"engineering\",\"im\",\"used\",\"online\",\"go\",\"year\",\"he\",\"into\",\"feel\",\"dont\",\"first\",\"up\"]]]}}},\"view\":{\"type\":\"object\",\"name\":\"CDSView\",\"id\":\"p1096\",\"attributes\":{\"filter\":{\"type\":\"object\",\"name\":\"AllIndices\",\"id\":\"p1097\"}}},\"glyph\":{\"type\":\"object\",\"name\":\"Scatter\",\"id\":\"p1092\",\"attributes\":{\"x\":{\"type\":\"field\",\"field\":\"x\"},\"y\":{\"type\":\"field\",\"field\":\"y\"},\"size\":{\"type\":\"value\",\"value\":10},\"line_color\":{\"type\":\"field\",\"field\":\"color\"},\"line_alpha\":{\"type\":\"value\",\"value\":0.25},\"fill_color\":{\"type\":\"field\",\"field\":\"color\"},\"fill_alpha\":{\"type\":\"value\",\"value\":0.25},\"hatch_color\":{\"type\":\"field\",\"field\":\"color\"},\"hatch_alpha\":{\"type\":\"value\",\"value\":0.25}}},\"nonselection_glyph\":{\"type\":\"object\",\"name\":\"Scatter\",\"id\":\"p1093\",\"attributes\":{\"x\":{\"type\":\"field\",\"field\":\"x\"},\"y\":{\"type\":\"field\",\"field\":\"y\"},\"size\":{\"type\":\"value\",\"value\":10},\"line_color\":{\"type\":\"field\",\"field\":\"color\"},\"line_alpha\":{\"type\":\"value\",\"value\":0.1},\"fill_color\":{\"type\":\"field\",\"field\":\"color\"},\"fill_alpha\":{\"type\":\"value\",\"value\":0.1},\"hatch_color\":{\"type\":\"field\",\"field\":\"color\"},\"hatch_alpha\":{\"type\":\"value\",\"value\":0.1}}},\"muted_glyph\":{\"type\":\"object\",\"name\":\"Scatter\",\"id\":\"p1094\",\"attributes\":{\"x\":{\"type\":\"field\",\"field\":\"x\"},\"y\":{\"type\":\"field\",\"field\":\"y\"},\"size\":{\"type\":\"value\",\"value\":10},\"line_color\":{\"type\":\"field\",\"field\":\"color\"},\"line_alpha\":{\"type\":\"value\",\"value\":0.2},\"fill_color\":{\"type\":\"field\",\"field\":\"color\"},\"fill_alpha\":{\"type\":\"value\",\"value\":0.2},\"hatch_color\":{\"type\":\"field\",\"field\":\"color\"},\"hatch_alpha\":{\"type\":\"value\",\"value\":0.2}}}}}],\"toolbar\":{\"type\":\"object\",\"name\":\"Toolbar\",\"id\":\"p1063\",\"attributes\":{\"tools\":[{\"type\":\"object\",\"name\":\"PanTool\",\"id\":\"p1076\"},{\"type\":\"object\",\"name\":\"WheelZoomTool\",\"id\":\"p1077\",\"attributes\":{\"renderers\":\"auto\"}},{\"type\":\"object\",\"name\":\"BoxZoomTool\",\"id\":\"p1078\",\"attributes\":{\"overlay\":{\"type\":\"object\",\"name\":\"BoxAnnotation\",\"id\":\"p1079\",\"attributes\":{\"syncable\":false,\"line_color\":\"black\",\"line_alpha\":1.0,\"line_width\":2,\"line_dash\":[4,4],\"fill_color\":\"lightgrey\",\"fill_alpha\":0.5,\"level\":\"overlay\",\"visible\":false,\"left\":{\"type\":\"number\",\"value\":\"nan\"},\"right\":{\"type\":\"number\",\"value\":\"nan\"},\"top\":{\"type\":\"number\",\"value\":\"nan\"},\"bottom\":{\"type\":\"number\",\"value\":\"nan\"},\"left_units\":\"canvas\",\"right_units\":\"canvas\",\"top_units\":\"canvas\",\"bottom_units\":\"canvas\",\"handles\":{\"type\":\"object\",\"name\":\"BoxInteractionHandles\",\"id\":\"p1085\",\"attributes\":{\"all\":{\"type\":\"object\",\"name\":\"AreaVisuals\",\"id\":\"p1084\",\"attributes\":{\"fill_color\":\"white\",\"hover_fill_color\":\"lightgray\"}}}}}}}},{\"type\":\"object\",\"name\":\"SaveTool\",\"id\":\"p1086\"},{\"type\":\"object\",\"name\":\"ResetTool\",\"id\":\"p1087\"},{\"type\":\"object\",\"name\":\"HelpTool\",\"id\":\"p1088\"},{\"type\":\"object\",\"name\":\"HoverTool\",\"id\":\"p1098\",\"attributes\":{\"renderers\":\"auto\",\"tooltips\":[[\"token\",\"@token\"]]}}],\"active_scroll\":{\"id\":\"p1077\"}}},\"left\":[{\"type\":\"object\",\"name\":\"LinearAxis\",\"id\":\"p1071\",\"attributes\":{\"ticker\":{\"type\":\"object\",\"name\":\"BasicTicker\",\"id\":\"p1072\",\"attributes\":{\"mantissas\":[1,2,5]}},\"formatter\":{\"type\":\"object\",\"name\":\"BasicTickFormatter\",\"id\":\"p1073\"},\"major_label_policy\":{\"type\":\"object\",\"name\":\"AllLabels\",\"id\":\"p1074\"}}}],\"below\":[{\"type\":\"object\",\"name\":\"LinearAxis\",\"id\":\"p1066\",\"attributes\":{\"ticker\":{\"type\":\"object\",\"name\":\"BasicTicker\",\"id\":\"p1067\",\"attributes\":{\"mantissas\":[1,2,5]}},\"formatter\":{\"type\":\"object\",\"name\":\"BasicTickFormatter\",\"id\":\"p1068\"},\"major_label_policy\":{\"type\":\"object\",\"name\":\"AllLabels\",\"id\":\"p1069\"}}}],\"center\":[{\"type\":\"object\",\"name\":\"Grid\",\"id\":\"p1070\",\"attributes\":{\"axis\":{\"id\":\"p1066\"}}},{\"type\":\"object\",\"name\":\"Grid\",\"id\":\"p1075\",\"attributes\":{\"dimension\":1,\"axis\":{\"id\":\"p1071\"}}}]}}]}};\n",
              "  const render_items = [{\"docid\":\"3cb7f01d-a390-4244-a0ac-9c1eb3d4ff0e\",\"roots\":{\"p1055\":\"a0b71f28-d150-41fb-b73a-78cf46bbec33\"},\"root_ids\":[\"p1055\"]}];\n",
              "  void root.Bokeh.embed.embed_items_notebook(docs_json, render_items);\n",
              "  }\n",
              "  if (root.Bokeh !== undefined) {\n",
              "    embed_document(root);\n",
              "  } else {\n",
              "    let attempts = 0;\n",
              "    const timer = setInterval(function(root) {\n",
              "      if (root.Bokeh !== undefined) {\n",
              "        clearInterval(timer);\n",
              "        embed_document(root);\n",
              "      } else {\n",
              "        attempts++;\n",
              "        if (attempts > 100) {\n",
              "          clearInterval(timer);\n",
              "          console.log(\"Bokeh: ERROR: Unable to run BokehJS code because BokehJS library is missing\");\n",
              "        }\n",
              "      }\n",
              "    }, 10, root)\n",
              "  }\n",
              "})(window);"
            ],
            "application/vnd.bokehjs_exec.v0+json": ""
          },
          "metadata": {
            "application/vnd.bokehjs_exec.v0+json": {
              "id": "p1055"
            }
          }
        },
        {
          "output_type": "execute_result",
          "data": {
            "text/plain": [
              "figure(id='p1055', ...)"
            ],
            "text/html": [
              "<div style=\"display: table;\"><div style=\"display: table-row;\"><div style=\"display: table-cell;\"><b title=\"bokeh.plotting._figure.figure\">figure</b>(</div><div style=\"display: table-cell;\">id&nbsp;=&nbsp;'p1055', <span id=\"p1102\" style=\"cursor: pointer;\">&hellip;)</span></div></div><div class=\"p1101\" style=\"display: none;\"><div style=\"display: table-cell;\"></div><div style=\"display: table-cell;\">above&nbsp;=&nbsp;[],</div></div><div class=\"p1101\" style=\"display: none;\"><div style=\"display: table-cell;\"></div><div style=\"display: table-cell;\">align&nbsp;=&nbsp;'auto',</div></div><div class=\"p1101\" style=\"display: none;\"><div style=\"display: table-cell;\"></div><div style=\"display: table-cell;\">aspect_ratio&nbsp;=&nbsp;None,</div></div><div class=\"p1101\" style=\"display: none;\"><div style=\"display: table-cell;\"></div><div style=\"display: table-cell;\">aspect_scale&nbsp;=&nbsp;1,</div></div><div class=\"p1101\" style=\"display: none;\"><div style=\"display: table-cell;\"></div><div style=\"display: table-cell;\">attribution&nbsp;=&nbsp;[],</div></div><div class=\"p1101\" style=\"display: none;\"><div style=\"display: table-cell;\"></div><div style=\"display: table-cell;\">background_fill_alpha&nbsp;=&nbsp;1.0,</div></div><div class=\"p1101\" style=\"display: none;\"><div style=\"display: table-cell;\"></div><div style=\"display: table-cell;\">background_fill_color&nbsp;=&nbsp;'#ffffff',</div></div><div class=\"p1101\" style=\"display: none;\"><div style=\"display: table-cell;\"></div><div style=\"display: table-cell;\">below&nbsp;=&nbsp;[LinearAxis(id='p1066', ...)],</div></div><div class=\"p1101\" style=\"display: none;\"><div style=\"display: table-cell;\"></div><div style=\"display: table-cell;\">border_fill_alpha&nbsp;=&nbsp;1.0,</div></div><div class=\"p1101\" style=\"display: none;\"><div style=\"display: table-cell;\"></div><div style=\"display: table-cell;\">border_fill_color&nbsp;=&nbsp;'#ffffff',</div></div><div class=\"p1101\" style=\"display: none;\"><div style=\"display: table-cell;\"></div><div style=\"display: table-cell;\">center&nbsp;=&nbsp;[Grid(id='p1070', ...), Grid(id='p1075', ...)],</div></div><div class=\"p1101\" style=\"display: none;\"><div style=\"display: table-cell;\"></div><div style=\"display: table-cell;\">context_menu&nbsp;=&nbsp;None,</div></div><div class=\"p1101\" style=\"display: none;\"><div style=\"display: table-cell;\"></div><div style=\"display: table-cell;\">css_classes&nbsp;=&nbsp;[],</div></div><div class=\"p1101\" style=\"display: none;\"><div style=\"display: table-cell;\"></div><div style=\"display: table-cell;\">css_variables&nbsp;=&nbsp;{},</div></div><div class=\"p1101\" style=\"display: none;\"><div style=\"display: table-cell;\"></div><div style=\"display: table-cell;\">disabled&nbsp;=&nbsp;False,</div></div><div class=\"p1101\" style=\"display: none;\"><div style=\"display: table-cell;\"></div><div style=\"display: table-cell;\">elements&nbsp;=&nbsp;[],</div></div><div class=\"p1101\" style=\"display: none;\"><div style=\"display: table-cell;\"></div><div style=\"display: table-cell;\">extra_x_ranges&nbsp;=&nbsp;{},</div></div><div class=\"p1101\" style=\"display: none;\"><div style=\"display: table-cell;\"></div><div style=\"display: table-cell;\">extra_x_scales&nbsp;=&nbsp;{},</div></div><div class=\"p1101\" style=\"display: none;\"><div style=\"display: table-cell;\"></div><div style=\"display: table-cell;\">extra_y_ranges&nbsp;=&nbsp;{},</div></div><div class=\"p1101\" style=\"display: none;\"><div style=\"display: table-cell;\"></div><div style=\"display: table-cell;\">extra_y_scales&nbsp;=&nbsp;{},</div></div><div class=\"p1101\" style=\"display: none;\"><div style=\"display: table-cell;\"></div><div style=\"display: table-cell;\">flow_mode&nbsp;=&nbsp;'block',</div></div><div class=\"p1101\" style=\"display: none;\"><div style=\"display: table-cell;\"></div><div style=\"display: table-cell;\">frame_align&nbsp;=&nbsp;True,</div></div><div class=\"p1101\" style=\"display: none;\"><div style=\"display: table-cell;\"></div><div style=\"display: table-cell;\">frame_height&nbsp;=&nbsp;None,</div></div><div class=\"p1101\" style=\"display: none;\"><div style=\"display: table-cell;\"></div><div style=\"display: table-cell;\">frame_width&nbsp;=&nbsp;None,</div></div><div class=\"p1101\" style=\"display: none;\"><div style=\"display: table-cell;\"></div><div style=\"display: table-cell;\">height&nbsp;=&nbsp;400,</div></div><div class=\"p1101\" style=\"display: none;\"><div style=\"display: table-cell;\"></div><div style=\"display: table-cell;\">height_policy&nbsp;=&nbsp;'auto',</div></div><div class=\"p1101\" style=\"display: none;\"><div style=\"display: table-cell;\"></div><div style=\"display: table-cell;\">hidpi&nbsp;=&nbsp;True,</div></div><div class=\"p1101\" style=\"display: none;\"><div style=\"display: table-cell;\"></div><div style=\"display: table-cell;\">hold_render&nbsp;=&nbsp;False,</div></div><div class=\"p1101\" style=\"display: none;\"><div style=\"display: table-cell;\"></div><div style=\"display: table-cell;\">js_event_callbacks&nbsp;=&nbsp;{},</div></div><div class=\"p1101\" style=\"display: none;\"><div style=\"display: table-cell;\"></div><div style=\"display: table-cell;\">js_property_callbacks&nbsp;=&nbsp;{},</div></div><div class=\"p1101\" style=\"display: none;\"><div style=\"display: table-cell;\"></div><div style=\"display: table-cell;\">left&nbsp;=&nbsp;[LinearAxis(id='p1071', ...)],</div></div><div class=\"p1101\" style=\"display: none;\"><div style=\"display: table-cell;\"></div><div style=\"display: table-cell;\">lod_factor&nbsp;=&nbsp;10,</div></div><div class=\"p1101\" style=\"display: none;\"><div style=\"display: table-cell;\"></div><div style=\"display: table-cell;\">lod_interval&nbsp;=&nbsp;300,</div></div><div class=\"p1101\" style=\"display: none;\"><div style=\"display: table-cell;\"></div><div style=\"display: table-cell;\">lod_threshold&nbsp;=&nbsp;2000,</div></div><div class=\"p1101\" style=\"display: none;\"><div style=\"display: table-cell;\"></div><div style=\"display: table-cell;\">lod_timeout&nbsp;=&nbsp;500,</div></div><div class=\"p1101\" style=\"display: none;\"><div style=\"display: table-cell;\"></div><div style=\"display: table-cell;\">margin&nbsp;=&nbsp;None,</div></div><div class=\"p1101\" style=\"display: none;\"><div style=\"display: table-cell;\"></div><div style=\"display: table-cell;\">match_aspect&nbsp;=&nbsp;False,</div></div><div class=\"p1101\" style=\"display: none;\"><div style=\"display: table-cell;\"></div><div style=\"display: table-cell;\">max_height&nbsp;=&nbsp;None,</div></div><div class=\"p1101\" style=\"display: none;\"><div style=\"display: table-cell;\"></div><div style=\"display: table-cell;\">max_width&nbsp;=&nbsp;None,</div></div><div class=\"p1101\" style=\"display: none;\"><div style=\"display: table-cell;\"></div><div style=\"display: table-cell;\">min_border&nbsp;=&nbsp;5,</div></div><div class=\"p1101\" style=\"display: none;\"><div style=\"display: table-cell;\"></div><div style=\"display: table-cell;\">min_border_bottom&nbsp;=&nbsp;None,</div></div><div class=\"p1101\" style=\"display: none;\"><div style=\"display: table-cell;\"></div><div style=\"display: table-cell;\">min_border_left&nbsp;=&nbsp;None,</div></div><div class=\"p1101\" style=\"display: none;\"><div style=\"display: table-cell;\"></div><div style=\"display: table-cell;\">min_border_right&nbsp;=&nbsp;None,</div></div><div class=\"p1101\" style=\"display: none;\"><div style=\"display: table-cell;\"></div><div style=\"display: table-cell;\">min_border_top&nbsp;=&nbsp;None,</div></div><div class=\"p1101\" style=\"display: none;\"><div style=\"display: table-cell;\"></div><div style=\"display: table-cell;\">min_height&nbsp;=&nbsp;None,</div></div><div class=\"p1101\" style=\"display: none;\"><div style=\"display: table-cell;\"></div><div style=\"display: table-cell;\">min_width&nbsp;=&nbsp;None,</div></div><div class=\"p1101\" style=\"display: none;\"><div style=\"display: table-cell;\"></div><div style=\"display: table-cell;\">name&nbsp;=&nbsp;None,</div></div><div class=\"p1101\" style=\"display: none;\"><div style=\"display: table-cell;\"></div><div style=\"display: table-cell;\">outline_line_alpha&nbsp;=&nbsp;1.0,</div></div><div class=\"p1101\" style=\"display: none;\"><div style=\"display: table-cell;\"></div><div style=\"display: table-cell;\">outline_line_cap&nbsp;=&nbsp;'butt',</div></div><div class=\"p1101\" style=\"display: none;\"><div style=\"display: table-cell;\"></div><div style=\"display: table-cell;\">outline_line_color&nbsp;=&nbsp;'#e5e5e5',</div></div><div class=\"p1101\" style=\"display: none;\"><div style=\"display: table-cell;\"></div><div style=\"display: table-cell;\">outline_line_dash&nbsp;=&nbsp;[],</div></div><div class=\"p1101\" style=\"display: none;\"><div style=\"display: table-cell;\"></div><div style=\"display: table-cell;\">outline_line_dash_offset&nbsp;=&nbsp;0,</div></div><div class=\"p1101\" style=\"display: none;\"><div style=\"display: table-cell;\"></div><div style=\"display: table-cell;\">outline_line_join&nbsp;=&nbsp;'bevel',</div></div><div class=\"p1101\" style=\"display: none;\"><div style=\"display: table-cell;\"></div><div style=\"display: table-cell;\">outline_line_width&nbsp;=&nbsp;1,</div></div><div class=\"p1101\" style=\"display: none;\"><div style=\"display: table-cell;\"></div><div style=\"display: table-cell;\">output_backend&nbsp;=&nbsp;'canvas',</div></div><div class=\"p1101\" style=\"display: none;\"><div style=\"display: table-cell;\"></div><div style=\"display: table-cell;\">renderers&nbsp;=&nbsp;[GlyphRenderer(id='p1095', ...)],</div></div><div class=\"p1101\" style=\"display: none;\"><div style=\"display: table-cell;\"></div><div style=\"display: table-cell;\">reset_policy&nbsp;=&nbsp;'standard',</div></div><div class=\"p1101\" style=\"display: none;\"><div style=\"display: table-cell;\"></div><div style=\"display: table-cell;\">resizable&nbsp;=&nbsp;False,</div></div><div class=\"p1101\" style=\"display: none;\"><div style=\"display: table-cell;\"></div><div style=\"display: table-cell;\">right&nbsp;=&nbsp;[],</div></div><div class=\"p1101\" style=\"display: none;\"><div style=\"display: table-cell;\"></div><div style=\"display: table-cell;\">sizing_mode&nbsp;=&nbsp;None,</div></div><div class=\"p1101\" style=\"display: none;\"><div style=\"display: table-cell;\"></div><div style=\"display: table-cell;\">styles&nbsp;=&nbsp;{},</div></div><div class=\"p1101\" style=\"display: none;\"><div style=\"display: table-cell;\"></div><div style=\"display: table-cell;\">stylesheets&nbsp;=&nbsp;[],</div></div><div class=\"p1101\" style=\"display: none;\"><div style=\"display: table-cell;\"></div><div style=\"display: table-cell;\">subscribed_events&nbsp;=&nbsp;PropertyValueSet(),</div></div><div class=\"p1101\" style=\"display: none;\"><div style=\"display: table-cell;\"></div><div style=\"display: table-cell;\">syncable&nbsp;=&nbsp;True,</div></div><div class=\"p1101\" style=\"display: none;\"><div style=\"display: table-cell;\"></div><div style=\"display: table-cell;\">tags&nbsp;=&nbsp;[],</div></div><div class=\"p1101\" style=\"display: none;\"><div style=\"display: table-cell;\"></div><div style=\"display: table-cell;\">title&nbsp;=&nbsp;Title(id='p1062', ...),</div></div><div class=\"p1101\" style=\"display: none;\"><div style=\"display: table-cell;\"></div><div style=\"display: table-cell;\">title_location&nbsp;=&nbsp;'above',</div></div><div class=\"p1101\" style=\"display: none;\"><div style=\"display: table-cell;\"></div><div style=\"display: table-cell;\">toolbar&nbsp;=&nbsp;Toolbar(id='p1063', ...),</div></div><div class=\"p1101\" style=\"display: none;\"><div style=\"display: table-cell;\"></div><div style=\"display: table-cell;\">toolbar_inner&nbsp;=&nbsp;False,</div></div><div class=\"p1101\" style=\"display: none;\"><div style=\"display: table-cell;\"></div><div style=\"display: table-cell;\">toolbar_location&nbsp;=&nbsp;'right',</div></div><div class=\"p1101\" style=\"display: none;\"><div style=\"display: table-cell;\"></div><div style=\"display: table-cell;\">toolbar_sticky&nbsp;=&nbsp;True,</div></div><div class=\"p1101\" style=\"display: none;\"><div style=\"display: table-cell;\"></div><div style=\"display: table-cell;\">visible&nbsp;=&nbsp;True,</div></div><div class=\"p1101\" style=\"display: none;\"><div style=\"display: table-cell;\"></div><div style=\"display: table-cell;\">width&nbsp;=&nbsp;600,</div></div><div class=\"p1101\" style=\"display: none;\"><div style=\"display: table-cell;\"></div><div style=\"display: table-cell;\">width_policy&nbsp;=&nbsp;'auto',</div></div><div class=\"p1101\" style=\"display: none;\"><div style=\"display: table-cell;\"></div><div style=\"display: table-cell;\">x_range&nbsp;=&nbsp;DataRange1d(id='p1056', ...),</div></div><div class=\"p1101\" style=\"display: none;\"><div style=\"display: table-cell;\"></div><div style=\"display: table-cell;\">x_scale&nbsp;=&nbsp;LinearScale(id='p1064', ...),</div></div><div class=\"p1101\" style=\"display: none;\"><div style=\"display: table-cell;\"></div><div style=\"display: table-cell;\">y_range&nbsp;=&nbsp;DataRange1d(id='p1057', ...),</div></div><div class=\"p1101\" style=\"display: none;\"><div style=\"display: table-cell;\"></div><div style=\"display: table-cell;\">y_scale&nbsp;=&nbsp;LinearScale(id='p1065', ...))</div></div></div>\n",
              "<script>\n",
              "(function() {\n",
              "  let expanded = false;\n",
              "  const ellipsis = document.getElementById(\"p1102\");\n",
              "  ellipsis.addEventListener(\"click\", function() {\n",
              "    const rows = document.getElementsByClassName(\"p1101\");\n",
              "    for (let i = 0; i < rows.length; i++) {\n",
              "      const el = rows[i];\n",
              "      el.style.display = expanded ? \"none\" : \"table-row\";\n",
              "    }\n",
              "    ellipsis.innerHTML = expanded ? \"&hellip;)\" : \"&lsaquo;&lsaquo;&lsaquo;\";\n",
              "    expanded = !expanded;\n",
              "  });\n",
              "})();\n",
              "</script>\n"
            ]
          },
          "metadata": {},
          "execution_count": 97
        }
      ],
      "source": [
        "draw_vectors(embedding[:, 0], embedding[:, 1], token=top_words)"
      ]
    },
    {
      "cell_type": "markdown",
      "metadata": {
        "id": "XQ07GIgmxqk-"
      },
      "source": [
        "Для сдачи задания необходимо загрузить функции `subsample_frequent_words` и `get_negative_sampling_prob`, а также сгенерировать файл для посылки ниже и приложить в соответствующую задачу. Успехов!"
      ]
    },
    {
      "cell_type": "code",
      "execution_count": 99,
      "metadata": {
        "colab": {
          "base_uri": "https://localhost:8080/"
        },
        "id": "FKQVB5Cdxqk-",
        "outputId": "e3f6628d-57e1-408e-d042-704da44109b6"
      },
      "outputs": [
        {
          "output_type": "stream",
          "name": "stdout",
          "text": [
            "File saved to `submission_dict.json`\n"
          ]
        }
      ],
      "source": [
        "# do not change the code in the block below\n",
        "# __________start of block__________\n",
        "import os\n",
        "import json\n",
        "\n",
        "assert os.path.exists(\n",
        "    \"words_subset.txt\"\n",
        "), \"Please, download `words_subset.txt` and place it in the working directory\"\n",
        "\n",
        "with open(\"words_subset.txt\") as iofile:\n",
        "    selected_words = iofile.read().split(\"\\n\")\n",
        "\n",
        "\n",
        "def get_matrix_for_selected_words(selected_words, embedding_matrix, word_to_index):\n",
        "    word_vectors = []\n",
        "    for word in selected_words:\n",
        "        index = word_to_index.get(word, None)\n",
        "        vector = [0.0] * embedding_matrix.shape[1]\n",
        "        if index is not None:\n",
        "            vector = embedding_matrix[index].numpy().tolist()\n",
        "        word_vectors.append(vector)\n",
        "    return word_vectors\n",
        "\n",
        "\n",
        "word_vectors = get_matrix_for_selected_words(\n",
        "    selected_words, embedding_matrix_context, word_to_index\n",
        ")\n",
        "\n",
        "with open(\"submission_dict.json\", \"w\") as iofile:\n",
        "    json.dump(word_vectors, iofile)\n",
        "print(\"File saved to `submission_dict.json`\")\n",
        "# __________end of block__________"
      ]
    },
    {
      "cell_type": "code",
      "source": [],
      "metadata": {
        "id": "HEytCS_ye7WJ"
      },
      "execution_count": null,
      "outputs": []
    }
  ],
  "metadata": {
    "colab": {
      "provenance": []
    },
    "kernelspec": {
      "display_name": "Python 3",
      "name": "python3"
    },
    "language_info": {
      "codemirror_mode": {
        "name": "ipython",
        "version": 3
      },
      "file_extension": ".py",
      "mimetype": "text/x-python",
      "name": "python",
      "nbconvert_exporter": "python",
      "pygments_lexer": "ipython3",
      "version": "3.11.2"
    },
    "widgets": {
      "application/vnd.jupyter.widget-state+json": {
        "c2e6bd6fa9a04a289f76fa319ca1384d": {
          "model_module": "@jupyter-widgets/controls",
          "model_name": "HBoxModel",
          "model_module_version": "1.5.0",
          "state": {
            "_dom_classes": [],
            "_model_module": "@jupyter-widgets/controls",
            "_model_module_version": "1.5.0",
            "_model_name": "HBoxModel",
            "_view_count": null,
            "_view_module": "@jupyter-widgets/controls",
            "_view_module_version": "1.5.0",
            "_view_name": "HBoxView",
            "box_style": "",
            "children": [
              "IPY_MODEL_8a8ffc8614a74079ae5315a5641fb6f8",
              "IPY_MODEL_4bce35e00d2f40498e5c6639f55adb14",
              "IPY_MODEL_231599c70a7642f1924609b1d8132430"
            ],
            "layout": "IPY_MODEL_822ac5615721492d98336c4a974d303f"
          }
        },
        "8a8ffc8614a74079ae5315a5641fb6f8": {
          "model_module": "@jupyter-widgets/controls",
          "model_name": "HTMLModel",
          "model_module_version": "1.5.0",
          "state": {
            "_dom_classes": [],
            "_model_module": "@jupyter-widgets/controls",
            "_model_module_version": "1.5.0",
            "_model_name": "HTMLModel",
            "_view_count": null,
            "_view_module": "@jupyter-widgets/controls",
            "_view_module_version": "1.5.0",
            "_view_name": "HTMLView",
            "description": "",
            "description_tooltip": null,
            "layout": "IPY_MODEL_39a35d8aafec4c898d545715757e1e24",
            "placeholder": "​",
            "style": "IPY_MODEL_c12087f3dec44781bdb726f518359654",
            "value": "100%"
          }
        },
        "4bce35e00d2f40498e5c6639f55adb14": {
          "model_module": "@jupyter-widgets/controls",
          "model_name": "FloatProgressModel",
          "model_module_version": "1.5.0",
          "state": {
            "_dom_classes": [],
            "_model_module": "@jupyter-widgets/controls",
            "_model_module_version": "1.5.0",
            "_model_name": "FloatProgressModel",
            "_view_count": null,
            "_view_module": "@jupyter-widgets/controls",
            "_view_module_version": "1.5.0",
            "_view_name": "ProgressView",
            "bar_style": "success",
            "description": "",
            "description_tooltip": null,
            "layout": "IPY_MODEL_9feb6c31400c4de08715645faf6f5e23",
            "max": 500,
            "min": 0,
            "orientation": "horizontal",
            "style": "IPY_MODEL_f6430aec2c474d1b91f18f3abfaa46ef",
            "value": 500
          }
        },
        "231599c70a7642f1924609b1d8132430": {
          "model_module": "@jupyter-widgets/controls",
          "model_name": "HTMLModel",
          "model_module_version": "1.5.0",
          "state": {
            "_dom_classes": [],
            "_model_module": "@jupyter-widgets/controls",
            "_model_module_version": "1.5.0",
            "_model_name": "HTMLModel",
            "_view_count": null,
            "_view_module": "@jupyter-widgets/controls",
            "_view_module_version": "1.5.0",
            "_view_name": "HTMLView",
            "description": "",
            "description_tooltip": null,
            "layout": "IPY_MODEL_f1d258c2d1954c11a16e5c2ff259e793",
            "placeholder": "​",
            "style": "IPY_MODEL_dd78c24e5bb0406e9d3ace833f4f78da",
            "value": " 500/500 [12:27&lt;00:00,  1.35s/it]"
          }
        },
        "822ac5615721492d98336c4a974d303f": {
          "model_module": "@jupyter-widgets/base",
          "model_name": "LayoutModel",
          "model_module_version": "1.2.0",
          "state": {
            "_model_module": "@jupyter-widgets/base",
            "_model_module_version": "1.2.0",
            "_model_name": "LayoutModel",
            "_view_count": null,
            "_view_module": "@jupyter-widgets/base",
            "_view_module_version": "1.2.0",
            "_view_name": "LayoutView",
            "align_content": null,
            "align_items": null,
            "align_self": null,
            "border": null,
            "bottom": null,
            "display": null,
            "flex": null,
            "flex_flow": null,
            "grid_area": null,
            "grid_auto_columns": null,
            "grid_auto_flow": null,
            "grid_auto_rows": null,
            "grid_column": null,
            "grid_gap": null,
            "grid_row": null,
            "grid_template_areas": null,
            "grid_template_columns": null,
            "grid_template_rows": null,
            "height": null,
            "justify_content": null,
            "justify_items": null,
            "left": null,
            "margin": null,
            "max_height": null,
            "max_width": null,
            "min_height": null,
            "min_width": null,
            "object_fit": null,
            "object_position": null,
            "order": null,
            "overflow": null,
            "overflow_x": null,
            "overflow_y": null,
            "padding": null,
            "right": null,
            "top": null,
            "visibility": null,
            "width": null
          }
        },
        "39a35d8aafec4c898d545715757e1e24": {
          "model_module": "@jupyter-widgets/base",
          "model_name": "LayoutModel",
          "model_module_version": "1.2.0",
          "state": {
            "_model_module": "@jupyter-widgets/base",
            "_model_module_version": "1.2.0",
            "_model_name": "LayoutModel",
            "_view_count": null,
            "_view_module": "@jupyter-widgets/base",
            "_view_module_version": "1.2.0",
            "_view_name": "LayoutView",
            "align_content": null,
            "align_items": null,
            "align_self": null,
            "border": null,
            "bottom": null,
            "display": null,
            "flex": null,
            "flex_flow": null,
            "grid_area": null,
            "grid_auto_columns": null,
            "grid_auto_flow": null,
            "grid_auto_rows": null,
            "grid_column": null,
            "grid_gap": null,
            "grid_row": null,
            "grid_template_areas": null,
            "grid_template_columns": null,
            "grid_template_rows": null,
            "height": null,
            "justify_content": null,
            "justify_items": null,
            "left": null,
            "margin": null,
            "max_height": null,
            "max_width": null,
            "min_height": null,
            "min_width": null,
            "object_fit": null,
            "object_position": null,
            "order": null,
            "overflow": null,
            "overflow_x": null,
            "overflow_y": null,
            "padding": null,
            "right": null,
            "top": null,
            "visibility": null,
            "width": null
          }
        },
        "c12087f3dec44781bdb726f518359654": {
          "model_module": "@jupyter-widgets/controls",
          "model_name": "DescriptionStyleModel",
          "model_module_version": "1.5.0",
          "state": {
            "_model_module": "@jupyter-widgets/controls",
            "_model_module_version": "1.5.0",
            "_model_name": "DescriptionStyleModel",
            "_view_count": null,
            "_view_module": "@jupyter-widgets/base",
            "_view_module_version": "1.2.0",
            "_view_name": "StyleView",
            "description_width": ""
          }
        },
        "9feb6c31400c4de08715645faf6f5e23": {
          "model_module": "@jupyter-widgets/base",
          "model_name": "LayoutModel",
          "model_module_version": "1.2.0",
          "state": {
            "_model_module": "@jupyter-widgets/base",
            "_model_module_version": "1.2.0",
            "_model_name": "LayoutModel",
            "_view_count": null,
            "_view_module": "@jupyter-widgets/base",
            "_view_module_version": "1.2.0",
            "_view_name": "LayoutView",
            "align_content": null,
            "align_items": null,
            "align_self": null,
            "border": null,
            "bottom": null,
            "display": null,
            "flex": null,
            "flex_flow": null,
            "grid_area": null,
            "grid_auto_columns": null,
            "grid_auto_flow": null,
            "grid_auto_rows": null,
            "grid_column": null,
            "grid_gap": null,
            "grid_row": null,
            "grid_template_areas": null,
            "grid_template_columns": null,
            "grid_template_rows": null,
            "height": null,
            "justify_content": null,
            "justify_items": null,
            "left": null,
            "margin": null,
            "max_height": null,
            "max_width": null,
            "min_height": null,
            "min_width": null,
            "object_fit": null,
            "object_position": null,
            "order": null,
            "overflow": null,
            "overflow_x": null,
            "overflow_y": null,
            "padding": null,
            "right": null,
            "top": null,
            "visibility": null,
            "width": null
          }
        },
        "f6430aec2c474d1b91f18f3abfaa46ef": {
          "model_module": "@jupyter-widgets/controls",
          "model_name": "ProgressStyleModel",
          "model_module_version": "1.5.0",
          "state": {
            "_model_module": "@jupyter-widgets/controls",
            "_model_module_version": "1.5.0",
            "_model_name": "ProgressStyleModel",
            "_view_count": null,
            "_view_module": "@jupyter-widgets/base",
            "_view_module_version": "1.2.0",
            "_view_name": "StyleView",
            "bar_color": null,
            "description_width": ""
          }
        },
        "f1d258c2d1954c11a16e5c2ff259e793": {
          "model_module": "@jupyter-widgets/base",
          "model_name": "LayoutModel",
          "model_module_version": "1.2.0",
          "state": {
            "_model_module": "@jupyter-widgets/base",
            "_model_module_version": "1.2.0",
            "_model_name": "LayoutModel",
            "_view_count": null,
            "_view_module": "@jupyter-widgets/base",
            "_view_module_version": "1.2.0",
            "_view_name": "LayoutView",
            "align_content": null,
            "align_items": null,
            "align_self": null,
            "border": null,
            "bottom": null,
            "display": null,
            "flex": null,
            "flex_flow": null,
            "grid_area": null,
            "grid_auto_columns": null,
            "grid_auto_flow": null,
            "grid_auto_rows": null,
            "grid_column": null,
            "grid_gap": null,
            "grid_row": null,
            "grid_template_areas": null,
            "grid_template_columns": null,
            "grid_template_rows": null,
            "height": null,
            "justify_content": null,
            "justify_items": null,
            "left": null,
            "margin": null,
            "max_height": null,
            "max_width": null,
            "min_height": null,
            "min_width": null,
            "object_fit": null,
            "object_position": null,
            "order": null,
            "overflow": null,
            "overflow_x": null,
            "overflow_y": null,
            "padding": null,
            "right": null,
            "top": null,
            "visibility": null,
            "width": null
          }
        },
        "dd78c24e5bb0406e9d3ace833f4f78da": {
          "model_module": "@jupyter-widgets/controls",
          "model_name": "DescriptionStyleModel",
          "model_module_version": "1.5.0",
          "state": {
            "_model_module": "@jupyter-widgets/controls",
            "_model_module_version": "1.5.0",
            "_model_name": "DescriptionStyleModel",
            "_view_count": null,
            "_view_module": "@jupyter-widgets/base",
            "_view_module_version": "1.2.0",
            "_view_name": "StyleView",
            "description_width": ""
          }
        }
      }
    }
  },
  "nbformat": 4,
  "nbformat_minor": 0
}