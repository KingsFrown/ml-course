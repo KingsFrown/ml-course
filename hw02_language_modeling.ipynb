{
  "cells": [
    {
      "cell_type": "markdown",
      "metadata": {
        "id": "view-in-github",
        "colab_type": "text"
      },
      "source": [
        "<a href=\"https://colab.research.google.com/github/KingsFrown/ml-course/blob/main/hw02_language_modeling.ipynb\" target=\"_parent\"><img src=\"https://colab.research.google.com/assets/colab-badge.svg\" alt=\"Open In Colab\"/></a>"
      ]
    },
    {
      "cell_type": "markdown",
      "metadata": {
        "id": "ZrXxcZX7cBId"
      },
      "source": [
        "### Генерация поэзии с помощью нейронных сетей: шаг 1\n",
        "##### Автор: [Радослав Нейчев](https://www.linkedin.com/in/radoslav-neychev/), @neychev\n",
        "\n",
        "Ваша основная задача: научиться генерироват стихи с помощью простой рекуррентной нейронной сети (Vanilla RNN). В качестве корпуса текстов для обучения будет выступать роман в стихах \"Евгений Онегин\" Александра Сергеевича Пушкина."
      ]
    },
    {
      "cell_type": "code",
      "execution_count": 1,
      "metadata": {
        "id": "uvJfUOxQcBIe"
      },
      "outputs": [],
      "source": [
        "# do not change the code in the block below\n",
        "# __________start of block__________\n",
        "import string\n",
        "import os\n",
        "from random import sample\n",
        "\n",
        "import numpy as np\n",
        "import torch, torch.nn as nn\n",
        "import torch.nn.functional as F\n",
        "\n",
        "from IPython.display import clear_output\n",
        "\n",
        "import matplotlib.pyplot as plt\n",
        "# __________end of block__________"
      ]
    },
    {
      "cell_type": "code",
      "execution_count": 2,
      "metadata": {
        "colab": {
          "base_uri": "https://localhost:8080/"
        },
        "id": "5sKOSFpNcBIe",
        "outputId": "983e8f6a-0440-4fc1-edcd-01a8c8c9dc3f"
      },
      "outputs": [
        {
          "output_type": "stream",
          "name": "stdout",
          "text": [
            "cuda device is available\n"
          ]
        }
      ],
      "source": [
        "# do not change the code in the block below\n",
        "# __________start of block__________\n",
        "device = torch.device('cuda') if torch.cuda.is_available() else torch.device('cpu')\n",
        "print('{} device is available'.format(device))\n",
        "# __________end of block__________"
      ]
    },
    {
      "cell_type": "markdown",
      "metadata": {
        "id": "MPenWOy01Ooa",
        "outputId": "a92e8e33-e009-4bd4-ac12-3b1b5e1cd3f2"
      },
      "source": [
        "#### 1. Загрузка данных."
      ]
    },
    {
      "cell_type": "code",
      "execution_count": 3,
      "metadata": {
        "colab": {
          "base_uri": "https://localhost:8080/"
        },
        "id": "ayEVkEHScBIe",
        "outputId": "e863116a-6c88-4074-b24f-5a9de4692414"
      },
      "outputs": [
        {
          "output_type": "stream",
          "name": "stdout",
          "text": [
            "--2024-11-06 12:26:28--  https://raw.githubusercontent.com/neychev/small_DL_repo/master/datasets/onegin.txt\n",
            "Resolving raw.githubusercontent.com (raw.githubusercontent.com)... 185.199.108.133, 185.199.109.133, 185.199.110.133, ...\n",
            "Connecting to raw.githubusercontent.com (raw.githubusercontent.com)|185.199.108.133|:443... connected.\n",
            "HTTP request sent, awaiting response... 200 OK\n",
            "Length: 262521 (256K) [text/plain]\n",
            "Saving to: ‘onegin.txt’\n",
            "\n",
            "onegin.txt          100%[===================>] 256.37K  --.-KB/s    in 0.004s  \n",
            "\n",
            "2024-11-06 12:26:29 (56.2 MB/s) - ‘onegin.txt’ saved [262521/262521]\n",
            "\n"
          ]
        }
      ],
      "source": [
        "# do not change the code in the block below\n",
        "# __________start of block__________\n",
        "!wget https://raw.githubusercontent.com/neychev/small_DL_repo/master/datasets/onegin.txt\n",
        "\n",
        "with open('onegin.txt', 'r') as iofile:\n",
        "    text = iofile.readlines()\n",
        "\n",
        "text = \"\".join([x.replace('\\t\\t', '').lower() for x in text])\n",
        "# __________end of block__________"
      ]
    },
    {
      "cell_type": "markdown",
      "metadata": {
        "id": "XQYpmGfR_gJ8"
      },
      "source": [
        "#### 2. Построение словаря и предобработка текста\n",
        "В данном задании требуется построить языковую модель на уровне символов. Приведем весь текст к нижнему регистру и построим словарь из всех символов в доступном корпусе текстов. Также добавим токен `<sos>`."
      ]
    },
    {
      "cell_type": "code",
      "execution_count": 4,
      "metadata": {
        "colab": {
          "base_uri": "https://localhost:8080/"
        },
        "id": "AbG6fqdwcBIf",
        "outputId": "b2e63729-db0a-493c-b3dd-2fd47209691d"
      },
      "outputs": [
        {
          "output_type": "stream",
          "name": "stdout",
          "text": [
            "Seems fine!\n"
          ]
        }
      ],
      "source": [
        "# do not change the code in the block below\n",
        "# __________start of block__________\n",
        "tokens = sorted(set(text.lower())) + ['<sos>']\n",
        "num_tokens = len(tokens)\n",
        "\n",
        "assert num_tokens == 84, \"Check the tokenization process\"\n",
        "\n",
        "token_to_idx = {x: idx for idx, x in enumerate(tokens)}\n",
        "idx_to_token = {idx: x for idx, x in enumerate(tokens)}\n",
        "\n",
        "assert len(tokens) == len(token_to_idx), \"Mapping should be unique\"\n",
        "\n",
        "print(\"Seems fine!\")\n",
        "\n",
        "\n",
        "text_encoded = [token_to_idx[x] for x in text]\n",
        "# __________end of block__________"
      ]
    },
    {
      "cell_type": "markdown",
      "metadata": {
        "id": "DBGbsbr2cBIf"
      },
      "source": [
        "__Ваша задача__: обучить классическую рекуррентную нейронную сеть (Vanilla RNN) предсказывать следующий символ на полученном корпусе текстов и сгенерировать последовательность длины 100 для фиксированной начальной фразы.\n",
        "\n",
        "Вы можете воспользоваться кодом с занятие №6 или же обратиться к следующим ссылкам:\n",
        "* Замечательная статья за авторством Andrej Karpathy об использовании RNN: [link](http://karpathy.github.io/2015/05/21/rnn-effectiveness/)\n",
        "* Пример char-rnn от Andrej Karpathy: [github repo](https://github.com/karpathy/char-rnn)\n",
        "* Замечательный пример генерации поэзии Шекспира: [github repo](https://github.com/spro/practical-pytorch/blob/master/char-rnn-generation/char-rnn-generation.ipynb)\n",
        "\n",
        "Данное задание является достаточно творческим. Не страшно, если поначалу оно вызывает затруднения. Последняя ссылка в списке выше может быть особенно полезна в данном случае.\n",
        "\n",
        "Далее для вашего удобства реализована функция, которая генерирует случайный батч размера `batch_size` из строк длиной `seq_length`. Вы можете использовать его при обучении модели."
      ]
    },
    {
      "cell_type": "code",
      "execution_count": 32,
      "metadata": {
        "id": "sjHKhS2hcBIf"
      },
      "outputs": [],
      "source": [
        "# do not change the code in the block below\n",
        "# __________start of block__________\n",
        "batch_size = 256\n",
        "seq_length = 100\n",
        "start_column = np.zeros((batch_size, 1), dtype=int) + token_to_idx['<sos>']\n",
        "\n",
        "def generate_chunk():\n",
        "    global text_encoded, start_column, batch_size, seq_length\n",
        "\n",
        "    start_index = np.random.randint(0, len(text_encoded) - batch_size*seq_length - 1)\n",
        "    data = np.array(text_encoded[start_index:start_index + batch_size*seq_length]).reshape((batch_size, -1))\n",
        "    yield np.hstack((start_column, data))\n",
        "# __________end of block__________"
      ]
    },
    {
      "cell_type": "markdown",
      "metadata": {
        "id": "Csr2I6t9cBIf"
      },
      "source": [
        "Пример батча:"
      ]
    },
    {
      "cell_type": "code",
      "execution_count": 33,
      "metadata": {
        "colab": {
          "base_uri": "https://localhost:8080/"
        },
        "id": "Y5HGF1gWcBIf",
        "outputId": "4760a855-ece3-4b01-e989-ffc286ab9f13"
      },
      "outputs": [
        {
          "output_type": "execute_result",
          "data": {
            "text/plain": [
              "array([[83, 55, 53, ..., 72,  1, 22],\n",
              "       [83, 36,  1, ..., 63,  1, 58],\n",
              "       [83, 45,  1, ..., 46, 53, 63],\n",
              "       ...,\n",
              "       [83,  0,  0, ..., 53, 62, 60],\n",
              "       [83, 61, 45, ..., 48, 59,  7],\n",
              "       [83,  0, 49, ..., 56, 50, 49]])"
            ]
          },
          "metadata": {},
          "execution_count": 33
        }
      ],
      "source": [
        "next(generate_chunk())"
      ]
    },
    {
      "cell_type": "markdown",
      "metadata": {
        "id": "d_8Tfh1HcBIf"
      },
      "source": [
        "Далее вам предстоит написать код для обучения модели и генерации текста."
      ]
    },
    {
      "cell_type": "code",
      "source": [
        "import torch\n",
        "import torch.nn as nn\n",
        "from torch.autograd import Variable\n",
        "\n",
        "class RNN(nn.Module):\n",
        "    def __init__(self, input_size, hidden_size, output_size, n_layers=1):\n",
        "        super(RNN, self).__init__()\n",
        "        self.input_size = input_size\n",
        "        self.hidden_size = hidden_size\n",
        "        self.output_size = output_size\n",
        "        self.n_layers = n_layers\n",
        "\n",
        "        self.encoder = nn.Embedding(input_size, hidden_size)\n",
        "        self.gru = nn.GRU(hidden_size, hidden_size, n_layers, batch_first=True)\n",
        "        self.decoder = nn.Linear(hidden_size, output_size)\n",
        "\n",
        "    def forward(self, input, hidden):\n",
        "        input = self.encoder(input)\n",
        "        output, hidden = self.gru(input, hidden)\n",
        "        output = self.decoder(output.view(input.size(0), -1))\n",
        "        return output, hidden\n",
        "\n",
        "    def init_hidden(self, batch_size):\n",
        "        return Variable(torch.zeros(self.n_layers, batch_size, self.hidden_size))\n",
        "\n",
        "def random_training_set():\n",
        "    chunk = next(generate_chunk())\n",
        "    inp = chunk[:, :-1]\n",
        "    target = chunk[:, 1:]\n",
        "    return inp, target\n",
        "\n",
        "def evaluate(prime_str='a', predict_len=100, temperature=0.8):\n",
        "    hidden = model.init_hidden(batch_size=1)\n",
        "    prime_input = [token_to_idx['<sos>']]+[token_to_idx[x] for x in prime_str]\n",
        "    predicted = prime_str\n",
        "\n",
        "    # Use priming string to \"build up\" hidden state\n",
        "    for p in range(len(prime_str)):\n",
        "        _, hidden = model(torch.tensor([prime_input[p]]).unsqueeze(1), hidden)\n",
        "    inp = prime_input[-1]\n",
        "\n",
        "    for p in range(predict_len):\n",
        "        output, hidden = model(torch.tensor([inp]).unsqueeze(1), hidden)\n",
        "\n",
        "        # Sample from the network as a multinomial distribution\n",
        "        output_dist = output.data.view(-1).div(temperature).exp()\n",
        "        top_i = torch.multinomial(output_dist, 1)[0]\n",
        "\n",
        "        # Add predicted character to string and use as next input\n",
        "        predicted_char = idx_to_token[top_i.item()]\n",
        "        predicted += predicted_char\n",
        "        inp = token_to_idx[predicted_char]\n",
        "\n",
        "    return predicted\n",
        "\n",
        "import time, math\n",
        "\n",
        "def time_since(since):\n",
        "    s = time.time() - since\n",
        "    m = math.floor(s / 60)\n",
        "    s -= m * 60\n",
        "    return '%dm %ds' % (m, s)\n",
        "\n",
        "def train(inp, target):\n",
        "    inp = torch.tensor(inp, dtype=torch.long)\n",
        "    target = torch.tensor(target, dtype=torch.long)\n",
        "    hidden = model.init_hidden(batch_size=batch_size)\n",
        "    model.zero_grad()\n",
        "    loss = 0\n",
        "\n",
        "    for c in range(seq_length):\n",
        "        output, hidden = model(inp[:, c].unsqueeze(1), hidden)\n",
        "        loss += criterion(output.view(-1, output.size(-1)), target[:, c])\n",
        "\n",
        "    loss.backward()\n",
        "    optimizer.step()\n",
        "\n",
        "    return loss.data.item() / seq_length\n",
        "\n",
        "n_epochs = 2000\n",
        "print_every = 100\n",
        "plot_every = 10\n",
        "hidden_size = 100\n",
        "n_layers = 1\n",
        "lr = 0.005\n",
        "\n",
        "model = RNN(num_tokens, hidden_size, num_tokens, n_layers)\n",
        "optimizer = torch.optim.Adam(model.parameters(), lr=lr)\n",
        "criterion = nn.CrossEntropyLoss()\n",
        "\n",
        "start = time.time()\n",
        "all_losses = []\n",
        "loss_avg = 0\n",
        "\n",
        "for epoch in range(1, n_epochs + 1):\n",
        "    inp, target = random_training_set()\n",
        "    loss = train(inp, target)\n",
        "    loss_avg += loss\n",
        "\n",
        "    if epoch % print_every == 0:\n",
        "        print('[%s (%d %d%%) %.4f]' % (time_since(start), epoch, epoch / n_epochs * 100, loss))\n",
        "        print(evaluate(' мой дядя самых честных правил', 100), '\\n')\n",
        "\n",
        "    if epoch % plot_every == 0:\n",
        "        all_losses.append(loss_avg / plot_every)\n",
        "        loss_avg = 0\n"
      ],
      "metadata": {
        "colab": {
          "base_uri": "https://localhost:8080/"
        },
        "id": "PG6tNJQLpZ8J",
        "outputId": "fae9520b-76d6-454e-8dde-57d780f98e89"
      },
      "execution_count": 45,
      "outputs": [
        {
          "output_type": "stream",
          "name": "stdout",
          "text": [
            "[0m 31s (100 5%) 2.1940]\n",
            " мой дядя самых честных правил встали, ве\n",
            "табы в здасть я больный\n",
            "днаночь.\n",
            "на серит и струстьяны по лесть.\n",
            "\n",
            "\n",
            "xxi\n",
            "\n",
            "моня сача.\n",
            "придо \n",
            "\n",
            "[1m 2s (200 10%) 1.9554]\n",
            " мой дядя самых честных правила\n",
            "его уж не угроский изду недхом!.\n",
            "он соселово могле\n",
            "посклеты сумой проской.\n",
            "он и часто скоровит обр \n",
            "\n",
            "[1m 35s (300 15%) 1.8279]\n",
            " мой дядя самых честных правилый;\n",
            "но шали, чуть нос розало.\n",
            "вохвала в друг альбомой ждерь ужи\n",
            "замечает быть восошели,\n",
            "был преждет  \n",
            "\n",
            "[2m 5s (400 20%) 1.7249]\n",
            " мой дядя самых честных правильной\n",
            "и друг окно любить волненье\n",
            "и глеби моильной прилетал;\n",
            "то нашал закведи щадней,\n",
            "глубравили как  \n",
            "\n",
            "[2m 36s (500 25%) 1.6600]\n",
            " мой дядя самых честных правила:\n",
            "ожденным сердце смиренною други.\n",
            "\n",
            "\n",
            "\n",
            "xii\n",
            "\n",
            "и в шуме на лень нас ужелья:\n",
            "не шлино так от плухом? – н \n",
            "\n",
            "[3m 8s (600 30%) 1.8323]\n",
            " мой дядя самых честных правил разлодный,\n",
            "с как открыла студный казникого,\n",
            "хоть горязны протило всех\n",
            "прозатий?. у поэтан;\n",
            "уж накни \n",
            "\n",
            "[3m 38s (700 35%) 1.6261]\n",
            " мой дядя самых честных правил.\n",
            "\n",
            "\n",
            "\n",
            "xx\n",
            "\n",
            "он садит: что на скажена,\n",
            "предут, не поздно души\n",
            "вас, их был теменной тогда\n",
            "проказа молоду  \n",
            "\n",
            "[4m 9s (800 40%) 1.6064]\n",
            " мой дядя самых честных правилу,\n",
            "а враждо третится полумы,\n",
            "что назде росствуя томную различа;\n",
            "он безвы мижно, скачто татьяна,\n",
            "с ни \n",
            "\n",
            "[4m 40s (900 45%) 1.5781]\n",
            " мой дядя самых честных правился\n",
            "взор буду честь туманный,\n",
            "за зареняясь в тридцать летил.\n",
            "всё мы, мечтанья друзей огородный,\n",
            "как э \n",
            "\n",
            "[5m 10s (1000 50%) 1.6376]\n",
            " мой дядя самых честных правили\n",
            "у настом огнен.\n",
            "\n",
            "\n",
            "\n",
            "xxxvii\n",
            "\n",
            "«что-надзливицу чтоб позоровит,\n",
            "а свете, в быльный речтей;\n",
            "она за скажи \n",
            "\n",
            "[5m 40s (1100 55%) 1.5959]\n",
            " мой дядя самых честных правилость\n",
            "и броль пред шептей не ваши блинает\n",
            "их послушется вокралет,\n",
            "ее стлярик молоду нетучный\n",
            "нашель и \n",
            "\n",
            "[6m 11s (1200 60%) 1.8124]\n",
            " мой дядя самых честных правила\n",
            "сосед она знать узнася,\n",
            "созор, как потомный нет,\n",
            "коня с ней повесели\n",
            "отдала признанней,\n",
            "иль развер \n",
            "\n",
            "[6m 41s (1300 65%) 1.5539]\n",
            " мой дядя самых честных правилы;\n",
            "толгой брего скуке,\n",
            "и то в то: поволений был в нем,\n",
            "как в разлозь в мартые шага\n",
            "с ней людя– ее ст \n",
            "\n",
            "[7m 11s (1400 70%) 1.5440]\n",
            " мой дядя самых честных правились,\n",
            "к том на смех окну обратилась\n",
            "томы слышит не меж горях,\n",
            "что в будтян под полет поэта\n",
            "служит,\n",
            "вс \n",
            "\n",
            "[7m 41s (1500 75%) 1.5540]\n",
            " мой дядя самых честных правилась,\n",
            "как киру с наказник мой и ей\n",
            "заветный жизни моих друзья,\n",
            "татьяна подобно, сокный глакать,\n",
            "и вст \n",
            "\n",
            "[8m 11s (1600 80%) 1.6768]\n",
            " мой дядя самых честных правились,\n",
            "и ложденик, и не раздель;\n",
            "но творей, где всё в вестра слово;\n",
            "в ней недушался голос.\n",
            "\n",
            "\n",
            "\n",
            "xi\n",
            "\n",
            "вот  \n",
            "\n",
            "[8m 44s (1700 85%) 1.5792]\n",
            " мой дядя самых честных правило,\n",
            "законец блискаю\n",
            "заремир, он смиренный брал,\n",
            "но под буду в благодые в том\n",
            "и готовом женьем\n",
            "долго ч \n",
            "\n",
            "[9m 14s (1800 90%) 1.4936]\n",
            " мой дядя самых честных правило\n",
            "поблиса, устами мнего.\n",
            "поспоминаненный друг,\n",
            "пора, скупет на шуменской\n",
            "взору,\n",
            "пора поображу ль,\n",
            "и  \n",
            "\n",
            "[9m 43s (1900 95%) 1.5016]\n",
            " мой дядя самых честных правиль\n",
            "и вдруг был он повести не долгов\n",
            "потом дворовает он.\n",
            "\n",
            "\n",
            "\n",
            "xxiii\n",
            "\n",
            "он тебя долго рассеянь,\n",
            "в раняет ка \n",
            "\n",
            "[10m 14s (2000 100%) 1.4886]\n",
            " мой дядя самых честных правил\n",
            "смател за вот плакать ни барышня,\n",
            "и всё не ни тревожить.\n",
            "она лунясь челяд не намая\n",
            "уж и родно в ее  \n",
            "\n"
          ]
        }
      ]
    },
    {
      "cell_type": "code",
      "source": [
        "import matplotlib.pyplot as plt\n",
        "import matplotlib.ticker as ticker\n",
        "%matplotlib inline\n",
        "\n",
        "plt.figure()\n",
        "plt.plot(all_losses)"
      ],
      "metadata": {
        "colab": {
          "base_uri": "https://localhost:8080/",
          "height": 447
        },
        "id": "CwPZLSSnn8hM",
        "outputId": "36382fcf-d315-40db-8f86-88fbd204fb08"
      },
      "execution_count": 46,
      "outputs": [
        {
          "output_type": "execute_result",
          "data": {
            "text/plain": [
              "[<matplotlib.lines.Line2D at 0x7e49974ee650>]"
            ]
          },
          "metadata": {},
          "execution_count": 46
        },
        {
          "output_type": "display_data",
          "data": {
            "text/plain": [
              "<Figure size 640x480 with 1 Axes>"
            ],
            "image/png": "[encoded data removed]"
          },
          "metadata": {}
        }
      ]
    },
    {
      "cell_type": "markdown",
      "metadata": {
        "id": "91Kx8Yu7cBIg"
      },
      "source": [
        "В качестве иллюстрации ниже доступен график значений функции потерь, построенный в ходе обучения авторской сети (сам код для ее обучения вам и предстоит написать)."
      ]
    },
    {
      "cell_type": "code",
      "execution_count": null,
      "metadata": {
        "id": "7fX9TH7NcBIg",
        "outputId": "958d4f9d-2362-44db-bee3-710541b3388b"
      },
      "outputs": [
        {
          "data": {
            "image/png": "[encoded data removed]",
            "text/plain": [
              "<Figure size 432x288 with 1 Axes>"
            ]
          },
          "metadata": {
            "needs_background": "light"
          },
          "output_type": "display_data"
        }
      ],
      "source": []
    },
    {
      "cell_type": "markdown",
      "metadata": {
        "id": "00UrQh5xcBIg"
      },
      "source": [
        "Шаблон функции `generate_sample` также доступен ниже. Вы можете как дозаполнить его, так и написать свою собственную функцию с нуля. Не забывайте, что все примеры в обучающей выборке начинались с токена `<sos>`."
      ]
    },
    {
      "cell_type": "code",
      "execution_count": 47,
      "metadata": {
        "id": "kdmg2rOScBIg"
      },
      "outputs": [],
      "source": [
        "def generate_sample(char_rnn, seed_phrase=None, max_length=200, temperature=1.0, device=device):\n",
        "    '''\n",
        "    The function generates text given a phrase of length at least SEQ_LENGTH.\n",
        "    :param seed_phrase: prefix characters. The RNN is asked to continue the phrase\n",
        "    :param max_length: maximum output length, including seed_phrase\n",
        "    :param temperature: coefficient for sampling.  higher temperature produces more chaotic outputs,\n",
        "                        smaller temperature converges to the single most likely output\n",
        "    '''\n",
        "\n",
        "    if seed_phrase is not None:\n",
        "        x_sequence = [token_to_idx['<sos>']] + [token_to_idx[token] for token in seed_phrase]\n",
        "    else:\n",
        "        x_sequence = [token_to_idx['<sos>']]\n",
        "\n",
        "    x_sequence = torch.tensor([x_sequence], dtype=torch.long).to(device)\n",
        "\n",
        "    #feed the seed phrase, if any\n",
        "\n",
        "    # your code here\n",
        "\n",
        "    return ''.join([tokens[ix] for ix in x_sequence.cpu().data.numpy()[0]])"
      ]
    },
    {
      "cell_type": "markdown",
      "metadata": {
        "id": "fgXUu8ILcBIg"
      },
      "source": [
        "Пример текста сгенерированного обученной моделью доступен ниже. Не страшно, что в тексте много несуществующих слов. Используемая модель очень проста: это простая классическая RNN."
      ]
    },
    {
      "cell_type": "code",
      "source": [
        "print(evaluate(prime_str=' мой дядя самых честных правил', predict_len=500, temperature=0.8))"
      ],
      "metadata": {
        "colab": {
          "base_uri": "https://localhost:8080/"
        },
        "id": "CcSqGyHyttrF",
        "outputId": "097619ff-3250-45c1-fcd1-12b9c480d412"
      },
      "execution_count": 48,
      "outputs": [
        {
          "output_type": "stream",
          "name": "stdout",
          "text": [
            " мой дядя самых честных правилась\n",
            "подражают он из милу…» —\n",
            "«и уж их к нем обаз и зрек\n",
            "ужела соб венов?\n",
            "\n",
            "\n",
            "\n",
            "xli\n",
            "\n",
            "и вам расспеды, что ражденьях\n",
            "и праводит страстей всё беретил\n",
            "и тетом тенистью полив моя;\n",
            "тоской, нежды хочный лесом\n",
            "и верный наши голос петушки\n",
            "за поэтожных порти, как ний.\n",
            "«не говорит. зикокого вестом:\n",
            "но мученья в ванили.\n",
            "«сидя ждут он бедавшись —\n",
            "она стоя навсярка в бена\n",
            "пора, поэт стелет молодой,\n",
            "что сердечной розов напела,\n",
            "упруг может; уж огороды,\n",
            "заведученный трике,\n",
            "восторог невольно возок.\n",
            "\n",
            "\n",
            "\n",
            "xxviii\n",
            "\n",
            "там про\n"
          ]
        }
      ]
    },
    {
      "cell_type": "code",
      "execution_count": null,
      "metadata": {
        "id": "rheJT_wbcBIg",
        "outputId": "d488ee22-6fbf-4da9-d250-8140aced54d4"
      },
      "outputs": [
        {
          "name": "stdout",
          "output_type": "stream",
          "text": [
            "<sos> мой дядя самых честных правилас;\n",
            "\n",
            "\n",
            "\n",
            "xiv\n",
            "\n",
            "но как потокой.\n",
            "\n",
            "\n",
            "\n",
            "xii\n",
            "\n",
            "«я свобред не словавран в скорей,\n",
            "для с посвялесь мне моловой,\n",
            "те ты,\n",
            "перегиной в тям праздной\n",
            "и привезут перваю вся вновся сквозь ти стала сблился,\n",
            "и старый свимарной таня обратель любова не когда и нет волностье нежной\n",
            "тишен,\n",
            "перестоком.\n",
            "«поже постаничив очествы\n",
            "в и старько забаньем и заковенью,\n",
            "ее своя моднать наводушта;\n",
            "какой нет поли своем горозный и быле и, законно он ходушних недважный плая\n",
            "с за стра.\n",
            "\n",
            "\n",
            "\n",
            "xvii\n",
            "\n",
            "\n",
            "\n",
            "\n",
            "xxvi\n",
            "\n",
            "все \n"
          ]
        }
      ],
      "source": [
        "print(generate_sample(model, ' мой дядя самых честных правил', max_length=500, temperature=0.8))"
      ]
    },
    {
      "cell_type": "markdown",
      "metadata": {
        "id": "9Gw6uy9FcBIg"
      },
      "source": [
        "### Сдача задания\n",
        "Сгенерируйте десять последовательностей длиной 500, используя строку ' мой дядя самых честных правил'. Температуру для генерации выберите самостоятельно на основании визуального качества генериуремого текста. Не забудьте удалить все технические токены в случае их наличия.\n",
        "\n",
        "Сгенерированную последовательность сохрание в переменную `generated_phrase` и сдайте сгенерированный ниже файл в контест."
      ]
    },
    {
      "cell_type": "code",
      "execution_count": 55,
      "metadata": {
        "id": "Cm0NXYHVcBIg"
      },
      "outputs": [],
      "source": [
        "seed_phrase = ' мой дядя самых честных правил'"
      ]
    },
    {
      "cell_type": "code",
      "execution_count": 57,
      "metadata": {
        "id": "USHV7vi7cBIg"
      },
      "outputs": [],
      "source": [
        "generated_phrases = [evaluate(prime_str=' мой дядя самых честных правил', predict_len=500-30, temperature=0.8) for _ in range(10)]\n",
        "\n",
        "# For example:\n",
        "\n",
        "# generated_phrases = [\n",
        "#     generate_sample(\n",
        "#         model,\n",
        "#         ' мой дядя самых честных правил',\n",
        "#         max_length=500,\n",
        "#         temperature=1.\n",
        "#     ).replace('<sos>', '')\n",
        "#     for _ in range(10)\n",
        "# ]"
      ]
    },
    {
      "cell_type": "code",
      "execution_count": 58,
      "metadata": {
        "colab": {
          "base_uri": "https://localhost:8080/"
        },
        "id": "urvCWpPlcBIg",
        "outputId": "fe0fb7a2-16a5-4716-b056-fa0b64cb470f"
      },
      "outputs": [
        {
          "output_type": "stream",
          "name": "stdout",
          "text": [
            "File saved to `submission_dict.json`\n"
          ]
        }
      ],
      "source": [
        "# do not change the code in the block below\n",
        "# __________start of block__________\n",
        "\n",
        "import json\n",
        "if 'generated_phrases' not in locals():\n",
        "    raise ValueError(\"Please, save generated phrases to `generated_phrases` variable\")\n",
        "\n",
        "for phrase in generated_phrases:\n",
        "\n",
        "    if not isinstance(phrase, str):\n",
        "        raise ValueError(\"The generated phrase should be a string\")\n",
        "\n",
        "    if len(phrase) != 500:\n",
        "        raise ValueError(\"The `generated_phrase` length should be equal to 500\")\n",
        "\n",
        "    assert all([x in set(tokens) for x in set(list(phrase))]), 'Unknown tokens detected, check your submission!'\n",
        "\n",
        "\n",
        "submission_dict = {\n",
        "    'token_to_idx': token_to_idx,\n",
        "    'generated_phrases': generated_phrases\n",
        "}\n",
        "\n",
        "with open('submission_dict.json', 'w') as iofile:\n",
        "    json.dump(submission_dict, iofile)\n",
        "print('File saved to `submission_dict.json`')\n",
        "# __________end of block__________"
      ]
    },
    {
      "cell_type": "markdown",
      "metadata": {
        "id": "qq4K09dacBIg"
      },
      "source": [
        "На этом задание завершено. Поздравляем!"
      ]
    }
  ],
  "metadata": {
    "accelerator": "GPU",
    "anaconda-cloud": {},
    "colab": {
      "provenance": [],
      "include_colab_link": true
    },
    "kernelspec": {
      "display_name": "Py3 Research",
      "language": "python",
      "name": "py3_research"
    },
    "language_info": {
      "codemirror_mode": {
        "name": "ipython",
        "version": 3
      },
      "file_extension": ".py",
      "mimetype": "text/x-python",
      "name": "python",
      "nbconvert_exporter": "python",
      "pygments_lexer": "ipython3",
      "version": "3.7.10"
    }
  },
  "nbformat": 4,
  "nbformat_minor": 0
}